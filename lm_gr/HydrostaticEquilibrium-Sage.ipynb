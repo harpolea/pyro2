{
 "cells": [
  {
   "cell_type": "code",
   "execution_count": 1,
   "metadata": {
    "collapsed": true
   },
   "outputs": [],
   "source": [
    "%display latex\n",
    "omit_function_args(True)"
   ]
  },
  {
   "cell_type": "code",
   "execution_count": 82,
   "metadata": {
    "collapsed": false
   },
   "outputs": [],
   "source": [
    "Mfld = Manifold(4, 'M')\n",
    "X.<t,x,y, r> = Mfld.chart(r't x y r')\n",
    "\n",
    "var('G M c pi R'); assume(G>0); assume(c>0); assume(M>0); assume(R>0)"
   ]
  },
  {
   "cell_type": "code",
   "execution_count": 83,
   "metadata": {
    "collapsed": true
   },
   "outputs": [],
   "source": [
    "Y.<t,x,y,rp> = Mfld.chart(r\"t x y rp:r'\")"
   ]
  },
  {
   "cell_type": "code",
   "execution_count": 92,
   "metadata": {
    "collapsed": false
   },
   "outputs": [
    {
     "name": "stdout",
     "output_type": "stream",
     "text": [
      "Check of the inverse coordinate transformation:\n",
      "   t == t\n",
      "   x == x\n",
      "   y == y\n",
      "   r == r\n",
      "   t == t\n",
      "   x == x\n",
      "   y == y\n",
      "   rp == rp\n"
     ]
    }
   ],
   "source": [
    "trans = X.transition_map(Y, (t, x, y, r-R))\n",
    "trans.set_inverse(t, x, y, rp+R)"
   ]
  },
  {
   "cell_type": "code",
   "execution_count": 93,
   "metadata": {
    "collapsed": false
   },
   "outputs": [
    {
     "data": {
      "text/html": [
       "<html><script type=\"math/tex; mode=display\">\\newcommand{\\Bold}[1]{\\mathbf{#1}}g = \\left( -\\frac{c^{2} r - 2 \\, G M}{c^{2} r} \\right) \\mathrm{d} t\\otimes \\mathrm{d} t + \\left( \\frac{c^{2} r + 2 \\, G M}{c^{2} r} \\right) \\mathrm{d} x\\otimes \\mathrm{d} x + \\left( \\frac{c^{2} r + 2 \\, G M}{c^{2} r} \\right) \\mathrm{d} y\\otimes \\mathrm{d} y + \\left( \\frac{c^{2} r + 2 \\, G M}{c^{2} r} \\right) \\mathrm{d} r\\otimes \\mathrm{d} r</script></html>"
      ],
      "text/plain": [
       "g = -(c^2*r - 2*G*M)/(c^2*r) dt*dt + (c^2*r + 2*G*M)/(c^2*r) dx*dx + (c^2*r + 2*G*M)/(c^2*r) dy*dy + (c^2*r + 2*G*M)/(c^2*r) dr*dr"
      ]
     },
     "execution_count": 93,
     "metadata": {},
     "output_type": "execute_result"
    }
   ],
   "source": [
    "g = Mfld.lorentzian_metric('g')\n",
    "g[0,0] = -(1 - 2*G*M/ (r*c**2))\n",
    "g[1,1] = 1 + 2* G* M/(r*c**2)\n",
    "g[2,2] = g[1,1]\n",
    "g[3,3] = g[1,1]\n",
    "g.display()"
   ]
  },
  {
   "cell_type": "code",
   "execution_count": 94,
   "metadata": {
    "collapsed": false
   },
   "outputs": [
    {
     "data": {
      "text/html": [
       "<html><script type=\"math/tex; mode=display\">\\newcommand{\\Bold}[1]{\\mathbf{#1}}g = \\left( -\\frac{R c^{2} + c^{2} {r'} - 2 \\, G M}{R c^{2} + c^{2} {r'}} \\right) \\mathrm{d} t\\otimes \\mathrm{d} t + \\left( \\frac{R c^{2} + c^{2} {r'} + 2 \\, G M}{R c^{2} + c^{2} {r'}} \\right) \\mathrm{d} x\\otimes \\mathrm{d} x + \\left( \\frac{R c^{2} + c^{2} {r'} + 2 \\, G M}{R c^{2} + c^{2} {r'}} \\right) \\mathrm{d} y\\otimes \\mathrm{d} y + \\left( \\frac{R c^{2} + c^{2} {r'} + 2 \\, G M}{R c^{2} + c^{2} {r'}} \\right) \\mathrm{d} {r'}\\otimes \\mathrm{d} {r'}</script></html>"
      ],
      "text/plain": [
       "g = -(R*c^2 + c^2*rp - 2*G*M)/(R*c^2 + c^2*rp) dt*dt + (R*c^2 + c^2*rp + 2*G*M)/(R*c^2 + c^2*rp) dx*dx + (R*c^2 + c^2*rp + 2*G*M)/(R*c^2 + c^2*rp) dy*dy + (R*c^2 + c^2*rp + 2*G*M)/(R*c^2 + c^2*rp) drp*drp"
      ]
     },
     "execution_count": 94,
     "metadata": {},
     "output_type": "execute_result"
    }
   ],
   "source": [
    "g.display(Y.frame(), Y)"
   ]
  },
  {
   "cell_type": "code",
   "execution_count": 95,
   "metadata": {
    "collapsed": true
   },
   "outputs": [],
   "source": [
    "g_up = g.up(g)"
   ]
  },
  {
   "cell_type": "code",
   "execution_count": 111,
   "metadata": {
    "collapsed": false
   },
   "outputs": [
    {
     "data": {
      "text/html": [
       "<html><script type=\"math/tex; mode=display\">\\newcommand{\\Bold}[1]{\\mathbf{#1}}\\begin{array}{lcl} \\Gamma_{ \\phantom{\\, t } \\, t \\, {r'} }^{ \\, t \\phantom{\\, t } \\phantom{\\, {r'} } } & = & \\frac{G M}{R^{2} c^{2} + c^{2} {r'}^{2} - 2 \\, G M {r'} + 2 \\, {\\left(c^{2} {r'} - G M\\right)} R} \\\\ \\Gamma_{ \\phantom{\\, t } \\, {r'} \\, t }^{ \\, t \\phantom{\\, {r'} } \\phantom{\\, t } } & = & \\frac{G M}{R^{2} c^{2} + c^{2} {r'}^{2} - 2 \\, G M {r'} + 2 \\, {\\left(c^{2} {r'} - G M\\right)} R} \\\\ \\Gamma_{ \\phantom{\\, x } \\, x \\, {r'} }^{ \\, x \\phantom{\\, x } \\phantom{\\, {r'} } } & = & -\\frac{G M}{R^{2} c^{2} + c^{2} {r'}^{2} + 2 \\, G M {r'} + 2 \\, {\\left(c^{2} {r'} + G M\\right)} R} \\\\ \\Gamma_{ \\phantom{\\, x } \\, {r'} \\, x }^{ \\, x \\phantom{\\, {r'} } \\phantom{\\, x } } & = & -\\frac{G M}{R^{2} c^{2} + c^{2} {r'}^{2} + 2 \\, G M {r'} + 2 \\, {\\left(c^{2} {r'} + G M\\right)} R} \\\\ \\Gamma_{ \\phantom{\\, y } \\, y \\, {r'} }^{ \\, y \\phantom{\\, y } \\phantom{\\, {r'} } } & = & -\\frac{G M}{R^{2} c^{2} + c^{2} {r'}^{2} + 2 \\, G M {r'} + 2 \\, {\\left(c^{2} {r'} + G M\\right)} R} \\\\ \\Gamma_{ \\phantom{\\, y } \\, {r'} \\, y }^{ \\, y \\phantom{\\, {r'} } \\phantom{\\, y } } & = & -\\frac{G M}{R^{2} c^{2} + c^{2} {r'}^{2} + 2 \\, G M {r'} + 2 \\, {\\left(c^{2} {r'} + G M\\right)} R} \\\\ \\Gamma_{ \\phantom{\\, {r'} } \\, t \\, t }^{ \\, {r'} \\phantom{\\, t } \\phantom{\\, t } } & = & \\frac{G M}{R^{2} c^{2} + c^{2} {r'}^{2} + 2 \\, G M {r'} + 2 \\, {\\left(c^{2} {r'} + G M\\right)} R} \\\\ \\Gamma_{ \\phantom{\\, {r'} } \\, x \\, x }^{ \\, {r'} \\phantom{\\, x } \\phantom{\\, x } } & = & \\frac{G M}{R^{2} c^{2} + c^{2} {r'}^{2} + 2 \\, G M {r'} + 2 \\, {\\left(c^{2} {r'} + G M\\right)} R} \\\\ \\Gamma_{ \\phantom{\\, {r'} } \\, y \\, y }^{ \\, {r'} \\phantom{\\, y } \\phantom{\\, y } } & = & \\frac{G M}{R^{2} c^{2} + c^{2} {r'}^{2} + 2 \\, G M {r'} + 2 \\, {\\left(c^{2} {r'} + G M\\right)} R} \\\\ \\Gamma_{ \\phantom{\\, {r'} } \\, {r'} \\, {r'} }^{ \\, {r'} \\phantom{\\, {r'} } \\phantom{\\, {r'} } } & = & -\\frac{G M}{R^{2} c^{2} + c^{2} {r'}^{2} + 2 \\, G M {r'} + 2 \\, {\\left(c^{2} {r'} + G M\\right)} R} \\end{array}</script></html>"
      ],
      "text/plain": [
       "Gam^t_t,rp = G*M/(R^2*c^2 + c^2*rp^2 - 2*G*M*rp + 2*(c^2*rp - G*M)*R) \n",
       "Gam^t_rp,t = G*M/(R^2*c^2 + c^2*rp^2 - 2*G*M*rp + 2*(c^2*rp - G*M)*R) \n",
       "Gam^x_x,rp = -G*M/(R^2*c^2 + c^2*rp^2 + 2*G*M*rp + 2*(c^2*rp + G*M)*R) \n",
       "Gam^x_rp,x = -G*M/(R^2*c^2 + c^2*rp^2 + 2*G*M*rp + 2*(c^2*rp + G*M)*R) \n",
       "Gam^y_y,rp = -G*M/(R^2*c^2 + c^2*rp^2 + 2*G*M*rp + 2*(c^2*rp + G*M)*R) \n",
       "Gam^y_rp,y = -G*M/(R^2*c^2 + c^2*rp^2 + 2*G*M*rp + 2*(c^2*rp + G*M)*R) \n",
       "Gam^rp_t,t = G*M/(R^2*c^2 + c^2*rp^2 + 2*G*M*rp + 2*(c^2*rp + G*M)*R) \n",
       "Gam^rp_x,x = G*M/(R^2*c^2 + c^2*rp^2 + 2*G*M*rp + 2*(c^2*rp + G*M)*R) \n",
       "Gam^rp_y,y = G*M/(R^2*c^2 + c^2*rp^2 + 2*G*M*rp + 2*(c^2*rp + G*M)*R) \n",
       "Gam^rp_rp,rp = -G*M/(R^2*c^2 + c^2*rp^2 + 2*G*M*rp + 2*(c^2*rp + G*M)*R) "
      ]
     },
     "execution_count": 111,
     "metadata": {},
     "output_type": "execute_result"
    }
   ],
   "source": [
    "nab = g.connection()\n",
    "nab.display(Y.frame(), Y)"
   ]
  },
  {
   "cell_type": "code",
   "execution_count": 99,
   "metadata": {
    "collapsed": false
   },
   "outputs": [
    {
     "data": {
      "text/html": [
       "<html><script type=\"math/tex; mode=display\">\\newcommand{\\Bold}[1]{\\mathbf{#1}}T = \\left( \\frac{c^{6} r^{2} \\rho + 4 \\, {\\left(c^{2} \\rho + P\\right)} G^{2} M^{2} - {\\left(c^{6} - c^{4}\\right)} r^{2} P - 4 \\, {\\left(c^{4} r \\rho + c^{2} r P\\right)} G M}{c^{6} r^{2} - 2 \\, G M c^{4} r} \\right) \\frac{\\partial}{\\partial t }\\otimes \\frac{\\partial}{\\partial t } + \\left( \\frac{c^{2} r P}{c^{2} r + 2 \\, G M} \\right) \\frac{\\partial}{\\partial x }\\otimes \\frac{\\partial}{\\partial x } + \\left( \\frac{c^{2} r P}{c^{2} r + 2 \\, G M} \\right) \\frac{\\partial}{\\partial y }\\otimes \\frac{\\partial}{\\partial y } + \\left( \\frac{c^{2} r P}{c^{2} r + 2 \\, G M} \\right) \\frac{\\partial}{\\partial r }\\otimes \\frac{\\partial}{\\partial r }</script></html>"
      ],
      "text/plain": [
       "T = (c^6*r^2*rho + 4*(c^2*rho + P)*G^2*M^2 - (c^6 - c^4)*r^2*P - 4*(c^4*r*rho + c^2*r*P)*G*M)/(c^6*r^2 - 2*G*M*c^4*r) d/dt*d/dt + c^2*r*P/(c^2*r + 2*G*M) d/dx*d/dx + c^2*r*P/(c^2*r + 2*G*M) d/dy*d/dy + c^2*r*P/(c^2*r + 2*G*M) d/dr*d/dr"
      ]
     },
     "execution_count": 99,
     "metadata": {},
     "output_type": "execute_result"
    }
   ],
   "source": [
    "# density, pressure enthalpy: \n",
    "rho = function('rho', latex_name=r'\\rho')(r)\n",
    "p = function('P')(r)\n",
    "h = function('h')(r)\n",
    "\n",
    "u = Mfld.vector_field('u')\n",
    "u[0] = sqrt(-g[0,0])\n",
    "\n",
    "T = (rho + p/c^2) * u * u + p * g_up\n",
    "T.set_name('T')\n",
    "T.display()"
   ]
  },
  {
   "cell_type": "code",
   "execution_count": 101,
   "metadata": {
    "collapsed": true
   },
   "outputs": [],
   "source": [
    "# Einstein equations\n",
    "Ricci = g.ricci()\n",
    "Ric_scalar = g.ricci_scalar()\n",
    "E = Ricci - (Ric_scalar*g)/2\n",
    "\n",
    "co = nab(T)\n",
    "cosum = 0\n",
    "\n",
    "# radial component of the covariant derivative: \n",
    "for i in Mfld.irange():\n",
    "    cosum += co[i,1,i]\n",
    "    "
   ]
  },
  {
   "cell_type": "code",
   "execution_count": 102,
   "metadata": {
    "collapsed": true
   },
   "outputs": [],
   "source": [
    "# solve for dp/dr\n",
    "E2 = solve(cosum.expr(), p.diff(r))[0]\n",
    "#ExpressionNice(E2)"
   ]
  },
  {
   "cell_type": "code",
   "execution_count": 103,
   "metadata": {
    "collapsed": false
   },
   "outputs": [],
   "source": [
    "from sage.manifolds.utilities import ExpressionNice"
   ]
  },
  {
   "cell_type": "code",
   "execution_count": 104,
   "metadata": {
    "collapsed": false
   },
   "outputs": [
    {
     "data": {
      "text/html": [
       "<html><script type=\"math/tex; mode=display\">\\newcommand{\\Bold}[1]{\\mathbf{#1}}\\frac{\\partial\\,P}{\\partial r} = r_{1}</script></html>"
      ],
      "text/plain": [
       "d(P)/dr == r1"
      ]
     },
     "execution_count": 104,
     "metadata": {},
     "output_type": "execute_result"
    }
   ],
   "source": [
    "ExpressionNice(E2)"
   ]
  },
  {
   "cell_type": "code",
   "execution_count": 110,
   "metadata": {
    "collapsed": false
   },
   "outputs": [
    {
     "data": {
      "text/html": [
       "<html><script type=\"math/tex; mode=display\">\\newcommand{\\Bold}[1]{\\mathbf{#1}}\\left[\\left[\\left[0, 0, 0, \\frac{c^{6} r^{3} \\frac{\\partial\\,\\rho}{\\partial r} + 4 \\, {\\left(c^{2} r \\frac{\\partial\\,\\rho}{\\partial r} - 2 \\, c^{2} \\rho + r \\frac{\\partial\\,P}{\\partial r} - 2 \\, P\\right)} G^{2} M^{2} - {\\left(c^{6} - c^{4}\\right)} r^{3} \\frac{\\partial\\,P}{\\partial r} - 4 \\, {\\left(c^{4} r^{2} \\frac{\\partial\\,\\rho}{\\partial r} - c^{4} r \\rho + c^{2} r^{2} \\frac{\\partial\\,P}{\\partial r} - c^{2} r P\\right)} G M}{c^{6} r^{3} - 2 \\, G M c^{4} r^{2}}\\right], \\left[0, 0, 0, 0\\right], \\left[0, 0, 0, 0\\right], \\left[-\\frac{2 \\, {\\left(c^{2} \\rho + P\\right)} G^{2} M^{2} - {\\left(c^{4} r \\rho + c^{2} r P\\right)} G M}{c^{6} r^{3} + 2 \\, G M c^{4} r^{2}}, 0, 0, 0\\right]\\right], \\left[\\left[0, 0, 0, 0\\right], \\left[0, 0, 0, \\frac{c^{2} r \\frac{\\partial\\,P}{\\partial r}}{c^{2} r + 2 \\, G M}\\right], \\left[0, 0, 0, 0\\right], \\left[0, 0, 0, 0\\right]\\right], \\left[\\left[0, 0, 0, 0\\right], \\left[0, 0, 0, 0\\right], \\left[0, 0, 0, \\frac{c^{2} r \\frac{\\partial\\,P}{\\partial r}}{c^{2} r + 2 \\, G M}\\right], \\left[0, 0, 0, 0\\right]\\right], \\left[\\left[-\\frac{2 \\, {\\left(c^{2} \\rho + P\\right)} G^{2} M^{2} - {\\left(c^{4} r \\rho + c^{2} r P\\right)} G M}{c^{6} r^{3} + 2 \\, G M c^{4} r^{2}}, 0, 0, 0\\right], \\left[0, 0, 0, 0\\right], \\left[0, 0, 0, 0\\right], \\left[0, 0, 0, \\frac{c^{2} r \\frac{\\partial\\,P}{\\partial r}}{c^{2} r + 2 \\, G M}\\right]\\right]\\right]</script></html>"
      ],
      "text/plain": [
       "[[[0,\n",
       "   0,\n",
       "   0,\n",
       "   (c^6*r^3*d(rho)/dr + 4*(c^2*r*d(rho)/dr - 2*c^2*rho + r*d(P)/dr - 2*P)*G^2*M^2 - (c^6 - c^4)*r^3*d(P)/dr - 4*(c^4*r^2*d(rho)/dr - c^4*r*rho + c^2*r^2*d(P)/dr - c^2*r*P)*G*M)/(c^6*r^3 - 2*G*M*c^4*r^2)],\n",
       "  [0, 0, 0, 0],\n",
       "  [0, 0, 0, 0],\n",
       "  [-(2*(c^2*rho + P)*G^2*M^2 - (c^4*r*rho + c^2*r*P)*G*M)/(c^6*r^3 + 2*G*M*c^4*r^2),\n",
       "   0,\n",
       "   0,\n",
       "   0]],\n",
       " [[0, 0, 0, 0],\n",
       "  [0, 0, 0, c^2*r*d(P)/dr/(c^2*r + 2*G*M)],\n",
       "  [0, 0, 0, 0],\n",
       "  [0, 0, 0, 0]],\n",
       " [[0, 0, 0, 0],\n",
       "  [0, 0, 0, 0],\n",
       "  [0, 0, 0, c^2*r*d(P)/dr/(c^2*r + 2*G*M)],\n",
       "  [0, 0, 0, 0]],\n",
       " [[-(2*(c^2*rho + P)*G^2*M^2 - (c^4*r*rho + c^2*r*P)*G*M)/(c^6*r^3 + 2*G*M*c^4*r^2),\n",
       "   0,\n",
       "   0,\n",
       "   0],\n",
       "  [0, 0, 0, 0],\n",
       "  [0, 0, 0, 0],\n",
       "  [0, 0, 0, c^2*r*d(P)/dr/(c^2*r + 2*G*M)]]]"
      ]
     },
     "execution_count": 110,
     "metadata": {},
     "output_type": "execute_result"
    }
   ],
   "source": [
    "co[:]"
   ]
  },
  {
   "cell_type": "code",
   "execution_count": 106,
   "metadata": {
    "collapsed": false
   },
   "outputs": [
    {
     "data": {
      "text/html": [
       "<html><script type=\"math/tex; mode=display\">\\newcommand{\\Bold}[1]{\\mathbf{#1}}\\left\\{\\begin{array}{lcl} t & = & t \\\\ x & = & x \\\\ y & = & y \\\\ {r'} & = & -R + r \\end{array}\\right.</script></html>"
      ],
      "text/plain": [
       "t = t\n",
       "x = x\n",
       "y = y\n",
       "rp = -R + r"
      ]
     },
     "execution_count": 106,
     "metadata": {},
     "output_type": "execute_result"
    }
   ],
   "source": [
    "trans.display()"
   ]
  },
  {
   "cell_type": "code",
   "execution_count": 107,
   "metadata": {
    "collapsed": false
   },
   "outputs": [
    {
     "data": {
      "text/html": [
       "<html><script type=\"math/tex; mode=display\">\\newcommand{\\Bold}[1]{\\mathbf{#1}}T = \\left( -\\frac{{\\left(4 \\, G M c^{2} {r'} - 4 \\, G^{2} M^{2} + {\\left(c^{6} - c^{4}\\right)} R^{2} + {\\left(c^{6} - c^{4}\\right)} {r'}^{2} + 2 \\, {\\left(2 \\, G M c^{2} + {\\left(c^{6} - c^{4}\\right)} {r'}\\right)} R\\right)} P\\left(R + {r'}\\right) - {\\left(R^{2} c^{6} + c^{6} {r'}^{2} - 4 \\, G M c^{4} {r'} + 4 \\, G^{2} M^{2} c^{2} + 2 \\, {\\left(c^{6} {r'} - 2 \\, G M c^{4}\\right)} R\\right)} \\rho\\left(R + {r'}\\right)}{R^{2} c^{6} + c^{6} {r'}^{2} - 2 \\, G M c^{4} {r'} + 2 \\, {\\left(c^{6} {r'} - G M c^{4}\\right)} R} \\right) \\frac{\\partial}{\\partial t }\\otimes \\frac{\\partial}{\\partial t } + \\left( \\frac{{\\left(R c^{2} + c^{2} {r'}\\right)} P\\left(R + {r'}\\right)}{R c^{2} + c^{2} {r'} + 2 \\, G M} \\right) \\frac{\\partial}{\\partial x }\\otimes \\frac{\\partial}{\\partial x } + \\left( \\frac{{\\left(R c^{2} + c^{2} {r'}\\right)} P\\left(R + {r'}\\right)}{R c^{2} + c^{2} {r'} + 2 \\, G M} \\right) \\frac{\\partial}{\\partial y }\\otimes \\frac{\\partial}{\\partial y } + \\left( \\frac{{\\left(R c^{2} + c^{2} {r'}\\right)} P\\left(R + {r'}\\right)}{R c^{2} + c^{2} {r'} + 2 \\, G M} \\right) \\frac{\\partial}{\\partial {r'} }\\otimes \\frac{\\partial}{\\partial {r'} }</script></html>"
      ],
      "text/plain": [
       "T = -((4*G*M*c^2*rp - 4*G^2*M^2 + (c^6 - c^4)*R^2 + (c^6 - c^4)*rp^2 + 2*(2*G*M*c^2 + (c^6 - c^4)*rp)*R)*P(R + rp) - (R^2*c^6 + c^6*rp^2 - 4*G*M*c^4*rp + 4*G^2*M^2*c^2 + 2*(c^6*rp - 2*G*M*c^4)*R)*rho(R + rp))/(R^2*c^6 + c^6*rp^2 - 2*G*M*c^4*rp + 2*(c^6*rp - G*M*c^4)*R) d/dt*d/dt + (R*c^2 + c^2*rp)*P(R + rp)/(R*c^2 + c^2*rp + 2*G*M) d/dx*d/dx + (R*c^2 + c^2*rp)*P(R + rp)/(R*c^2 + c^2*rp + 2*G*M) d/dy*d/dy + (R*c^2 + c^2*rp)*P(R + rp)/(R*c^2 + c^2*rp + 2*G*M) d/drp*d/drp"
      ]
     },
     "execution_count": 107,
     "metadata": {},
     "output_type": "execute_result"
    }
   ],
   "source": [
    "T.display(Y.frame(), Y)"
   ]
  },
  {
   "cell_type": "code",
   "execution_count": null,
   "metadata": {
    "collapsed": true
   },
   "outputs": [],
   "source": []
  }
 ],
 "metadata": {
  "kernelspec": {
   "display_name": "SageMath 7.2",
   "language": "",
   "name": "sagemath"
  },
  "language_info": {
   "codemirror_mode": {
    "name": "ipython",
    "version": 2
   },
   "file_extension": ".py",
   "mimetype": "text/x-python",
   "name": "python",
   "nbconvert_exporter": "python",
   "pygments_lexer": "ipython2",
   "version": "2.7.10"
  }
 },
 "nbformat": 4,
 "nbformat_minor": 0
}
