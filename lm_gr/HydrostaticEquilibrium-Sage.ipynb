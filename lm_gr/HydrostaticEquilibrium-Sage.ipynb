{
 "cells": [
  {
   "cell_type": "code",
   "execution_count": 19,
   "metadata": {
    "collapsed": true
   },
   "outputs": [],
   "source": [
    "%display latex\n",
    "omit_function_args(True)"
   ]
  },
  {
   "cell_type": "code",
   "execution_count": 20,
   "metadata": {
    "collapsed": false
   },
   "outputs": [],
   "source": [
    "Mfld = Manifold(4, 'M')\n",
    "X.<t,x,y, r> = Mfld.chart(r't x y r')\n",
    "\n",
    "var('G M c pi R'); assume(G>0); assume(c>0); assume(M>0); assume(R>0)"
   ]
  },
  {
   "cell_type": "code",
   "execution_count": 100,
   "metadata": {
    "collapsed": true
   },
   "outputs": [],
   "source": [
    "Y.<t,x,y,rp> = Mfld.chart(r\"t x y rp:r'\")\n",
    "Z.<t,rt,th,ph> = Mfld.chart(r\"t rt:(0,+oo):\\tilde{r} th:(0,pi):\\theta phi:(0,2*pi):\\phi\")"
   ]
  },
  {
   "cell_type": "code",
   "execution_count": 22,
   "metadata": {
    "collapsed": false
   },
   "outputs": [
    {
     "name": "stdout",
     "output_type": "stream",
     "text": [
      "Check of the inverse coordinate transformation:\n",
      "   t == t\n",
      "   x == x\n",
      "   y == y\n",
      "   r == r\n",
      "   t == t\n",
      "   x == x\n",
      "   y == y\n",
      "   rp == rp\n"
     ]
    }
   ],
   "source": [
    "trans = X.transition_map(Y, (t, x, y, r-R))\n",
    "trans.set_inverse(t, x, y, rp+R)"
   ]
  },
  {
   "cell_type": "code",
   "execution_count": 111,
   "metadata": {
    "collapsed": false
   },
   "outputs": [
    {
     "name": "stdout",
     "output_type": "stream",
     "text": [
      "Check of the inverse coordinate transformation:\n",
      "   t == t\n",
      "   x == x\n",
      "   y == y\n",
      "   r == r\n",
      "   t == t\n",
      "   rt == rt\n",
      "   th == arcsin(sin(th))\n",
      "   phi == arctan2(rt*sin(phi)*sin(th)/cos(phi), rt*sin(th))\n"
     ]
    },
    {
     "data": {
      "text/html": [
       "<html><script type=\"math/tex; mode=display\">\\newcommand{\\Bold}[1]{\\mathbf{#1}}\\left\\{\\begin{array}{lcl} t & = & t \\\\ {\\tilde{r}} & = & r \\\\ {\\theta} & = & \\arcsin\\left(\\frac{x}{r}\\right) \\\\ {\\phi} & = & \\arctan\\left(y, x\\right) \\end{array}\\right.</script></html>"
      ],
      "text/plain": [
       "t = t\n",
       "rt = r\n",
       "th = arcsin(x/r)\n",
       "phi = arctan2(y, x)"
      ]
     },
     "execution_count": 111,
     "metadata": {},
     "output_type": "execute_result"
    }
   ],
   "source": [
    "ztrans = X.transition_map(Z, (t, r, asin(x/r), atan2(y,x)))\n",
    "ztrans.set_inverse(t, rt*sin(th), rt*sin(th)*tan(ph), rt)\n",
    "ztrans.display()"
   ]
  },
  {
   "cell_type": "code",
   "execution_count": 51,
   "metadata": {
    "collapsed": false
   },
   "outputs": [
    {
     "data": {
      "text/html": [
       "<html><script type=\"math/tex; mode=display\">\\newcommand{\\Bold}[1]{\\mathbf{#1}}g = \\left( -\\frac{c^{2} r - 2 \\, G M}{r} \\right) \\mathrm{d} t\\otimes \\mathrm{d} t + \\left( \\frac{c^{2} r}{c^{2} r - 2 \\, G M} \\right) \\mathrm{d} x\\otimes \\mathrm{d} x + \\left( \\frac{c^{2} r}{c^{2} r - 2 \\, G M} \\right) \\mathrm{d} y\\otimes \\mathrm{d} y + \\left( \\frac{c^{2} r}{c^{2} r - 2 \\, G M} \\right) \\mathrm{d} r\\otimes \\mathrm{d} r</script></html>"
      ],
      "text/plain": [
       "g = -(c^2*r - 2*G*M)/r dt*dt + c^2*r/(c^2*r - 2*G*M) dx*dx + c^2*r/(c^2*r - 2*G*M) dy*dy + c^2*r/(c^2*r - 2*G*M) dr*dr"
      ]
     },
     "execution_count": 51,
     "metadata": {},
     "output_type": "execute_result"
    }
   ],
   "source": [
    "g = Mfld.lorentzian_metric('g')\n",
    "g[0,0] = -c**2 *(1 - 2*G*M/ (r*c**2))\n",
    "g[1,1] = 1/ (1 - 2* G* M/(r*c**2))\n",
    "g[2,2] = g[1,1]\n",
    "g[3,3] = g[1,1]\n",
    "g.display()"
   ]
  },
  {
   "cell_type": "code",
   "execution_count": 52,
   "metadata": {
    "collapsed": false
   },
   "outputs": [
    {
     "data": {
      "text/html": [
       "<html><script type=\"math/tex; mode=display\">\\newcommand{\\Bold}[1]{\\mathbf{#1}}g = \\left( -\\frac{R c^{2} + c^{2} {r'} - 2 \\, G M}{R + {r'}} \\right) \\mathrm{d} t\\otimes \\mathrm{d} t + \\left( \\frac{R c^{2} + c^{2} {r'}}{R c^{2} + c^{2} {r'} - 2 \\, G M} \\right) \\mathrm{d} x\\otimes \\mathrm{d} x + \\left( \\frac{R c^{2} + c^{2} {r'}}{R c^{2} + c^{2} {r'} - 2 \\, G M} \\right) \\mathrm{d} y\\otimes \\mathrm{d} y + \\left( \\frac{R c^{2} + c^{2} {r'}}{R c^{2} + c^{2} {r'} - 2 \\, G M} \\right) \\mathrm{d} {r'}\\otimes \\mathrm{d} {r'}</script></html>"
      ],
      "text/plain": [
       "g = -(R*c^2 + c^2*rp - 2*G*M)/(R + rp) dt*dt + (R*c^2 + c^2*rp)/(R*c^2 + c^2*rp - 2*G*M) dx*dx + (R*c^2 + c^2*rp)/(R*c^2 + c^2*rp - 2*G*M) dy*dy + (R*c^2 + c^2*rp)/(R*c^2 + c^2*rp - 2*G*M) drp*drp"
      ]
     },
     "execution_count": 52,
     "metadata": {},
     "output_type": "execute_result"
    }
   ],
   "source": [
    "g.display(Y.frame(), Y)"
   ]
  },
  {
   "cell_type": "code",
   "execution_count": 112,
   "metadata": {
    "collapsed": false
   },
   "outputs": [
    {
     "data": {
      "text/html": [
       "<html><script type=\"math/tex; mode=display\">\\newcommand{\\Bold}[1]{\\mathbf{#1}}g = \\left( -\\frac{c^{2} {\\tilde{r}} \\cos\\left({\\theta}\\right) - 2 \\, G M}{{\\tilde{r}} \\cos\\left({\\theta}\\right)} \\right) \\mathrm{d} t\\otimes \\mathrm{d} t + \\left( \\frac{c^{2} {\\tilde{r}} \\cos\\left({\\theta}\\right)}{c^{2} {\\tilde{r}} \\cos\\left({\\theta}\\right) - 2 \\, G M} \\right) \\mathrm{d} {\\tilde{r}}\\otimes \\mathrm{d} {\\tilde{r}} + \\left( \\frac{c^{2} {\\tilde{r}}^{3} \\cos\\left({\\theta}\\right)}{c^{2} {\\tilde{r}} \\cos\\left({\\theta}\\right) - 2 \\, G M} \\right) \\mathrm{d} {\\theta}\\otimes \\mathrm{d} {\\theta} + \\left( \\frac{c^{2} {\\tilde{r}}^{3} \\cos\\left({\\theta}\\right) \\sin\\left({\\theta}\\right)^{2}}{c^{2} {\\tilde{r}} \\cos\\left({\\theta}\\right) - 2 \\, G M} \\right) \\mathrm{d} {\\phi}\\otimes \\mathrm{d} {\\phi}</script></html>"
      ],
      "text/plain": [
       "g = -(c^2*rt*cos(th) - 2*G*M)/(rt*cos(th)) dt*dt + c^2*rt*cos(th)/(c^2*rt*cos(th) - 2*G*M) drt*drt + c^2*rt^3*cos(th)/(c^2*rt*cos(th) - 2*G*M) dth*dth + c^2*rt^3*cos(th)*sin(th)^2/(c^2*rt*cos(th) - 2*G*M) dphi*dphi"
      ]
     },
     "execution_count": 112,
     "metadata": {},
     "output_type": "execute_result"
    }
   ],
   "source": [
    "g.display(Z.frame(), Z)"
   ]
  },
  {
   "cell_type": "code",
   "execution_count": 80,
   "metadata": {
    "collapsed": false
   },
   "outputs": [
    {
     "data": {
      "text/html": [
       "<html><script type=\"math/tex; mode=display\">\\newcommand{\\Bold}[1]{\\mathbf{#1}}\\left(\\begin{array}{rrrr}\n",
       "-\\frac{r}{c^{2} r - 2 \\, G M} & 0 & 0 & 0 \\\\\n",
       "0 & \\frac{c^{2} r - 2 \\, G M}{c^{2} r} & 0 & 0 \\\\\n",
       "0 & 0 & \\frac{c^{2} r - 2 \\, G M}{c^{2} r} & 0 \\\\\n",
       "0 & 0 & 0 & \\frac{c^{2} r - 2 \\, G M}{c^{2} r}\n",
       "\\end{array}\\right)</script></html>"
      ],
      "text/plain": [
       "[     -r/(c^2*r - 2*G*M)                       0                       0                       0]\n",
       "[                      0 (c^2*r - 2*G*M)/(c^2*r)                       0                       0]\n",
       "[                      0                       0 (c^2*r - 2*G*M)/(c^2*r)                       0]\n",
       "[                      0                       0                       0 (c^2*r - 2*G*M)/(c^2*r)]"
      ]
     },
     "execution_count": 80,
     "metadata": {},
     "output_type": "execute_result"
    }
   ],
   "source": [
    "g_up = g.up(g)\n",
    "g_up[:]"
   ]
  },
  {
   "cell_type": "code",
   "execution_count": 54,
   "metadata": {
    "collapsed": false
   },
   "outputs": [
    {
     "data": {
      "text/html": [
       "<html><script type=\"math/tex; mode=display\">\\newcommand{\\Bold}[1]{\\mathbf{#1}}-c^{2}</script></html>"
      ],
      "text/plain": [
       "-c^2"
      ]
     },
     "execution_count": 54,
     "metadata": {},
     "output_type": "execute_result"
    }
   ],
   "source": [
    "v = Mfld.vector_field('u')\n",
    "v[0] = c*sqrt(-1/g[0,0])\n",
    "umumu = g.contract(0,v,0).contract(0,v,0).coord_function(X)\n",
    "umumu"
   ]
  },
  {
   "cell_type": "code",
   "execution_count": 81,
   "metadata": {
    "collapsed": false
   },
   "outputs": [
    {
     "data": {
      "text/html": [
       "<html><script type=\"math/tex; mode=display\">\\newcommand{\\Bold}[1]{\\mathbf{#1}}\\begin{array}{lcl} \\Gamma_{ \\phantom{\\, t } \\, t \\, {r'} }^{ \\, t \\phantom{\\, t } \\phantom{\\, {r'} } } & = & \\frac{G M}{R^{2} c^{2} + c^{2} {r'}^{2} - 2 \\, G M {r'} + 2 \\, {\\left(c^{2} {r'} - G M\\right)} R} \\\\ \\Gamma_{ \\phantom{\\, t } \\, {r'} \\, t }^{ \\, t \\phantom{\\, {r'} } \\phantom{\\, t } } & = & \\frac{G M}{R^{2} c^{2} + c^{2} {r'}^{2} - 2 \\, G M {r'} + 2 \\, {\\left(c^{2} {r'} - G M\\right)} R} \\\\ \\Gamma_{ \\phantom{\\, x } \\, x \\, {r'} }^{ \\, x \\phantom{\\, x } \\phantom{\\, {r'} } } & = & -\\frac{G M}{R^{2} c^{2} + c^{2} {r'}^{2} - 2 \\, G M {r'} + 2 \\, {\\left(c^{2} {r'} - G M\\right)} R} \\\\ \\Gamma_{ \\phantom{\\, x } \\, {r'} \\, x }^{ \\, x \\phantom{\\, {r'} } \\phantom{\\, x } } & = & -\\frac{G M}{R^{2} c^{2} + c^{2} {r'}^{2} - 2 \\, G M {r'} + 2 \\, {\\left(c^{2} {r'} - G M\\right)} R} \\\\ \\Gamma_{ \\phantom{\\, y } \\, y \\, {r'} }^{ \\, y \\phantom{\\, y } \\phantom{\\, {r'} } } & = & -\\frac{G M}{R^{2} c^{2} + c^{2} {r'}^{2} - 2 \\, G M {r'} + 2 \\, {\\left(c^{2} {r'} - G M\\right)} R} \\\\ \\Gamma_{ \\phantom{\\, y } \\, {r'} \\, y }^{ \\, y \\phantom{\\, {r'} } \\phantom{\\, y } } & = & -\\frac{G M}{R^{2} c^{2} + c^{2} {r'}^{2} - 2 \\, G M {r'} + 2 \\, {\\left(c^{2} {r'} - G M\\right)} R} \\\\ \\Gamma_{ \\phantom{\\, {r'} } \\, t \\, t }^{ \\, {r'} \\phantom{\\, t } \\phantom{\\, t } } & = & \\frac{G M R c^{2} + G M c^{2} {r'} - 2 \\, G^{2} M^{2}}{R^{3} c^{2} + 3 \\, R^{2} c^{2} {r'} + 3 \\, R c^{2} {r'}^{2} + c^{2} {r'}^{3}} \\\\ \\Gamma_{ \\phantom{\\, {r'} } \\, x \\, x }^{ \\, {r'} \\phantom{\\, x } \\phantom{\\, x } } & = & \\frac{G M}{R^{2} c^{2} + c^{2} {r'}^{2} - 2 \\, G M {r'} + 2 \\, {\\left(c^{2} {r'} - G M\\right)} R} \\\\ \\Gamma_{ \\phantom{\\, {r'} } \\, y \\, y }^{ \\, {r'} \\phantom{\\, y } \\phantom{\\, y } } & = & \\frac{G M}{R^{2} c^{2} + c^{2} {r'}^{2} - 2 \\, G M {r'} + 2 \\, {\\left(c^{2} {r'} - G M\\right)} R} \\\\ \\Gamma_{ \\phantom{\\, {r'} } \\, {r'} \\, {r'} }^{ \\, {r'} \\phantom{\\, {r'} } \\phantom{\\, {r'} } } & = & -\\frac{G M}{R^{2} c^{2} + c^{2} {r'}^{2} - 2 \\, G M {r'} + 2 \\, {\\left(c^{2} {r'} - G M\\right)} R} \\end{array}</script></html>"
      ],
      "text/plain": [
       "Gam^t_t,rp = G*M/(R^2*c^2 + c^2*rp^2 - 2*G*M*rp + 2*(c^2*rp - G*M)*R) \n",
       "Gam^t_rp,t = G*M/(R^2*c^2 + c^2*rp^2 - 2*G*M*rp + 2*(c^2*rp - G*M)*R) \n",
       "Gam^x_x,rp = -G*M/(R^2*c^2 + c^2*rp^2 - 2*G*M*rp + 2*(c^2*rp - G*M)*R) \n",
       "Gam^x_rp,x = -G*M/(R^2*c^2 + c^2*rp^2 - 2*G*M*rp + 2*(c^2*rp - G*M)*R) \n",
       "Gam^y_y,rp = -G*M/(R^2*c^2 + c^2*rp^2 - 2*G*M*rp + 2*(c^2*rp - G*M)*R) \n",
       "Gam^y_rp,y = -G*M/(R^2*c^2 + c^2*rp^2 - 2*G*M*rp + 2*(c^2*rp - G*M)*R) \n",
       "Gam^rp_t,t = (G*M*R*c^2 + G*M*c^2*rp - 2*G^2*M^2)/(R^3*c^2 + 3*R^2*c^2*rp + 3*R*c^2*rp^2 + c^2*rp^3) \n",
       "Gam^rp_x,x = G*M/(R^2*c^2 + c^2*rp^2 - 2*G*M*rp + 2*(c^2*rp - G*M)*R) \n",
       "Gam^rp_y,y = G*M/(R^2*c^2 + c^2*rp^2 - 2*G*M*rp + 2*(c^2*rp - G*M)*R) \n",
       "Gam^rp_rp,rp = -G*M/(R^2*c^2 + c^2*rp^2 - 2*G*M*rp + 2*(c^2*rp - G*M)*R) "
      ]
     },
     "execution_count": 81,
     "metadata": {},
     "output_type": "execute_result"
    }
   ],
   "source": [
    "nab = g.connection()\n",
    "nab.display()\n",
    "nab.display(Y.frame(), Y)"
   ]
  },
  {
   "cell_type": "code",
   "execution_count": 109,
   "metadata": {
    "collapsed": false
   },
   "outputs": [
    {
     "data": {
      "text/html": [
       "<html><script type=\"math/tex; mode=display\">\\newcommand{\\Bold}[1]{\\mathbf{#1}}\\begin{array}{lcl} \\Gamma_{ \\phantom{\\, t } \\, t \\, {\\tilde{r}} }^{ \\, t \\phantom{\\, t } \\phantom{\\, {\\tilde{r}} } } & = & \\frac{G M}{c^{2} {\\tilde{r}}^{2} \\cos\\left({\\theta}\\right) - 2 \\, G M {\\tilde{r}}} \\\\ \\Gamma_{ \\phantom{\\, t } \\, t \\, {\\theta} }^{ \\, t \\phantom{\\, t } \\phantom{\\, {\\theta} } } & = & -\\frac{G M \\sin\\left({\\theta}\\right)}{c^{2} {\\tilde{r}} \\cos\\left({\\theta}\\right)^{2} - 2 \\, G M \\cos\\left({\\theta}\\right)} \\\\ \\Gamma_{ \\phantom{\\, t } \\, {\\tilde{r}} \\, t }^{ \\, t \\phantom{\\, {\\tilde{r}} } \\phantom{\\, t } } & = & \\frac{G M}{c^{2} {\\tilde{r}}^{2} \\cos\\left({\\theta}\\right) - 2 \\, G M {\\tilde{r}}} \\\\ \\Gamma_{ \\phantom{\\, t } \\, {\\theta} \\, t }^{ \\, t \\phantom{\\, {\\theta} } \\phantom{\\, t } } & = & -\\frac{G M \\sin\\left({\\theta}\\right)}{c^{2} {\\tilde{r}} \\cos\\left({\\theta}\\right)^{2} - 2 \\, G M \\cos\\left({\\theta}\\right)} \\\\ \\Gamma_{ \\phantom{\\, {\\tilde{r}} } \\, t \\, t }^{ \\, {\\tilde{r}} \\phantom{\\, t } \\phantom{\\, t } } & = & \\frac{G M c^{2} {\\tilde{r}} \\cos\\left({\\theta}\\right) - 2 \\, G^{2} M^{2}}{c^{2} {\\tilde{r}}^{3} \\cos\\left({\\theta}\\right)^{2}} \\\\ \\Gamma_{ \\phantom{\\, {\\tilde{r}} } \\, {\\tilde{r}} \\, {\\tilde{r}} }^{ \\, {\\tilde{r}} \\phantom{\\, {\\tilde{r}} } \\phantom{\\, {\\tilde{r}} } } & = & -\\frac{G M}{c^{2} {\\tilde{r}}^{2} \\cos\\left({\\theta}\\right) - 2 \\, G M {\\tilde{r}}} \\\\ \\Gamma_{ \\phantom{\\, {\\tilde{r}} } \\, {\\tilde{r}} \\, {\\theta} }^{ \\, {\\tilde{r}} \\phantom{\\, {\\tilde{r}} } \\phantom{\\, {\\theta} } } & = & \\frac{G M \\sin\\left({\\theta}\\right)}{c^{2} {\\tilde{r}} \\cos\\left({\\theta}\\right)^{2} - 2 \\, G M \\cos\\left({\\theta}\\right)} \\\\ \\Gamma_{ \\phantom{\\, {\\tilde{r}} } \\, {\\theta} \\, {\\tilde{r}} }^{ \\, {\\tilde{r}} \\phantom{\\, {\\theta} } \\phantom{\\, {\\tilde{r}} } } & = & \\frac{G M \\sin\\left({\\theta}\\right)}{c^{2} {\\tilde{r}} \\cos\\left({\\theta}\\right)^{2} - 2 \\, G M \\cos\\left({\\theta}\\right)} \\\\ \\Gamma_{ \\phantom{\\, {\\tilde{r}} } \\, {\\theta} \\, {\\theta} }^{ \\, {\\tilde{r}} \\phantom{\\, {\\theta} } \\phantom{\\, {\\theta} } } & = & -\\frac{c^{2} {\\tilde{r}}^{2} \\cos\\left({\\theta}\\right) - 3 \\, G M {\\tilde{r}}}{c^{2} {\\tilde{r}} \\cos\\left({\\theta}\\right) - 2 \\, G M} \\\\ \\Gamma_{ \\phantom{\\, {\\tilde{r}} } \\, {\\phi} \\, {\\phi} }^{ \\, {\\tilde{r}} \\phantom{\\, {\\phi} } \\phantom{\\, {\\phi} } } & = & -\\frac{c^{2} {\\tilde{r}}^{2} \\cos\\left({\\theta}\\right) \\sin\\left({\\theta}\\right)^{2} - 3 \\, G M {\\tilde{r}} \\sin\\left({\\theta}\\right)^{2}}{c^{2} {\\tilde{r}} \\cos\\left({\\theta}\\right) - 2 \\, G M} \\\\ \\Gamma_{ \\phantom{\\, {\\theta} } \\, t \\, t }^{ \\, {\\theta} \\phantom{\\, t } \\phantom{\\, t } } & = & -\\frac{G M c^{2} {\\tilde{r}} \\cos\\left({\\theta}\\right) \\sin\\left({\\theta}\\right) - 2 \\, G^{2} M^{2} \\sin\\left({\\theta}\\right)}{c^{2} {\\tilde{r}}^{4} \\cos\\left({\\theta}\\right)^{3}} \\\\ \\Gamma_{ \\phantom{\\, {\\theta} } \\, {\\tilde{r}} \\, {\\tilde{r}} }^{ \\, {\\theta} \\phantom{\\, {\\tilde{r}} } \\phantom{\\, {\\tilde{r}} } } & = & -\\frac{G M \\sin\\left({\\theta}\\right)}{c^{2} {\\tilde{r}}^{3} \\cos\\left({\\theta}\\right)^{2} - 2 \\, G M {\\tilde{r}}^{2} \\cos\\left({\\theta}\\right)} \\\\ \\Gamma_{ \\phantom{\\, {\\theta} } \\, {\\tilde{r}} \\, {\\theta} }^{ \\, {\\theta} \\phantom{\\, {\\tilde{r}} } \\phantom{\\, {\\theta} } } & = & \\frac{c^{2} {\\tilde{r}} \\cos\\left({\\theta}\\right) - 3 \\, G M}{c^{2} {\\tilde{r}}^{2} \\cos\\left({\\theta}\\right) - 2 \\, G M {\\tilde{r}}} \\\\ \\Gamma_{ \\phantom{\\, {\\theta} } \\, {\\theta} \\, {\\tilde{r}} }^{ \\, {\\theta} \\phantom{\\, {\\theta} } \\phantom{\\, {\\tilde{r}} } } & = & \\frac{c^{2} {\\tilde{r}} \\cos\\left({\\theta}\\right) - 3 \\, G M}{c^{2} {\\tilde{r}}^{2} \\cos\\left({\\theta}\\right) - 2 \\, G M {\\tilde{r}}} \\\\ \\Gamma_{ \\phantom{\\, {\\theta} } \\, {\\theta} \\, {\\theta} }^{ \\, {\\theta} \\phantom{\\, {\\theta} } \\phantom{\\, {\\theta} } } & = & \\frac{G M \\sin\\left({\\theta}\\right)}{c^{2} {\\tilde{r}} \\cos\\left({\\theta}\\right)^{2} - 2 \\, G M \\cos\\left({\\theta}\\right)} \\\\ \\Gamma_{ \\phantom{\\, {\\theta} } \\, {\\phi} \\, {\\phi} }^{ \\, {\\theta} \\phantom{\\, {\\phi} } \\phantom{\\, {\\phi} } } & = & -\\frac{c^{2} {\\tilde{r}} \\cos\\left({\\theta}\\right)^{3} \\sin\\left({\\theta}\\right) - {\\left(3 \\, \\cos\\left({\\theta}\\right)^{2} - 1\\right)} G M \\sin\\left({\\theta}\\right)}{c^{2} {\\tilde{r}} \\cos\\left({\\theta}\\right)^{2} - 2 \\, G M \\cos\\left({\\theta}\\right)} \\\\ \\Gamma_{ \\phantom{\\, {\\phi} } \\, {\\tilde{r}} \\, {\\phi} }^{ \\, {\\phi} \\phantom{\\, {\\tilde{r}} } \\phantom{\\, {\\phi} } } & = & \\frac{c^{2} {\\tilde{r}} \\cos\\left({\\theta}\\right) - 3 \\, G M}{c^{2} {\\tilde{r}}^{2} \\cos\\left({\\theta}\\right) - 2 \\, G M {\\tilde{r}}} \\\\ \\Gamma_{ \\phantom{\\, {\\phi} } \\, {\\theta} \\, {\\phi} }^{ \\, {\\phi} \\phantom{\\, {\\theta} } \\phantom{\\, {\\phi} } } & = & \\frac{c^{2} {\\tilde{r}} \\cos\\left({\\theta}\\right)^{3} - {\\left(3 \\, \\cos\\left({\\theta}\\right)^{2} - 1\\right)} G M}{c^{2} {\\tilde{r}} \\cos\\left({\\theta}\\right)^{2} \\sin\\left({\\theta}\\right) - 2 \\, G M \\cos\\left({\\theta}\\right) \\sin\\left({\\theta}\\right)} \\\\ \\Gamma_{ \\phantom{\\, {\\phi} } \\, {\\phi} \\, {\\tilde{r}} }^{ \\, {\\phi} \\phantom{\\, {\\phi} } \\phantom{\\, {\\tilde{r}} } } & = & \\frac{c^{2} {\\tilde{r}} \\cos\\left({\\theta}\\right) - 3 \\, G M}{c^{2} {\\tilde{r}}^{2} \\cos\\left({\\theta}\\right) - 2 \\, G M {\\tilde{r}}} \\\\ \\Gamma_{ \\phantom{\\, {\\phi} } \\, {\\phi} \\, {\\theta} }^{ \\, {\\phi} \\phantom{\\, {\\phi} } \\phantom{\\, {\\theta} } } & = & \\frac{c^{2} {\\tilde{r}} \\cos\\left({\\theta}\\right)^{3} - {\\left(3 \\, \\cos\\left({\\theta}\\right)^{2} - 1\\right)} G M}{c^{2} {\\tilde{r}} \\cos\\left({\\theta}\\right)^{2} \\sin\\left({\\theta}\\right) - 2 \\, G M \\cos\\left({\\theta}\\right) \\sin\\left({\\theta}\\right)} \\end{array}</script></html>"
      ],
      "text/plain": [
       "Gam^t_t,rt = G*M/(c^2*rt^2*cos(th) - 2*G*M*rt) \n",
       "Gam^t_t,th = -G*M*sin(th)/(c^2*rt*cos(th)^2 - 2*G*M*cos(th)) \n",
       "Gam^t_rt,t = G*M/(c^2*rt^2*cos(th) - 2*G*M*rt) \n",
       "Gam^t_th,t = -G*M*sin(th)/(c^2*rt*cos(th)^2 - 2*G*M*cos(th)) \n",
       "Gam^rt_t,t = (G*M*c^2*rt*cos(th) - 2*G^2*M^2)/(c^2*rt^3*cos(th)^2) \n",
       "Gam^rt_rt,rt = -G*M/(c^2*rt^2*cos(th) - 2*G*M*rt) \n",
       "Gam^rt_rt,th = G*M*sin(th)/(c^2*rt*cos(th)^2 - 2*G*M*cos(th)) \n",
       "Gam^rt_th,rt = G*M*sin(th)/(c^2*rt*cos(th)^2 - 2*G*M*cos(th)) \n",
       "Gam^rt_th,th = -(c^2*rt^2*cos(th) - 3*G*M*rt)/(c^2*rt*cos(th) - 2*G*M) \n",
       "Gam^rt_phi,phi = -(c^2*rt^2*cos(th)*sin(th)^2 - 3*G*M*rt*sin(th)^2)/(c^2*rt*cos(th) - 2*G*M) \n",
       "Gam^th_t,t = -(G*M*c^2*rt*cos(th)*sin(th) - 2*G^2*M^2*sin(th))/(c^2*rt^4*cos(th)^3) \n",
       "Gam^th_rt,rt = -G*M*sin(th)/(c^2*rt^3*cos(th)^2 - 2*G*M*rt^2*cos(th)) \n",
       "Gam^th_rt,th = (c^2*rt*cos(th) - 3*G*M)/(c^2*rt^2*cos(th) - 2*G*M*rt) \n",
       "Gam^th_th,rt = (c^2*rt*cos(th) - 3*G*M)/(c^2*rt^2*cos(th) - 2*G*M*rt) \n",
       "Gam^th_th,th = G*M*sin(th)/(c^2*rt*cos(th)^2 - 2*G*M*cos(th)) \n",
       "Gam^th_phi,phi = -(c^2*rt*cos(th)^3*sin(th) - (3*cos(th)^2 - 1)*G*M*sin(th))/(c^2*rt*cos(th)^2 - 2*G*M*cos(th)) \n",
       "Gam^phi_rt,phi = (c^2*rt*cos(th) - 3*G*M)/(c^2*rt^2*cos(th) - 2*G*M*rt) \n",
       "Gam^phi_th,phi = (c^2*rt*cos(th)^3 - (3*cos(th)^2 - 1)*G*M)/(c^2*rt*cos(th)^2*sin(th) - 2*G*M*cos(th)*sin(th)) \n",
       "Gam^phi_phi,rt = (c^2*rt*cos(th) - 3*G*M)/(c^2*rt^2*cos(th) - 2*G*M*rt) \n",
       "Gam^phi_phi,th = (c^2*rt*cos(th)^3 - (3*cos(th)^2 - 1)*G*M)/(c^2*rt*cos(th)^2*sin(th) - 2*G*M*cos(th)*sin(th)) "
      ]
     },
     "execution_count": 109,
     "metadata": {},
     "output_type": "execute_result"
    }
   ],
   "source": [
    "nab.display(Z.frame(), Z)"
   ]
  },
  {
   "cell_type": "code",
   "execution_count": 82,
   "metadata": {
    "collapsed": false
   },
   "outputs": [
    {
     "data": {
      "text/html": [
       "<html><script type=\"math/tex; mode=display\">\\newcommand{\\Bold}[1]{\\mathbf{#1}}\\begin{array}{lcl} \\Gamma_{ \\phantom{\\, t } \\, t \\, r }^{ \\, t \\phantom{\\, t } \\phantom{\\, r } } & = & \\frac{G M}{c^{2} r^{2} - 2 \\, G M r} \\\\ \\Gamma_{ \\phantom{\\, t } \\, r \\, t }^{ \\, t \\phantom{\\, r } \\phantom{\\, t } } & = & \\frac{G M}{c^{2} r^{2} - 2 \\, G M r} \\\\ \\Gamma_{ \\phantom{\\, x } \\, x \\, r }^{ \\, x \\phantom{\\, x } \\phantom{\\, r } } & = & -\\frac{G M}{c^{2} r^{2} - 2 \\, G M r} \\\\ \\Gamma_{ \\phantom{\\, x } \\, r \\, x }^{ \\, x \\phantom{\\, r } \\phantom{\\, x } } & = & -\\frac{G M}{c^{2} r^{2} - 2 \\, G M r} \\\\ \\Gamma_{ \\phantom{\\, y } \\, y \\, r }^{ \\, y \\phantom{\\, y } \\phantom{\\, r } } & = & -\\frac{G M}{c^{2} r^{2} - 2 \\, G M r} \\\\ \\Gamma_{ \\phantom{\\, y } \\, r \\, y }^{ \\, y \\phantom{\\, r } \\phantom{\\, y } } & = & -\\frac{G M}{c^{2} r^{2} - 2 \\, G M r} \\\\ \\Gamma_{ \\phantom{\\, r } \\, t \\, t }^{ \\, r \\phantom{\\, t } \\phantom{\\, t } } & = & \\frac{G M c^{2} r - 2 \\, G^{2} M^{2}}{c^{2} r^{3}} \\\\ \\Gamma_{ \\phantom{\\, r } \\, x \\, x }^{ \\, r \\phantom{\\, x } \\phantom{\\, x } } & = & \\frac{G M}{c^{2} r^{2} - 2 \\, G M r} \\\\ \\Gamma_{ \\phantom{\\, r } \\, y \\, y }^{ \\, r \\phantom{\\, y } \\phantom{\\, y } } & = & \\frac{G M}{c^{2} r^{2} - 2 \\, G M r} \\\\ \\Gamma_{ \\phantom{\\, r } \\, r \\, r }^{ \\, r \\phantom{\\, r } \\phantom{\\, r } } & = & -\\frac{G M}{c^{2} r^{2} - 2 \\, G M r} \\end{array}</script></html>"
      ],
      "text/plain": [
       "Gam^t_tr = G*M/(c^2*r^2 - 2*G*M*r) \n",
       "Gam^t_rt = G*M/(c^2*r^2 - 2*G*M*r) \n",
       "Gam^x_xr = -G*M/(c^2*r^2 - 2*G*M*r) \n",
       "Gam^x_rx = -G*M/(c^2*r^2 - 2*G*M*r) \n",
       "Gam^y_yr = -G*M/(c^2*r^2 - 2*G*M*r) \n",
       "Gam^y_ry = -G*M/(c^2*r^2 - 2*G*M*r) \n",
       "Gam^r_tt = (G*M*c^2*r - 2*G^2*M^2)/(c^2*r^3) \n",
       "Gam^r_xx = G*M/(c^2*r^2 - 2*G*M*r) \n",
       "Gam^r_yy = G*M/(c^2*r^2 - 2*G*M*r) \n",
       "Gam^r_rr = -G*M/(c^2*r^2 - 2*G*M*r) "
      ]
     },
     "execution_count": 82,
     "metadata": {},
     "output_type": "execute_result"
    }
   ],
   "source": [
    "nab.display()"
   ]
  },
  {
   "cell_type": "code",
   "execution_count": 56,
   "metadata": {
    "collapsed": false
   },
   "outputs": [
    {
     "data": {
      "text/html": [
       "<html><script type=\"math/tex; mode=display\">\\newcommand{\\Bold}[1]{\\mathbf{#1}}T = \\left( \\frac{c^{2} r \\rho}{c^{2} r - 2 \\, G M} \\right) \\frac{\\partial}{\\partial t }\\otimes \\frac{\\partial}{\\partial t } + \\left( \\frac{c^{2} r P - 2 \\, G M P}{c^{2} r} \\right) \\frac{\\partial}{\\partial x }\\otimes \\frac{\\partial}{\\partial x } + \\left( \\frac{c^{2} r P - 2 \\, G M P}{c^{2} r} \\right) \\frac{\\partial}{\\partial y }\\otimes \\frac{\\partial}{\\partial y } + \\left( \\frac{c^{2} r P - 2 \\, G M P}{c^{2} r} \\right) \\frac{\\partial}{\\partial r }\\otimes \\frac{\\partial}{\\partial r }</script></html>"
      ],
      "text/plain": [
       "T = c^2*r*rho/(c^2*r - 2*G*M) d/dt*d/dt + (c^2*r*P - 2*G*M*P)/(c^2*r) d/dx*d/dx + (c^2*r*P - 2*G*M*P)/(c^2*r) d/dy*d/dy + (c^2*r*P - 2*G*M*P)/(c^2*r) d/dr*d/dr"
      ]
     },
     "execution_count": 56,
     "metadata": {},
     "output_type": "execute_result"
    }
   ],
   "source": [
    "# density, pressure enthalpy: \n",
    "rho = function('rho', latex_name=r'\\rho')(r)\n",
    "p = function('P')(r)\n",
    "h = function('h')(r)\n",
    "\n",
    "u = Mfld.vector_field('u')\n",
    "u[0] = c*sqrt(-1/g[0,0])\n",
    "\n",
    "T = (rho + p/c^2) * u * u + p * g_up\n",
    "T.set_name('T')\n",
    "T.display()"
   ]
  },
  {
   "cell_type": "code",
   "execution_count": 70,
   "metadata": {
    "collapsed": false
   },
   "outputs": [
    {
     "data": {
      "text/html": [
       "<html><script type=\"math/tex; mode=display\">\\newcommand{\\Bold}[1]{\\mathbf{#1}}\\frac{c^{2} r^{2} \\frac{\\partial\\,P}{\\partial r} + {\\left(c^{2} \\rho - 2 \\, r \\frac{\\partial\\,P}{\\partial r} + P\\right)} G M}{c^{2} r^{2}}</script></html>"
      ],
      "text/plain": [
       "(c^2*r^2*d(P)/dr + (c^2*rho - 2*r*d(P)/dr + P)*G*M)/(c^2*r^2)"
      ]
     },
     "execution_count": 70,
     "metadata": {},
     "output_type": "execute_result"
    }
   ],
   "source": [
    "# Einstein equations\n",
    "Ricci = g.ricci()\n",
    "Ric_scalar = g.ricci_scalar()\n",
    "E = Ricci - (Ric_scalar*g)/2\n",
    "\n",
    "co = nab(T)\n",
    "cosum = 0\n",
    "\n",
    "# radial component of the covariant derivative: \n",
    "for i in Mfld.irange():\n",
    "    cosum += co[i,3,i]\n",
    "cosum    "
   ]
  },
  {
   "cell_type": "code",
   "execution_count": 71,
   "metadata": {
    "collapsed": true
   },
   "outputs": [],
   "source": [
    "# solve for dp/dr\n",
    "E2 = solve(cosum.expr(), p.diff(r))[0]\n",
    "#ExpressionNice(E2)"
   ]
  },
  {
   "cell_type": "code",
   "execution_count": 59,
   "metadata": {
    "collapsed": false
   },
   "outputs": [],
   "source": [
    "from sage.manifolds.utilities import ExpressionNice"
   ]
  },
  {
   "cell_type": "code",
   "execution_count": 77,
   "metadata": {
    "collapsed": false
   },
   "outputs": [
    {
     "data": {
      "text/html": [
       "<html><script type=\"math/tex; mode=display\">\\newcommand{\\Bold}[1]{\\mathbf{#1}}\\frac{\\partial\\,P}{\\partial r} = -\\frac{{\\left(c^{2} \\rho + P\\right)} G M}{c^{2} r^{2} - 2 \\, G M r}</script></html>"
      ],
      "text/plain": [
       "d(P)/dr == -(c^2*rho + P)*G*M/(c^2*r^2 - 2*G*M*r)"
      ]
     },
     "execution_count": 77,
     "metadata": {},
     "output_type": "execute_result"
    }
   ],
   "source": [
    "dpdr = ExpressionNice(E2)\n",
    "dpdr"
   ]
  },
  {
   "cell_type": "code",
   "execution_count": 79,
   "metadata": {
    "collapsed": false
   },
   "outputs": [
    {
     "data": {
      "text/html": [
       "<html><script type=\"math/tex; mode=display\">\\newcommand{\\Bold}[1]{\\mathbf{#1}}D[0]\\left(P\\right)\\left(r\\right) = -\\frac{{\\left(c^{2} \\rho\\left(r\\right) + P\\left(r\\right)\\right)} G M}{c^{2} r^{2} - 2 \\, G M r}</script></html>"
      ],
      "text/plain": [
       "D[0](P)(r) == -(c^2*rho(r) + P(r))*G*M/(c^2*r^2 - 2*G*M*r)"
      ]
     },
     "execution_count": 79,
     "metadata": {},
     "output_type": "execute_result"
    }
   ],
   "source": [
    "E2"
   ]
  },
  {
   "cell_type": "code",
   "execution_count": 73,
   "metadata": {
    "collapsed": false
   },
   "outputs": [
    {
     "data": {
      "text/html": [
       "<html><script type=\"math/tex; mode=display\">\\newcommand{\\Bold}[1]{\\mathbf{#1}}\\left[\\left[\\left[0, 0, 0, \\frac{c^{2} r \\frac{\\partial\\,\\rho}{\\partial r}}{c^{2} r - 2 \\, G M}\\right], \\left[0, 0, 0, 0\\right], \\left[0, 0, 0, 0\\right], \\left[\\frac{{\\left(c^{2} \\rho + P\\right)} G M}{c^{2} r^{2}}, 0, 0, 0\\right]\\right], \\left[\\left[0, 0, 0, 0\\right], \\left[0, 0, 0, \\frac{c^{2} r \\frac{\\partial\\,P}{\\partial r} - 2 \\, G M \\frac{\\partial\\,P}{\\partial r}}{c^{2} r}\\right], \\left[0, 0, 0, 0\\right], \\left[0, 0, 0, 0\\right]\\right], \\left[\\left[0, 0, 0, 0\\right], \\left[0, 0, 0, 0\\right], \\left[0, 0, 0, \\frac{c^{2} r \\frac{\\partial\\,P}{\\partial r} - 2 \\, G M \\frac{\\partial\\,P}{\\partial r}}{c^{2} r}\\right], \\left[0, 0, 0, 0\\right]\\right], \\left[\\left[\\frac{{\\left(c^{2} \\rho + P\\right)} G M}{c^{2} r^{2}}, 0, 0, 0\\right], \\left[0, 0, 0, 0\\right], \\left[0, 0, 0, 0\\right], \\left[0, 0, 0, \\frac{c^{2} r \\frac{\\partial\\,P}{\\partial r} - 2 \\, G M \\frac{\\partial\\,P}{\\partial r}}{c^{2} r}\\right]\\right]\\right]</script></html>"
      ],
      "text/plain": [
       "[[[0, 0, 0, c^2*r*d(rho)/dr/(c^2*r - 2*G*M)],\n",
       "  [0, 0, 0, 0],\n",
       "  [0, 0, 0, 0],\n",
       "  [(c^2*rho + P)*G*M/(c^2*r^2), 0, 0, 0]],\n",
       " [[0, 0, 0, 0],\n",
       "  [0, 0, 0, (c^2*r*d(P)/dr - 2*G*M*d(P)/dr)/(c^2*r)],\n",
       "  [0, 0, 0, 0],\n",
       "  [0, 0, 0, 0]],\n",
       " [[0, 0, 0, 0],\n",
       "  [0, 0, 0, 0],\n",
       "  [0, 0, 0, (c^2*r*d(P)/dr - 2*G*M*d(P)/dr)/(c^2*r)],\n",
       "  [0, 0, 0, 0]],\n",
       " [[(c^2*rho + P)*G*M/(c^2*r^2), 0, 0, 0],\n",
       "  [0, 0, 0, 0],\n",
       "  [0, 0, 0, 0],\n",
       "  [0, 0, 0, (c^2*r*d(P)/dr - 2*G*M*d(P)/dr)/(c^2*r)]]]"
      ]
     },
     "execution_count": 73,
     "metadata": {},
     "output_type": "execute_result"
    }
   ],
   "source": [
    "co[:]"
   ]
  },
  {
   "cell_type": "code",
   "execution_count": 62,
   "metadata": {
    "collapsed": false
   },
   "outputs": [
    {
     "data": {
      "text/html": [
       "<html><script type=\"math/tex; mode=display\">\\newcommand{\\Bold}[1]{\\mathbf{#1}}\\left\\{\\begin{array}{lcl} t & = & t \\\\ x & = & x \\\\ y & = & y \\\\ {r'} & = & -R + r \\end{array}\\right.</script></html>"
      ],
      "text/plain": [
       "t = t\n",
       "x = x\n",
       "y = y\n",
       "rp = -R + r"
      ]
     },
     "execution_count": 62,
     "metadata": {},
     "output_type": "execute_result"
    }
   ],
   "source": [
    "trans.display()"
   ]
  },
  {
   "cell_type": "code",
   "execution_count": 63,
   "metadata": {
    "collapsed": false
   },
   "outputs": [
    {
     "data": {
      "text/html": [
       "<html><script type=\"math/tex; mode=display\">\\newcommand{\\Bold}[1]{\\mathbf{#1}}T = \\left( \\frac{{\\left(R c^{2} + c^{2} {r'}\\right)} \\rho\\left(R + {r'}\\right)}{R c^{2} + c^{2} {r'} - 2 \\, G M} \\right) \\frac{\\partial}{\\partial t }\\otimes \\frac{\\partial}{\\partial t } + \\left( \\frac{{\\left(R c^{2} + c^{2} {r'} - 2 \\, G M\\right)} P\\left(R + {r'}\\right)}{R c^{2} + c^{2} {r'}} \\right) \\frac{\\partial}{\\partial x }\\otimes \\frac{\\partial}{\\partial x } + \\left( \\frac{{\\left(R c^{2} + c^{2} {r'} - 2 \\, G M\\right)} P\\left(R + {r'}\\right)}{R c^{2} + c^{2} {r'}} \\right) \\frac{\\partial}{\\partial y }\\otimes \\frac{\\partial}{\\partial y } + \\left( \\frac{{\\left(R c^{2} + c^{2} {r'} - 2 \\, G M\\right)} P\\left(R + {r'}\\right)}{R c^{2} + c^{2} {r'}} \\right) \\frac{\\partial}{\\partial {r'} }\\otimes \\frac{\\partial}{\\partial {r'} }</script></html>"
      ],
      "text/plain": [
       "T = (R*c^2 + c^2*rp)*rho(R + rp)/(R*c^2 + c^2*rp - 2*G*M) d/dt*d/dt + (R*c^2 + c^2*rp - 2*G*M)*P(R + rp)/(R*c^2 + c^2*rp) d/dx*d/dx + (R*c^2 + c^2*rp - 2*G*M)*P(R + rp)/(R*c^2 + c^2*rp) d/dy*d/dy + (R*c^2 + c^2*rp - 2*G*M)*P(R + rp)/(R*c^2 + c^2*rp) d/drp*d/drp"
      ]
     },
     "execution_count": 63,
     "metadata": {},
     "output_type": "execute_result"
    }
   ],
   "source": [
    "T.display(Y.frame(), Y)"
   ]
  },
  {
   "cell_type": "code",
   "execution_count": 64,
   "metadata": {
    "collapsed": false
   },
   "outputs": [
    {
     "data": {
      "text/html": [
       "<html><script type=\"math/tex; mode=display\">\\newcommand{\\Bold}[1]{\\mathbf{#1}}T = \\left( \\frac{c^{2} r \\rho}{c^{2} r - 2 \\, G M} \\right) \\frac{\\partial}{\\partial t }\\otimes \\frac{\\partial}{\\partial t } + \\left( \\frac{c^{2} r P - 2 \\, G M P}{c^{2} r} \\right) \\frac{\\partial}{\\partial x }\\otimes \\frac{\\partial}{\\partial x } + \\left( \\frac{c^{2} r P - 2 \\, G M P}{c^{2} r} \\right) \\frac{\\partial}{\\partial y }\\otimes \\frac{\\partial}{\\partial y } + \\left( \\frac{c^{2} r P - 2 \\, G M P}{c^{2} r} \\right) \\frac{\\partial}{\\partial r }\\otimes \\frac{\\partial}{\\partial r }</script></html>"
      ],
      "text/plain": [
       "T = c^2*r*rho/(c^2*r - 2*G*M) d/dt*d/dt + (c^2*r*P - 2*G*M*P)/(c^2*r) d/dx*d/dx + (c^2*r*P - 2*G*M*P)/(c^2*r) d/dy*d/dy + (c^2*r*P - 2*G*M*P)/(c^2*r) d/dr*d/dr"
      ]
     },
     "execution_count": 64,
     "metadata": {},
     "output_type": "execute_result"
    }
   ],
   "source": [
    "u_form = u.down(g)\n",
    "T_down = (rho + p/c^2)*(u_form*u_form) + p*g\n",
    "T.display()"
   ]
  },
  {
   "cell_type": "code",
   "execution_count": 66,
   "metadata": {
    "collapsed": false
   },
   "outputs": [
    {
     "data": {
      "text/html": [
       "<html><script type=\"math/tex; mode=display\">\\newcommand{\\Bold}[1]{\\mathbf{#1}}\\left(\\begin{array}{rrrr}\n",
       "\\frac{c^{2} r \\rho\\left(r\\right)}{c^{2} r - 2 \\, G M} & 0 & 0 & 0 \\\\\n",
       "0 & \\frac{c^{2} r P\\left(r\\right) - 2 \\, G M P\\left(r\\right)}{c^{2} r} & 0 & 0 \\\\\n",
       "0 & 0 & \\frac{c^{2} r P\\left(r\\right) - 2 \\, G M P\\left(r\\right)}{c^{2} r} & 0 \\\\\n",
       "0 & 0 & 0 & \\frac{c^{2} r P\\left(r\\right) - 2 \\, G M P\\left(r\\right)}{c^{2} r}\n",
       "\\end{array}\\right)</script></html>"
      ],
      "text/plain": [
       "[     c^2*r*rho(r)/(c^2*r - 2*G*M)                                 0                                 0                                 0]\n",
       "[                                0 (c^2*r*P(r) - 2*G*M*P(r))/(c^2*r)                                 0                                 0]\n",
       "[                                0                                 0 (c^2*r*P(r) - 2*G*M*P(r))/(c^2*r)                                 0]\n",
       "[                                0                                 0                                 0 (c^2*r*P(r) - 2*G*M*P(r))/(c^2*r)]"
      ]
     },
     "execution_count": 66,
     "metadata": {},
     "output_type": "execute_result"
    }
   ],
   "source": [
    "Tup = T_down.up(g,0).up(g,1)\n",
    "Tup[:]"
   ]
  },
  {
   "cell_type": "code",
   "execution_count": 67,
   "metadata": {
    "collapsed": false
   },
   "outputs": [
    {
     "data": {
      "text/html": [
       "<html><script type=\"math/tex; mode=display\">\\newcommand{\\Bold}[1]{\\mathbf{#1}}\\mathrm{True}</script></html>"
      ],
      "text/plain": [
       "True"
      ]
     },
     "execution_count": 67,
     "metadata": {},
     "output_type": "execute_result"
    }
   ],
   "source": [
    "Tup == T"
   ]
  },
  {
   "cell_type": "code",
   "execution_count": 103,
   "metadata": {
    "collapsed": false
   },
   "outputs": [
    {
     "data": {
      "text/html": [
       "<html><script type=\"math/tex; mode=display\">\\newcommand{\\Bold}[1]{\\mathbf{#1}}\\begin{array}{llcl} & M & \\longrightarrow & \\mathbb{R} \\\\ & \\left(t, x, y, r\\right) & \\longmapsto & -c^{2} \\rho + 3 \\, P \\\\ & \\left(t, x, y, {r'}\\right) & \\longmapsto & -c^{2} \\rho\\left(R + {r'}\\right) + 3 \\, P\\left(R + {r'}\\right) \\\\ & \\left(t, r, {\\theta}, {\\phi}\\right) & \\longmapsto & -c^{2} \\rho\\left(r \\cos\\left({\\theta}\\right)\\right) + 3 \\, P\\left(r \\cos\\left({\\theta}\\right)\\right) \\\\ & \\left(t, {r''}, {\\theta}, {\\phi}\\right) & \\longmapsto & -c^{2} \\rho\\left({r''} \\cos\\left({\\theta}\\right)\\right) + 3 \\, P\\left({r''} \\cos\\left({\\theta}\\right)\\right) \\\\ & \\left(t, {\\tilde{r}}, {\\theta}, {\\phi}\\right) & \\longmapsto & -c^{2} \\rho\\left({\\tilde{r}} \\cos\\left({\\theta}\\right)\\right) + 3 \\, P\\left({\\tilde{r}} \\cos\\left({\\theta}\\right)\\right) \\end{array}</script></html>"
      ],
      "text/plain": [
       "M --> R\n",
       "(t, x, y, r) |--> -c^2*rho + 3*P\n",
       "(t, x, y, rp) |--> -c^2*rho(R + rp) + 3*P(R + rp)\n",
       "(t, r, th, phi) |--> -c^2*rho(r*cos(th)) + 3*P(r*cos(th))\n",
       "(t, rpp, th, phi) |--> -c^2*rho(rpp*cos(th)) + 3*P(rpp*cos(th))\n",
       "(t, rt, th, phi) |--> -c^2*rho(rt*cos(th)) + 3*P(rt*cos(th))"
      ]
     },
     "execution_count": 103,
     "metadata": {},
     "output_type": "execute_result"
    }
   ],
   "source": [
    "Ttrace = (T_down.up(g, 0)).trace(0, 1)\n",
    "Ttrace.display()"
   ]
  },
  {
   "cell_type": "code",
   "execution_count": 69,
   "metadata": {
    "collapsed": true
   },
   "outputs": [],
   "source": [
    "E0=(E[0,0] - (8*pi*G/c^4)*T_down[0,0]).expr() == 0"
   ]
  },
  {
   "cell_type": "code",
   "execution_count": 130,
   "metadata": {
    "collapsed": false
   },
   "outputs": [
    {
     "data": {
      "text/html": [
       "<html><script type=\"math/tex; mode=display\">\\newcommand{\\Bold}[1]{\\mathbf{#1}}g_2 = \\left( -\\frac{c^{2} r - 2 \\, G M}{r} \\right) \\mathrm{d} t\\otimes \\mathrm{d} t + \\left( \\frac{c^{2} r}{c^{2} r - 2 \\, G M} \\right) \\mathrm{d} r\\otimes \\mathrm{d} r + r^{2} \\mathrm{d} {\\theta}\\otimes \\mathrm{d} {\\theta} + r^{2} \\sin\\left({\\theta}\\right)^{2} \\mathrm{d} {\\phi}\\otimes \\mathrm{d} {\\phi}</script></html>"
      ],
      "text/plain": [
       "g_2 = -(c^2*r - 2*G*M)/r dt*dt + c^2*r/(c^2*r - 2*G*M) dr*dr + r^2 dth*dth + r^2*sin(th)^2 dphi*dphi"
      ]
     },
     "execution_count": 130,
     "metadata": {},
     "output_type": "execute_result"
    }
   ],
   "source": [
    "Mfld2 = Manifold(4, 'M_2')\n",
    "\n",
    "X2.<t,r,th,ph> = Mfld2.chart(r\"t r:(0,+oo) th:(0,pi):\\theta phi:(0,2*pi):\\phi\")\n",
    "\n",
    "g2 = Mfld2.lorentzian_metric('g_2')\n",
    "g2[0,0] = -c**2 *(1 - 2*G*M/ (r*c**2))\n",
    "g2[1,1] = 1/ (1 - 2* G* M/(r*c**2))\n",
    "g2[2,2] = r**2\n",
    "g2[3,3] = r**2 * sin(th)**2\n",
    "g2.display()"
   ]
  },
  {
   "cell_type": "code",
   "execution_count": 139,
   "metadata": {
    "collapsed": false
   },
   "outputs": [
    {
     "data": {
      "text/html": [
       "<html><script type=\"math/tex; mode=display\">\\newcommand{\\Bold}[1]{\\mathbf{#1}}\\begin{array}{lcl} \\Gamma_{ \\phantom{\\, t } \\, t \\, r }^{ \\, t \\phantom{\\, t } \\phantom{\\, r } } & = & \\frac{G M}{c^{2} r^{2} - 2 \\, G M r} \\\\ \\Gamma_{ \\phantom{\\, t } \\, r \\, t }^{ \\, t \\phantom{\\, r } \\phantom{\\, t } } & = & \\frac{G M}{c^{2} r^{2} - 2 \\, G M r} \\\\ \\Gamma_{ \\phantom{\\, r } \\, t \\, t }^{ \\, r \\phantom{\\, t } \\phantom{\\, t } } & = & \\frac{G M c^{2} r - 2 \\, G^{2} M^{2}}{c^{2} r^{3}} \\\\ \\Gamma_{ \\phantom{\\, r } \\, r \\, r }^{ \\, r \\phantom{\\, r } \\phantom{\\, r } } & = & -\\frac{G M}{c^{2} r^{2} - 2 \\, G M r} \\\\ \\Gamma_{ \\phantom{\\, r } \\, {\\theta} \\, {\\theta} }^{ \\, r \\phantom{\\, {\\theta} } \\phantom{\\, {\\theta} } } & = & -\\frac{c^{2} r - 2 \\, G M}{c^{2}} \\\\ \\Gamma_{ \\phantom{\\, r } \\, {\\phi} \\, {\\phi} }^{ \\, r \\phantom{\\, {\\phi} } \\phantom{\\, {\\phi} } } & = & -\\frac{c^{2} r \\sin\\left({\\theta}\\right)^{2} - 2 \\, G M \\sin\\left({\\theta}\\right)^{2}}{c^{2}} \\\\ \\Gamma_{ \\phantom{\\, {\\theta} } \\, r \\, {\\theta} }^{ \\, {\\theta} \\phantom{\\, r } \\phantom{\\, {\\theta} } } & = & \\frac{1}{r} \\\\ \\Gamma_{ \\phantom{\\, {\\theta} } \\, {\\theta} \\, r }^{ \\, {\\theta} \\phantom{\\, {\\theta} } \\phantom{\\, r } } & = & \\frac{1}{r} \\\\ \\Gamma_{ \\phantom{\\, {\\theta} } \\, {\\phi} \\, {\\phi} }^{ \\, {\\theta} \\phantom{\\, {\\phi} } \\phantom{\\, {\\phi} } } & = & -\\cos\\left({\\theta}\\right) \\sin\\left({\\theta}\\right) \\\\ \\Gamma_{ \\phantom{\\, {\\phi} } \\, r \\, {\\phi} }^{ \\, {\\phi} \\phantom{\\, r } \\phantom{\\, {\\phi} } } & = & \\frac{1}{r} \\\\ \\Gamma_{ \\phantom{\\, {\\phi} } \\, {\\theta} \\, {\\phi} }^{ \\, {\\phi} \\phantom{\\, {\\theta} } \\phantom{\\, {\\phi} } } & = & \\frac{\\cos\\left({\\theta}\\right)}{\\sin\\left({\\theta}\\right)} \\\\ \\Gamma_{ \\phantom{\\, {\\phi} } \\, {\\phi} \\, r }^{ \\, {\\phi} \\phantom{\\, {\\phi} } \\phantom{\\, r } } & = & \\frac{1}{r} \\\\ \\Gamma_{ \\phantom{\\, {\\phi} } \\, {\\phi} \\, {\\theta} }^{ \\, {\\phi} \\phantom{\\, {\\phi} } \\phantom{\\, {\\theta} } } & = & \\frac{\\cos\\left({\\theta}\\right)}{\\sin\\left({\\theta}\\right)} \\end{array}</script></html>"
      ],
      "text/plain": [
       "Gam^t_t,r = G*M/(c^2*r^2 - 2*G*M*r) \n",
       "Gam^t_r,t = G*M/(c^2*r^2 - 2*G*M*r) \n",
       "Gam^r_t,t = (G*M*c^2*r - 2*G^2*M^2)/(c^2*r^3) \n",
       "Gam^r_r,r = -G*M/(c^2*r^2 - 2*G*M*r) \n",
       "Gam^r_th,th = -(c^2*r - 2*G*M)/c^2 \n",
       "Gam^r_phi,phi = -(c^2*r*sin(th)^2 - 2*G*M*sin(th)^2)/c^2 \n",
       "Gam^th_r,th = 1/r \n",
       "Gam^th_th,r = 1/r \n",
       "Gam^th_phi,phi = -cos(th)*sin(th) \n",
       "Gam^phi_r,phi = 1/r \n",
       "Gam^phi_th,phi = cos(th)/sin(th) \n",
       "Gam^phi_phi,r = 1/r \n",
       "Gam^phi_phi,th = cos(th)/sin(th) "
      ]
     },
     "execution_count": 139,
     "metadata": {},
     "output_type": "execute_result"
    }
   ],
   "source": [
    "nab2 = g2.connection()\n",
    "nab2.display()"
   ]
  },
  {
   "cell_type": "code",
   "execution_count": 230,
   "metadata": {
    "collapsed": false
   },
   "outputs": [
    {
     "data": {
      "text/html": [
       "<html><script type=\"math/tex; mode=display\">\\newcommand{\\Bold}[1]{\\mathbf{#1}}T_2 = \\left( \\frac{c^{2} r \\rho}{c^{2} r - 2 \\, G M} \\right) \\frac{\\partial}{\\partial t }\\otimes \\frac{\\partial}{\\partial t } + \\left( \\frac{c^{2} r P - 2 \\, G M P}{c^{2} r} \\right) \\frac{\\partial}{\\partial r }\\otimes \\frac{\\partial}{\\partial r } + \\frac{P}{r^{2}} \\frac{\\partial}{\\partial {\\theta} }\\otimes \\frac{\\partial}{\\partial {\\theta} } + \\frac{P}{r^{2} \\sin\\left({\\theta}\\right)^{2}} \\frac{\\partial}{\\partial {\\phi} }\\otimes \\frac{\\partial}{\\partial {\\phi} }</script></html>"
      ],
      "text/plain": [
       "T_2 = c^2*r*rho/(c^2*r - 2*G*M) d/dt*d/dt + (c^2*r*P - 2*G*M*P)/(c^2*r) d/dr*d/dr + P/r^2 d/dth*d/dth + P/(r^2*sin(th)^2) d/dphi*d/dphi"
      ]
     },
     "execution_count": 230,
     "metadata": {},
     "output_type": "execute_result"
    }
   ],
   "source": [
    "u2 = Mfld2.vector_field('u_2')\n",
    "u2[0] = c*sqrt(-1/g2[0,0])\n",
    "\n",
    "\n",
    "T2 = (rho + p/c^2) * u2 * u2 + p * g2.up(g2)\n",
    "T2.set_name('T_2')\n",
    "T2.display()"
   ]
  },
  {
   "cell_type": "code",
   "execution_count": 141,
   "metadata": {
    "collapsed": false
   },
   "outputs": [
    {
     "data": {
      "text/html": [
       "<html><script type=\"math/tex; mode=display\">\\newcommand{\\Bold}[1]{\\mathbf{#1}}\\frac{\\partial\\,P}{\\partial r} = -\\frac{{\\left(c^{2} \\rho + P\\right)} G M}{c^{2} r^{2} - 2 \\, G M r}</script></html>"
      ],
      "text/plain": [
       "d(P)/dr == -(c^2*rho + P)*G*M/(c^2*r^2 - 2*G*M*r)"
      ]
     },
     "execution_count": 141,
     "metadata": {},
     "output_type": "execute_result"
    }
   ],
   "source": [
    "co = nab2(T2)\n",
    "cosum = 0\n",
    "# radial component of the covariant derivative: \n",
    "for i in Mfld.irange():\n",
    "    cosum += co[i,1,i]\n",
    "cosum \n",
    "E2 = solve(cosum.expr(), p.diff(r))[0]\n",
    "ExpressionNice(E2)"
   ]
  },
  {
   "cell_type": "code",
   "execution_count": 177,
   "metadata": {
    "collapsed": false
   },
   "outputs": [
    {
     "data": {
      "text/html": [
       "<html><script type=\"math/tex; mode=display\">\\newcommand{\\Bold}[1]{\\mathbf{#1}}\\begin{array}{llcl} & M_2 & \\longrightarrow & \\mathbb{R} \\\\ & \\left(t, r, {\\theta}, {\\phi}\\right) & \\longmapsto & -c^{2} \\end{array}</script></html>"
      ],
      "text/plain": [
       "M_2 --> R\n",
       "(t, r, th, phi) |--> -c^2"
      ]
     },
     "execution_count": 177,
     "metadata": {},
     "output_type": "execute_result"
    }
   ],
   "source": [
    "u2.down(g2).contract(u2).display()"
   ]
  },
  {
   "cell_type": "code",
   "execution_count": 227,
   "metadata": {
    "collapsed": false
   },
   "outputs": [],
   "source": [
    "chrs = Mfld2.tensor_field(1,2, name='\\Gamma')\n",
    "\n",
    "for i in Mfld2.irange():\n",
    "    for j in Mfld2.irange():\n",
    "        for k in Mfld2.irange():\n",
    "            chrs[i,j,k] = nab2.coef()[i,j,k]\n",
    "    "
   ]
  },
  {
   "cell_type": "code",
   "execution_count": 258,
   "metadata": {
    "collapsed": false
   },
   "outputs": [
    {
     "data": {
      "text/html": [
       "<html><script type=\"math/tex; mode=display\">\\newcommand{\\Bold}[1]{\\mathbf{#1}}\\left( \\frac{c^{4} r^{5} \\sin\\left({\\theta}\\right)^{2} {\\rm uph}\\left(t, r, {\\theta}, {\\phi}\\right)^{2} + c^{4} r^{5} {\\rm uth}\\left(t, r, {\\theta}, {\\phi}\\right)^{2} - 4 \\, G^{3} M^{3} {\\rm ut}\\left(t, r, {\\theta}, {\\phi}\\right)^{2} + 4 \\, {\\left(r^{3} \\sin\\left({\\theta}\\right)^{2} {\\rm uph}\\left(t, r, {\\theta}, {\\phi}\\right)^{2} + c^{2} r {\\rm ut}\\left(t, r, {\\theta}, {\\phi}\\right)^{2} + r^{3} {\\rm uth}\\left(t, r, {\\theta}, {\\phi}\\right)^{2}\\right)} G^{2} M^{2} - {\\left(4 \\, c^{2} r^{4} \\sin\\left({\\theta}\\right)^{2} {\\rm uph}\\left(t, r, {\\theta}, {\\phi}\\right)^{2} + 4 \\, c^{2} r^{4} {\\rm uth}\\left(t, r, {\\theta}, {\\phi}\\right)^{2} + {\\left(c^{4} + c^{2}\\right)} r^{2} {\\rm ut}\\left(t, r, {\\theta}, {\\phi}\\right)^{2}\\right)} G M}{c^{4} r^{4} - 4 \\, G M c^{2} r^{3} + 4 \\, G^{2} M^{2} r^{2}} \\right) \\mathrm{d} r + r^{2} \\cos\\left({\\theta}\\right) \\sin\\left({\\theta}\\right) {\\rm uph}\\left(t, r, {\\theta}, {\\phi}\\right)^{2} \\mathrm{d} {\\theta}</script></html>"
      ],
      "text/plain": [
       "(c^4*r^5*sin(th)^2*uph(t, r, th, phi)^2 + c^4*r^5*uth(t, r, th, phi)^2 - 4*G^3*M^3*ut(t, r, th, phi)^2 + 4*(r^3*sin(th)^2*uph(t, r, th, phi)^2 + c^2*r*ut(t, r, th, phi)^2 + r^3*uth(t, r, th, phi)^2)*G^2*M^2 - (4*c^2*r^4*sin(th)^2*uph(t, r, th, phi)^2 + 4*c^2*r^4*uth(t, r, th, phi)^2 + (c^4 + c^2)*r^2*ut(t, r, th, phi)^2)*G*M)/(c^4*r^4 - 4*G*M*c^2*r^3 + 4*G^2*M^2*r^2) dr + r^2*cos(th)*sin(th)*uph(t, r, th, phi)^2 dth"
      ]
     },
     "execution_count": 258,
     "metadata": {},
     "output_type": "execute_result"
    }
   ],
   "source": [
    "U = Mfld2.tensor_field(1,0,'U')\n",
    "Ut = function(r'ut')(t,r,th,ph)\n",
    "Ur = function(r'ut')(t,r,th,ph)\n",
    "Uth = function(r'uth')(t,r,th,ph)\n",
    "Uph = function(r'uph')(t,r,th,ph)\n",
    "U[0] = Ut\n",
    "U[1] = Ur\n",
    "U[2] = Uth\n",
    "U[3] = Uph\n",
    "\n",
    "a = chrs['^i_{jk}']*U.down(g2)['_i'] \n",
    "(a['_{jk}']* U['^k']).display()"
   ]
  },
  {
   "cell_type": "code",
   "execution_count": 228,
   "metadata": {
    "collapsed": false
   },
   "outputs": [
    {
     "data": {
      "text/html": [
       "<html><script type=\"math/tex; mode=display\">\\newcommand{\\Bold}[1]{\\mathbf{#1}}\\Gamma = \\left( \\frac{G M}{c^{2} r^{2} - 2 \\, G M r} \\right) \\frac{\\partial}{\\partial t }\\otimes \\mathrm{d} t\\otimes \\mathrm{d} r + \\left( \\frac{G M}{c^{2} r^{2} - 2 \\, G M r} \\right) \\frac{\\partial}{\\partial t }\\otimes \\mathrm{d} r\\otimes \\mathrm{d} t + \\left( \\frac{G M c^{2} r - 2 \\, G^{2} M^{2}}{c^{2} r^{3}} \\right) \\frac{\\partial}{\\partial r }\\otimes \\mathrm{d} t\\otimes \\mathrm{d} t + \\left( -\\frac{G M}{c^{2} r^{2} - 2 \\, G M r} \\right) \\frac{\\partial}{\\partial r }\\otimes \\mathrm{d} r\\otimes \\mathrm{d} r + \\left( -\\frac{c^{2} r - 2 \\, G M}{c^{2}} \\right) \\frac{\\partial}{\\partial r }\\otimes \\mathrm{d} {\\theta}\\otimes \\mathrm{d} {\\theta} + \\left( -\\frac{c^{2} r \\sin\\left({\\theta}\\right)^{2} - 2 \\, G M \\sin\\left({\\theta}\\right)^{2}}{c^{2}} \\right) \\frac{\\partial}{\\partial r }\\otimes \\mathrm{d} {\\phi}\\otimes \\mathrm{d} {\\phi} + \\frac{1}{r} \\frac{\\partial}{\\partial {\\theta} }\\otimes \\mathrm{d} r\\otimes \\mathrm{d} {\\theta} + \\frac{1}{r} \\frac{\\partial}{\\partial {\\theta} }\\otimes \\mathrm{d} {\\theta}\\otimes \\mathrm{d} r -\\cos\\left({\\theta}\\right) \\sin\\left({\\theta}\\right) \\frac{\\partial}{\\partial {\\theta} }\\otimes \\mathrm{d} {\\phi}\\otimes \\mathrm{d} {\\phi} + \\frac{1}{r} \\frac{\\partial}{\\partial {\\phi} }\\otimes \\mathrm{d} r\\otimes \\mathrm{d} {\\phi} + \\frac{\\cos\\left({\\theta}\\right)}{\\sin\\left({\\theta}\\right)} \\frac{\\partial}{\\partial {\\phi} }\\otimes \\mathrm{d} {\\theta}\\otimes \\mathrm{d} {\\phi} + \\frac{1}{r} \\frac{\\partial}{\\partial {\\phi} }\\otimes \\mathrm{d} {\\phi}\\otimes \\mathrm{d} r + \\frac{\\cos\\left({\\theta}\\right)}{\\sin\\left({\\theta}\\right)} \\frac{\\partial}{\\partial {\\phi} }\\otimes \\mathrm{d} {\\phi}\\otimes \\mathrm{d} {\\theta}</script></html>"
      ],
      "text/plain": [
       "\\Gamma = G*M/(c^2*r^2 - 2*G*M*r) d/dt*dt*dr + G*M/(c^2*r^2 - 2*G*M*r) d/dt*dr*dt + (G*M*c^2*r - 2*G^2*M^2)/(c^2*r^3) d/dr*dt*dt - G*M/(c^2*r^2 - 2*G*M*r) d/dr*dr*dr - (c^2*r - 2*G*M)/c^2 d/dr*dth*dth - (c^2*r*sin(th)^2 - 2*G*M*sin(th)^2)/c^2 d/dr*dphi*dphi + 1/r d/dth*dr*dth + 1/r d/dth*dth*dr - cos(th)*sin(th) d/dth*dphi*dphi + 1/r d/dphi*dr*dphi + cos(th)/sin(th) d/dphi*dth*dphi + 1/r d/dphi*dphi*dr + cos(th)/sin(th) d/dphi*dphi*dth"
      ]
     },
     "execution_count": 228,
     "metadata": {},
     "output_type": "execute_result"
    }
   ],
   "source": [
    "chrs.display()"
   ]
  },
  {
   "cell_type": "code",
   "execution_count": 233,
   "metadata": {
    "collapsed": false
   },
   "outputs": [
    {
     "data": {
      "text/html": [
       "<html><script type=\"math/tex; mode=display\">\\newcommand{\\Bold}[1]{\\mathbf{#1}}U = \\left( \\frac{c \\sqrt{r}}{\\sqrt{c^{2} r - 2 \\, G M}} \\right) \\frac{\\partial}{\\partial t }</script></html>"
      ],
      "text/plain": [
       "U = c*sqrt(r)/sqrt(c^2*r - 2*G*M) d/dt"
      ]
     },
     "execution_count": 233,
     "metadata": {},
     "output_type": "execute_result"
    }
   ],
   "source": [
    "U.display()"
   ]
  },
  {
   "cell_type": "code",
   "execution_count": null,
   "metadata": {
    "collapsed": true
   },
   "outputs": [],
   "source": []
  }
 ],
 "metadata": {
  "kernelspec": {
   "display_name": "SageMath 7.2",
   "language": "",
   "name": "sagemath"
  },
  "language_info": {
   "codemirror_mode": {
    "name": "ipython",
    "version": 2
   },
   "file_extension": ".py",
   "mimetype": "text/x-python",
   "name": "python",
   "nbconvert_exporter": "python",
   "pygments_lexer": "ipython2",
   "version": "2.7.10"
  }
 },
 "nbformat": 4,
 "nbformat_minor": 0
}
