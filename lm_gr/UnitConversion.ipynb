{
 "cells": [
  {
   "cell_type": "markdown",
   "metadata": {},
   "source": [
    "# Pyro to Cactus unit conversion"
   ]
  },
  {
   "cell_type": "code",
   "execution_count": 62,
   "metadata": {
    "collapsed": false
   },
   "outputs": [],
   "source": [
    "from IPython.html import widgets\n",
    "from IPython.display import display\n",
    "from IPython.html.widgets import interact_manual"
   ]
  },
  {
   "cell_type": "code",
   "execution_count": 48,
   "metadata": {
    "collapsed": false
   },
   "outputs": [],
   "source": [
    "# define conversions\n",
    "# units in cgs\n",
    "c = 29979245800.0\n",
    "G = 6.67428e-8\n",
    "M_sun = 1.98892e+33\n",
    "R_NS = 10.0e3 * 100\n",
    "\n",
    "# cactus units\n",
    "cact_M = M_sun\n",
    "cact_L = cact_M * G / c**2\n",
    "cact_t = cact_L / c\n",
    "cact_r = cact_M / cact_L**3\n",
    "cact_v = c\n",
    "cact_p = cact_M / (cact_L * cact_t**2)\n",
    "\n",
    "# pyro units\n",
    "# inputs\n",
    "py_c = 10.\n",
    "py_R = 1000.\n",
    "py_grav = 80. # = GM/R\n",
    "py_G = 1.\n",
    "py_M = py_grav * py_R / py_G\n",
    "\n",
    "# put in terms of cgs\n",
    "py_v = c / py_c\n",
    "py_L = py_R / R_NS\n",
    "py_grav = (G * M_sun/R_NS) / py_grav\n",
    "py_t = py_L / py_c\n",
    "py_G = G / py_G\n",
    "py_M = M_sun / py_M\n",
    "py_r = py_M / py_L**3\n",
    "py_p = py_M / (py_L * py_t**2)"
   ]
  },
  {
   "cell_type": "code",
   "execution_count": 67,
   "metadata": {
    "collapsed": false
   },
   "outputs": [
    {
     "data": {
      "text/plain": [
       "None"
      ]
     },
     "metadata": {},
     "output_type": "display_data"
    }
   ],
   "source": [
    "# top row\n",
    "py = widgets.HTML(\n",
    "    value=\"<b>pyro</b>&emsp;&emsp;&emsp;&emsp;&emsp;&emsp;&emsp;&emsp;\"\n",
    ")\n",
    "ca = widgets.HTML(\n",
    "    value=\"<b>cactus</b>\"\n",
    ")\n",
    "\n",
    "label = widgets.HTML(\n",
    "    value=\"&nbsp;&nbsp;&nbsp;&nbsp;&nbsp;&nbsp;&nbsp;&emsp;&emsp;&emsp;&emsp;&nbsp;&nbsp;&nbsp;&nbsp;&nbsp;&nbsp;&nbsp;\"\n",
    ")\n",
    "\n",
    "boxes_top = [label, py, ca]\n",
    "label_margin = 20\n",
    "py.margin = 20\n",
    "ca.margin = 20\n",
    "container_top = widgets.HBox(children=boxes_top)\n",
    "\n",
    "# rho\n",
    "pyro_r = widgets.BoundedFloatText(\n",
    "    min=0.0,\n",
    "    max=1.0e33,\n",
    ")\n",
    "cactus_r = widgets.BoundedFloatText(\n",
    "    min=0.0,\n",
    "    max=1.0e33,\n",
    ")\n",
    "label_r = widgets.Latex(\n",
    "    value=\"$\\\\rho$\",\n",
    ")\n",
    "boxes_r = [label_r,pyro_r,cactus_r]\n",
    "label_r.margin=20\n",
    "pyro_r.margin=20\n",
    "cactus_r.margin=20\n",
    "container_r = widgets.HBox(children=boxes_r)\n",
    "\n",
    "# u\n",
    "pyro_u = widgets.BoundedFloatText(\n",
    "    min=-1.0e33,\n",
    "    max=1.0e33,\n",
    ")\n",
    "cactus_u = widgets.BoundedFloatText(\n",
    "    min=-1.0e33,\n",
    "    max=1.0e33,\n",
    ")\n",
    "label_u = widgets.Latex(\n",
    "    value=\"$u$\",\n",
    ")\n",
    "boxes_u = [label_u,pyro_u,cactus_u]\n",
    "label_u.margin=20\n",
    "pyro_u.margin=20\n",
    "cactus_u.margin=20\n",
    "container_u = widgets.HBox(children=boxes_u)\n",
    "\n",
    "# p\n",
    "pyro_p = widgets.BoundedFloatText(\n",
    "    min=0.0,\n",
    "    max=1.0e33,\n",
    ")\n",
    "cactus_p = widgets.BoundedFloatText(\n",
    "    min=0.0,\n",
    "    max=1.0e33,\n",
    ")\n",
    "label_p = widgets.Latex(\n",
    "    value=\"$p$\",\n",
    ")\n",
    "boxes_p = [label_p,pyro_p,cactus_p]\n",
    "label_p.margin=20\n",
    "pyro_p.margin=20\n",
    "cactus_p.margin=20\n",
    "container_p = widgets.HBox(children=boxes_p)\n",
    "\n",
    "display(container_top)\n",
    "display(container_r)\n",
    "display(container_u)\n",
    "display(container_p)\n",
    "\n",
    "# compute conversions\n",
    "@interact_manual\n",
    "def convert_from_py():\n",
    "    cactus_r.value = pyro_r.value * py_r / cact_r\n",
    "    cactus_u.value = pyro_u.value * py_v / cact_v\n",
    "    cactus_p.value = pyro_p.value * py_p / cact_p\n",
    "    \n",
    "@interact_manual\n",
    "def convert_from_cactus():\n",
    "    pyro_r.value = cactus_r.value * cact_r / py_r\n",
    "    pyro_u.value = cactus_u.value * cact_v / py_v\n",
    "    pyro_p.value = cactus_p.value * cact_p / py_p\n",
    "\n",
    "# now do some handles\n",
    "def handle_py_r(sender, value):\n",
    "    cactus_r.value = value / py_r\n",
    "\n",
    "def handle_c_r(sender, value):\n",
    "    pyro_r.value = value / cact_r\n",
    "    \n",
    "def handle_py_u(sender, value):\n",
    "    cactus_u.value = value / py_v\n",
    "\n",
    "def handle_c_u(sender, value):\n",
    "    pyro_u.value = value / cact_v    \n",
    "    \n",
    "def handle_py_p(sender, value):\n",
    "    cactus_p.value = value / py_p\n",
    "\n",
    "def handle_c_p(sender, value):\n",
    "    pyro_p.value = value / cact_p \n",
    "    \n",
    "#pyro_r.on_trait_change(handle_py_r, 'value')\n",
    "#cactus_r.on_trait_change(handle_c_r, 'value')\n",
    "#pyro_u.on_trait_change(handle_py_u, 'value')\n",
    "#cactus_u.on_trait_change(handle_c_u, 'value')\n",
    "#pyro_p.on_trait_change(handle_py_p, 'value')\n",
    "#cactus_p.on_trait_change(handle_c_p, 'value')"
   ]
  },
  {
   "cell_type": "code",
   "execution_count": 56,
   "metadata": {
    "collapsed": false
   },
   "outputs": [
    {
     "name": "stdout",
     "output_type": "stream",
     "text": [
      "None\n"
     ]
    }
   ],
   "source": [
    "print(widgets.Widget.__doc__)"
   ]
  },
  {
   "cell_type": "code",
   "execution_count": null,
   "metadata": {
    "collapsed": true
   },
   "outputs": [],
   "source": []
  }
 ],
 "metadata": {
  "kernelspec": {
   "display_name": "Python 2",
   "language": "python",
   "name": "python2"
  },
  "language_info": {
   "codemirror_mode": {
    "name": "ipython",
    "version": 2
   },
   "file_extension": ".py",
   "mimetype": "text/x-python",
   "name": "python",
   "nbconvert_exporter": "python",
   "pygments_lexer": "ipython2",
   "version": "2.7.10"
  }
 },
 "nbformat": 4,
 "nbformat_minor": 0
}
