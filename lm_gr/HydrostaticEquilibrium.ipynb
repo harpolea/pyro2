{
 "cells": [
  {
   "cell_type": "code",
   "execution_count": 1,
   "metadata": {
    "collapsed": true
   },
   "outputs": [],
   "source": [
    "import sympy\n",
    "sympy.init_printing()\n",
    "\n"
   ]
  },
  {
   "cell_type": "code",
   "execution_count": 16,
   "metadata": {
    "collapsed": true
   },
   "outputs": [],
   "source": [
    "g, G, M, c = sympy.symbols('g, G, M, c', positive=True)\n",
    "t, x, r = sympy.symbols('t, x, r', positive=True)\n",
    "\n",
    "coords = t, x, r"
   ]
  },
  {
   "cell_type": "code",
   "execution_count": 3,
   "metadata": {
    "collapsed": true
   },
   "outputs": [],
   "source": [
    "metric = sympy.Matrix([[-(1 - 2*G*M/ (r*c**2)), 0, 0], [0, (1 + 2* G* M/(r*c**2)), 0], [0, 0, (1 + 2* G* M/(r*c**2))]])"
   ]
  },
  {
   "cell_type": "code",
   "execution_count": 4,
   "metadata": {
    "collapsed": true
   },
   "outputs": [],
   "source": [
    "metric_up = metric.inv()"
   ]
  },
  {
   "cell_type": "code",
   "execution_count": 5,
   "metadata": {
    "collapsed": false
   },
   "outputs": [
    {
     "name": "stdout",
     "output_type": "stream",
     "text": [
      "(0, 0, 0, 0)\n",
      "(0, 0, 1, 0)\n",
      "(0, 0, 2, G*M/(r*(-2*G*M + c**2*r)))\n",
      "(0, 1, 0, 0)\n",
      "(0, 1, 1, 0)\n",
      "(0, 1, 2, 0)\n",
      "(0, 2, 0, G*M/(r*(-2*G*M + c**2*r)))\n",
      "(0, 2, 1, 0)\n",
      "(0, 2, 2, 0)\n",
      "(1, 0, 0, 0)\n",
      "(1, 0, 1, 0)\n",
      "(1, 0, 2, 0)\n",
      "(1, 1, 0, 0)\n",
      "(1, 1, 1, 0)\n",
      "(1, 1, 2, -G*M/(r*(2*G*M + c**2*r)))\n",
      "(1, 2, 0, 0)\n",
      "(1, 2, 1, -G*M/(r*(2*G*M + c**2*r)))\n",
      "(1, 2, 2, 0)\n",
      "(2, 0, 0, G*M/(r*(2*G*M + c**2*r)))\n",
      "(2, 0, 1, 0)\n",
      "(2, 0, 2, 0)\n",
      "(2, 1, 0, 0)\n",
      "(2, 1, 1, G*M/(r*(2*G*M + c**2*r)))\n",
      "(2, 1, 2, 0)\n",
      "(2, 2, 0, 0)\n",
      "(2, 2, 1, 0)\n",
      "(2, 2, 2, -G*M/(r*(2*G*M + c**2*r)))\n"
     ]
    },
    {
     "data": {
      "image/png": "[encoded data removed]",
      "text/latex": [
       "$$\\left [ \\left [ \\left [ 0, \\quad 0, \\quad \\frac{G M}{r \\left(- 2 G M + c^{2} r\\right)}\\right ], \\quad \\left [ 0, \\quad 0, \\quad 0\\right ], \\quad \\left [ \\frac{G M}{r \\left(- 2 G M + c^{2} r\\right)}, \\quad 0, \\quad 0\\right ]\\right ], \\quad \\left [ \\left [ 0, \\quad 0, \\quad 0\\right ], \\quad \\left [ 0, \\quad 0, \\quad - \\frac{G M}{r \\left(2 G M + c^{2} r\\right)}\\right ], \\quad \\left [ 0, \\quad - \\frac{G M}{r \\left(2 G M + c^{2} r\\right)}, \\quad 0\\right ]\\right ], \\quad \\left [ \\left [ \\frac{G M}{r \\left(2 G M + c^{2} r\\right)}, \\quad 0, \\quad 0\\right ], \\quad \\left [ 0, \\quad \\frac{G M}{r \\left(2 G M + c^{2} r\\right)}, \\quad 0\\right ], \\quad \\left [ 0, \\quad 0, \\quad - \\frac{G M}{r \\left(2 G M + c^{2} r\\right)}\\right ]\\right ]\\right ]$$"
      ],
      "text/plain": [
       "⎡⎡⎡             G⋅M       ⎤             ⎡       G⋅M             ⎤⎤  ⎡         \n",
       "⎢⎢⎢0, 0, ─────────────────⎥, [0, 0, 0], ⎢─────────────────, 0, 0⎥⎥, ⎢[0, 0, 0]\n",
       "⎢⎢⎢        ⎛          2  ⎞⎥             ⎢  ⎛          2  ⎞      ⎥⎥  ⎢         \n",
       "⎣⎣⎣      r⋅⎝-2⋅G⋅M + c ⋅r⎠⎦             ⎣r⋅⎝-2⋅G⋅M + c ⋅r⎠      ⎦⎦  ⎣         \n",
       "\n",
       "  ⎡           -G⋅M       ⎤  ⎡        -G⋅M          ⎤⎤  ⎡⎡      G⋅M            \n",
       ", ⎢0, 0, ────────────────⎥, ⎢0, ────────────────, 0⎥⎥, ⎢⎢────────────────, 0, \n",
       "  ⎢        ⎛         2  ⎞⎥  ⎢     ⎛         2  ⎞   ⎥⎥  ⎢⎢  ⎛         2  ⎞     \n",
       "  ⎣      r⋅⎝2⋅G⋅M + c ⋅r⎠⎦  ⎣   r⋅⎝2⋅G⋅M + c ⋅r⎠   ⎦⎦  ⎣⎣r⋅⎝2⋅G⋅M + c ⋅r⎠     \n",
       "\n",
       " ⎤  ⎡         G⋅M          ⎤  ⎡           -G⋅M       ⎤⎤⎤\n",
       "0⎥, ⎢0, ────────────────, 0⎥, ⎢0, 0, ────────────────⎥⎥⎥\n",
       " ⎥  ⎢     ⎛         2  ⎞   ⎥  ⎢        ⎛         2  ⎞⎥⎥⎥\n",
       " ⎦  ⎣   r⋅⎝2⋅G⋅M + c ⋅r⎠   ⎦  ⎣      r⋅⎝2⋅G⋅M + c ⋅r⎠⎦⎦⎦"
      ]
     },
     "execution_count": 5,
     "metadata": {},
     "output_type": "execute_result"
    }
   ],
   "source": [
    "chris = []\n",
    "\n",
    "for i in range(3):\n",
    "    chris_i = []\n",
    "    for j in range(3):\n",
    "        chris_ij = []\n",
    "        for k in range(3):\n",
    "            chris_ijk = 0\n",
    "            for l in range(3):\n",
    "                chris_ijk += metric_up[i, l] * ( metric[l, k].diff(coords[j]) + \\\n",
    "                                                      metric[j, l].diff(coords[k]) - metric[j, k].diff(coords[l])) / 2\n",
    "                \n",
    "            print (i, j, k, chris_ijk.simplify())\n",
    "            chris_ij.append(chris_ijk.simplify())\n",
    "        chris_i.append(chris_ij)\n",
    "    chris.append(chris_i)\n",
    "chris"
   ]
  },
  {
   "cell_type": "code",
   "execution_count": 6,
   "metadata": {
    "collapsed": false
   },
   "outputs": [
    {
     "data": {
      "image/png": "[encoded data removed]",
      "text/latex": [
       "$$r'$$"
      ],
      "text/plain": [
       "r'"
      ]
     },
     "execution_count": 6,
     "metadata": {},
     "output_type": "execute_result"
    }
   ],
   "source": [
    "R, rp = sympy.symbols(\"R, r'\")\n",
    "rp"
   ]
  },
  {
   "cell_type": "code",
   "execution_count": 7,
   "metadata": {
    "collapsed": false
   },
   "outputs": [
    {
     "data": {
      "image/png": "[encoded data removed]",
      "text/latex": [
       "$$\\left [ \\left [ \\left [ 0, \\quad 0, \\quad \\frac{G M}{- 2 G M R - 2 G M r' + R^{2} c^{2} + 2 R c^{2} r' + c^{2} r'^{2}}\\right ], \\quad \\left [ 0, \\quad 0, \\quad 0\\right ], \\quad \\left [ \\frac{G M}{- 2 G M R - 2 G M r' + R^{2} c^{2} + 2 R c^{2} r' + c^{2} r'^{2}}, \\quad 0, \\quad 0\\right ]\\right ], \\quad \\left [ \\left [ 0, \\quad 0, \\quad 0\\right ], \\quad \\left [ 0, \\quad 0, \\quad - \\frac{G M}{2 G M R + 2 G M r' + R^{2} c^{2} + 2 R c^{2} r' + c^{2} r'^{2}}\\right ], \\quad \\left [ 0, \\quad - \\frac{G M}{2 G M R + 2 G M r' + R^{2} c^{2} + 2 R c^{2} r' + c^{2} r'^{2}}, \\quad 0\\right ]\\right ], \\quad \\left [ \\left [ \\frac{G M}{2 G M R + 2 G M r' + R^{2} c^{2} + 2 R c^{2} r' + c^{2} r'^{2}}, \\quad 0, \\quad 0\\right ], \\quad \\left [ 0, \\quad \\frac{G M}{2 G M R + 2 G M r' + R^{2} c^{2} + 2 R c^{2} r' + c^{2} r'^{2}}, \\quad 0\\right ], \\quad \\left [ 0, \\quad 0, \\quad - \\frac{G M}{2 G M R + 2 G M r' + R^{2} c^{2} + 2 R c^{2} r' + c^{2} r'^{2}}\\right ]\\right ]\\right ]$$"
      ],
      "text/plain": [
       "⎡⎡⎡                            G⋅M                       ⎤             ⎡      \n",
       "⎢⎢⎢0, 0, ────────────────────────────────────────────────⎥, [0, 0, 0], ⎢──────\n",
       "⎢⎢⎢                             2  2        2       2   2⎥             ⎢      \n",
       "⎣⎣⎣      -2⋅G⋅M⋅R - 2⋅G⋅M⋅r' + R ⋅c  + 2⋅R⋅c ⋅r' + c ⋅r' ⎦             ⎣-2⋅G⋅M\n",
       "\n",
       "                G⋅M                             ⎤⎤  ⎡           ⎡             \n",
       "──────────────────────────────────────────, 0, 0⎥⎥, ⎢[0, 0, 0], ⎢0, 0, ───────\n",
       "                 2  2        2       2   2      ⎥⎥  ⎢           ⎢             \n",
       "⋅R - 2⋅G⋅M⋅r' + R ⋅c  + 2⋅R⋅c ⋅r' + c ⋅r'       ⎦⎦  ⎣           ⎣      2⋅G⋅M⋅R\n",
       "\n",
       "              -G⋅M                      ⎤  ⎡                        -G⋅M      \n",
       "────────────────────────────────────────⎥, ⎢0, ───────────────────────────────\n",
       "               2  2        2       2   2⎥  ⎢                         2  2     \n",
       " + 2⋅G⋅M⋅r' + R ⋅c  + 2⋅R⋅c ⋅r' + c ⋅r' ⎦  ⎣   2⋅G⋅M⋅R + 2⋅G⋅M⋅r' + R ⋅c  + 2⋅\n",
       "\n",
       "                   ⎤⎤  ⎡⎡                      G⋅M                            \n",
       "────────────────, 0⎥⎥, ⎢⎢───────────────────────────────────────────────, 0, 0\n",
       "   2       2   2   ⎥⎥  ⎢⎢                      2  2        2       2   2      \n",
       "R⋅c ⋅r' + c ⋅r'    ⎦⎦  ⎣⎣2⋅G⋅M⋅R + 2⋅G⋅M⋅r' + R ⋅c  + 2⋅R⋅c ⋅r' + c ⋅r'       \n",
       "\n",
       "⎤  ⎡                         G⋅M                         ⎤  ⎡                 \n",
       "⎥, ⎢0, ───────────────────────────────────────────────, 0⎥, ⎢0, 0, ───────────\n",
       "⎥  ⎢                         2  2        2       2   2   ⎥  ⎢                 \n",
       "⎦  ⎣   2⋅G⋅M⋅R + 2⋅G⋅M⋅r' + R ⋅c  + 2⋅R⋅c ⋅r' + c ⋅r'    ⎦  ⎣      2⋅G⋅M⋅R + 2\n",
       "\n",
       "          -G⋅M                      ⎤⎤⎤\n",
       "────────────────────────────────────⎥⎥⎥\n",
       "           2  2        2       2   2⎥⎥⎥\n",
       "⋅G⋅M⋅r' + R ⋅c  + 2⋅R⋅c ⋅r' + c ⋅r' ⎦⎦⎦"
      ]
     },
     "execution_count": 7,
     "metadata": {},
     "output_type": "execute_result"
    }
   ],
   "source": [
    "for i in range(3):\n",
    "    for j in range(3):\n",
    "        for k in range(3):\n",
    "            chris[i][j][k] = chris[i][j][k].subs([(r, R+rp)]).expand().simplify()\n",
    "chris"
   ]
  },
  {
   "cell_type": "code",
   "execution_count": 8,
   "metadata": {
    "collapsed": false
   },
   "outputs": [],
   "source": [
    "rho, h, p = sympy.symbols('rho, h, p')\n",
    "Tmunu=sympy.Matrix([[(p-rho*h)*metric_up[0,0],0,0],[0,p*metric_up[1,1],0],[0,0,p*metric_up[2,2]]])"
   ]
  },
  {
   "cell_type": "code",
   "execution_count": null,
   "metadata": {
    "collapsed": true
   },
   "outputs": [],
   "source": [
    "Tmur_Gamma = 0\n",
    "Tnumu_Gamma = 0\n",
    "for mu in range(3):\n",
    "    for nu in range(3):\n",
    "        Tmur_Gamma += Tmunu[mu,2]*chris[nu][mu][nu]\n",
    "        Tnumu_Gamma += Tmunu[nu,mu]*chris[2][mu][nu]\n",
    "        \n",
    "P = sympy.Function('p')\n",
    "Trr = Tmunu[2,2].subs([(p, P(r))])\n",
    "\n",
    "hydrostatic_equil = sympy.Eq(sympy.diff(Trr,r) + (Tmur_Gamma + Tnumu_Gamma).subs([(p, P(r))]))"
   ]
  },
  {
   "cell_type": "code",
   "execution_count": 17,
   "metadata": {
    "collapsed": false
   },
   "outputs": [
    {
     "data": {
      "image/png": "[encoded data removed]",
      "text/latex": [
       "$$- \\frac{g h \\rho}{R \\left(c^{2} - 2 g\\right)}$$"
      ],
      "text/plain": [
       "  -g⋅h⋅ρ    \n",
       "────────────\n",
       "  ⎛ 2      ⎞\n",
       "R⋅⎝c  - 2⋅g⎠"
      ]
     },
     "execution_count": 17,
     "metadata": {},
     "output_type": "execute_result"
    }
   ],
   "source": [
    "sympy.solve(hydrostatic_equil,sympy.diff(P(r),r))[0].subs([(G, g*R/M), (r,R+rp),(rp,0)]).simplify()"
   ]
  }
 ],
 "metadata": {
  "kernelspec": {
   "display_name": "Python 2",
   "language": "python",
   "name": "python2"
  },
  "language_info": {
   "codemirror_mode": {
    "name": "ipython",
    "version": 2
   },
   "file_extension": ".py",
   "mimetype": "text/x-python",
   "name": "python",
   "nbconvert_exporter": "python",
   "pygments_lexer": "ipython2",
   "version": "2.7.10"
  }
 },
 "nbformat": 4,
 "nbformat_minor": 0
}
