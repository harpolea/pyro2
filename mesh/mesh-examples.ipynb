{
<<<<<<< HEAD
 "metadata": {
  "name": "",
  "signature": "sha256:a8a9ed9847ff99d4f5521a108253b9fb3a889530bf4edd79e2981bcd0d65254c"
 },
 "nbformat": 3,
 "nbformat_minor": 0,
 "worksheets": [
=======
 "cells": [
  {
   "cell_type": "markdown",
   "metadata": {},
   "source": [
    "# Mesh Basics"
   ]
  },
>>>>>>> 014811eac3efb98fae370f469ed5cd2aa7d32324
  {
   "cell_type": "raw",
   "metadata": {},
   "source": [
    "this notebook illustrates the basic ways of interacting with the pyro2 mesh module.  We create some data that lives on a grid and show how to fill the ghost cells.  The pretty_print() function shows us that they work as expected."
   ]
  },
  {
   "cell_type": "code",
   "execution_count": 1,
   "metadata": {
    "collapsed": false
   },
   "outputs": [
    {
     "name": "stdout",
     "output_type": "stream",
     "text": [
      "Populating the interactive namespace from numpy and matplotlib\n"
     ]
    }
   ],
   "source": [
    "from __future__ import print_function\n",
    "import numpy as np\n",
    "import mesh.patch as patch\n",
    "%pylab inline"
   ]
  },
  {
   "cell_type": "raw",
   "metadata": {},
   "source": [
    "create a simple 8x8 grid with 2 ghost cells, then create a dataset that lives on this grid and add a variable named \"a\".  For each variable that lives on the grid, we need to define the boundary conditions -- this is done through the BCObject."
   ]
  },
  {
   "cell_type": "code",
   "execution_count": 2,
   "metadata": {
    "collapsed": false
   },
   "outputs": [],
   "source": [
    "g = patch.Grid2d(8, 8, ng=2)\n",
    "d = patch.CellCenterData2d(g)\n",
    "bc = patch.BCObject(xlb=\"periodic\", xrb=\"periodic\", ylb=\"reflect\", yrb=\"outflow\")\n",
    "d.register_var(\"a\", bc)\n",
    "d.create()"
   ]
  },
  {
   "cell_type": "code",
   "execution_count": 3,
   "metadata": {
    "collapsed": false
   },
   "outputs": [
    {
     "name": "stdout",
     "output_type": "stream",
     "text": [
      "cc data: nx = 8, ny = 8, ng = 2\n",
      "   nvars = 1\n",
      "   variables: \n",
      "               a: min:    0.0000000000    max:    0.0000000000\n",
      "                  BCs: -x: periodic     +x: periodic     -y: reflect-even +y: outflow     \n",
      "\n"
     ]
<<<<<<< HEAD
    },
    {
     "cell_type": "code",
     "collapsed": false,
     "input": [
      "from __future__ import print_function\n",
      "import numpy as np\n",
      "import mesh.patch as patch"
     ],
     "language": "python",
     "metadata": {},
     "outputs": [],
     "prompt_number": 1
    },
    {
     "cell_type": "raw",
     "metadata": {},
     "source": [
      "create a simple 8x8 grid with 2 ghost cells, then create a dataset that lives on this grid and add a variable named \"a\".  For each variable that lives on the grid, we need to define the boundary conditions -- this is done through the BCObject."
=======
    }
   ],
   "source": [
    "print(d)"
   ]
  },
  {
   "cell_type": "raw",
   "metadata": {},
   "source": [
    "fill the grid with random data.  get_var() returns an ArrayIndexer object that has methods for accessing views into the data.  Here we use a.v() to get the \"valid\" region, i.e. excluding ghost cells."
   ]
  },
  {
   "cell_type": "code",
   "execution_count": 4,
   "metadata": {
    "collapsed": false
   },
   "outputs": [],
   "source": [
    "a = d.get_var(\"a\")\n",
    "a.v()[:,:] = np.random.rand(g.nx, g.ny)"
   ]
  },
  {
   "cell_type": "raw",
   "metadata": {},
   "source": [
    "when we pretty_print() the variable, we see the ghost cells colored red.  Note that we just filled the interior above."
   ]
  },
  {
   "cell_type": "code",
   "execution_count": 5,
   "metadata": {
    "collapsed": false
   },
   "outputs": [
    {
     "name": "stdout",
     "output_type": "stream",
     "text": [
      "\u001b[31m         0\u001b[0m\u001b[31m         0\u001b[0m\u001b[31m         0\u001b[0m\u001b[31m         0\u001b[0m\u001b[31m         0\u001b[0m\u001b[31m         0\u001b[0m\u001b[31m         0\u001b[0m\u001b[31m         0\u001b[0m\u001b[31m         0\u001b[0m\u001b[31m         0\u001b[0m\u001b[31m         0\u001b[0m\u001b[31m         0\u001b[0m \n",
      "\u001b[31m         0\u001b[0m\u001b[31m         0\u001b[0m\u001b[31m         0\u001b[0m\u001b[31m         0\u001b[0m\u001b[31m         0\u001b[0m\u001b[31m         0\u001b[0m\u001b[31m         0\u001b[0m\u001b[31m         0\u001b[0m\u001b[31m         0\u001b[0m\u001b[31m         0\u001b[0m\u001b[31m         0\u001b[0m\u001b[31m         0\u001b[0m \n",
      "\u001b[31m         0\u001b[0m\u001b[31m         0\u001b[0m  0.091376   0.70941   0.44571   0.31914   0.93785   0.74901    0.1429   0.66738\u001b[31m         0\u001b[0m\u001b[31m         0\u001b[0m \n",
      "\u001b[31m         0\u001b[0m\u001b[31m         0\u001b[0m  0.045868   0.84991   0.23648   0.89979   0.11224   0.22282    0.9533   0.12408\u001b[31m         0\u001b[0m\u001b[31m         0\u001b[0m \n",
      "\u001b[31m         0\u001b[0m\u001b[31m         0\u001b[0m   0.97701   0.16599    0.0192   0.11129   0.19169   0.74099   0.30537   0.58485\u001b[31m         0\u001b[0m\u001b[31m         0\u001b[0m \n",
      "\u001b[31m         0\u001b[0m\u001b[31m         0\u001b[0m   0.54325   0.04551    0.4522  0.089519   0.54798   0.06063   0.31396  0.031282\u001b[31m         0\u001b[0m\u001b[31m         0\u001b[0m \n",
      "\u001b[31m         0\u001b[0m\u001b[31m         0\u001b[0m   0.50019  0.069707  0.021167    0.7191   0.40598   0.93297   0.61382    0.3986\u001b[31m         0\u001b[0m\u001b[31m         0\u001b[0m \n",
      "\u001b[31m         0\u001b[0m\u001b[31m         0\u001b[0m   0.30715   0.52326   0.34092   0.18343   0.44011    0.7766   0.59551   0.14095\u001b[31m         0\u001b[0m\u001b[31m         0\u001b[0m \n",
      "\u001b[31m         0\u001b[0m\u001b[31m         0\u001b[0m   0.92993  0.096399   0.83418   0.64792   0.64443   0.69845   0.28806   0.31503\u001b[31m         0\u001b[0m\u001b[31m         0\u001b[0m \n",
      "\u001b[31m         0\u001b[0m\u001b[31m         0\u001b[0m   0.42742  0.043325   0.73165   0.97498   0.67346  0.032354   0.93114   0.25837\u001b[31m         0\u001b[0m\u001b[31m         0\u001b[0m \n",
      "\u001b[31m         0\u001b[0m\u001b[31m         0\u001b[0m\u001b[31m         0\u001b[0m\u001b[31m         0\u001b[0m\u001b[31m         0\u001b[0m\u001b[31m         0\u001b[0m\u001b[31m         0\u001b[0m\u001b[31m         0\u001b[0m\u001b[31m         0\u001b[0m\u001b[31m         0\u001b[0m\u001b[31m         0\u001b[0m\u001b[31m         0\u001b[0m \n",
      "\u001b[31m         0\u001b[0m\u001b[31m         0\u001b[0m\u001b[31m         0\u001b[0m\u001b[31m         0\u001b[0m\u001b[31m         0\u001b[0m\u001b[31m         0\u001b[0m\u001b[31m         0\u001b[0m\u001b[31m         0\u001b[0m\u001b[31m         0\u001b[0m\u001b[31m         0\u001b[0m\u001b[31m         0\u001b[0m\u001b[31m         0\u001b[0m \n",
      "\n",
      "         ^ y\n",
      "         |\n",
      "         +---> x\n",
      "        \n"
>>>>>>> 014811eac3efb98fae370f469ed5cd2aa7d32324
     ]
    }
   ],
   "source": [
    "a.pretty_print()"
   ]
  },
  {
   "cell_type": "raw",
   "metadata": {},
   "source": [
    "now fill the ghost cells -- notice that the left and right are periodic, the upper is outflow, and the lower is reflect, as specified when we registered the data above."
   ]
  },
  {
   "cell_type": "code",
   "execution_count": 6,
   "metadata": {
    "collapsed": false
   },
   "outputs": [
    {
<<<<<<< HEAD
     "cell_type": "code",
     "collapsed": false,
     "input": [
      "g = patch.Grid2d(8, 8, ng=2)\n",
      "d = patch.CellCenterData2d(g)\n",
      "bc = patch.BCObject(xlb=\"periodic\", xrb=\"periodic\", ylb=\"reflect\", yrb=\"outflow\")\n",
      "d.register_var(\"a\", bc)\n",
      "d.create()"
     ],
     "language": "python",
     "metadata": {},
     "outputs": [],
     "prompt_number": 2
    },
=======
     "name": "stdout",
     "output_type": "stream",
     "text": [
      "\u001b[31m    0.1429\u001b[0m\u001b[31m   0.66738\u001b[0m\u001b[31m  0.091376\u001b[0m\u001b[31m   0.70941\u001b[0m\u001b[31m   0.44571\u001b[0m\u001b[31m   0.31914\u001b[0m\u001b[31m   0.93785\u001b[0m\u001b[31m   0.74901\u001b[0m\u001b[31m    0.1429\u001b[0m\u001b[31m   0.66738\u001b[0m\u001b[31m  0.091376\u001b[0m\u001b[31m   0.70941\u001b[0m \n",
      "\u001b[31m    0.1429\u001b[0m\u001b[31m   0.66738\u001b[0m\u001b[31m  0.091376\u001b[0m\u001b[31m   0.70941\u001b[0m\u001b[31m   0.44571\u001b[0m\u001b[31m   0.31914\u001b[0m\u001b[31m   0.93785\u001b[0m\u001b[31m   0.74901\u001b[0m\u001b[31m    0.1429\u001b[0m\u001b[31m   0.66738\u001b[0m\u001b[31m  0.091376\u001b[0m\u001b[31m   0.70941\u001b[0m \n",
      "\u001b[31m    0.1429\u001b[0m\u001b[31m   0.66738\u001b[0m  0.091376   0.70941   0.44571   0.31914   0.93785   0.74901    0.1429   0.66738\u001b[31m  0.091376\u001b[0m\u001b[31m   0.70941\u001b[0m \n",
      "\u001b[31m    0.9533\u001b[0m\u001b[31m   0.12408\u001b[0m  0.045868   0.84991   0.23648   0.89979   0.11224   0.22282    0.9533   0.12408\u001b[31m  0.045868\u001b[0m\u001b[31m   0.84991\u001b[0m \n",
      "\u001b[31m   0.30537\u001b[0m\u001b[31m   0.58485\u001b[0m   0.97701   0.16599    0.0192   0.11129   0.19169   0.74099   0.30537   0.58485\u001b[31m   0.97701\u001b[0m\u001b[31m   0.16599\u001b[0m \n",
      "\u001b[31m   0.31396\u001b[0m\u001b[31m  0.031282\u001b[0m   0.54325   0.04551    0.4522  0.089519   0.54798   0.06063   0.31396  0.031282\u001b[31m   0.54325\u001b[0m\u001b[31m   0.04551\u001b[0m \n",
      "\u001b[31m   0.61382\u001b[0m\u001b[31m    0.3986\u001b[0m   0.50019  0.069707  0.021167    0.7191   0.40598   0.93297   0.61382    0.3986\u001b[31m   0.50019\u001b[0m\u001b[31m  0.069707\u001b[0m \n",
      "\u001b[31m   0.59551\u001b[0m\u001b[31m   0.14095\u001b[0m   0.30715   0.52326   0.34092   0.18343   0.44011    0.7766   0.59551   0.14095\u001b[31m   0.30715\u001b[0m\u001b[31m   0.52326\u001b[0m \n",
      "\u001b[31m   0.28806\u001b[0m\u001b[31m   0.31503\u001b[0m   0.92993  0.096399   0.83418   0.64792   0.64443   0.69845   0.28806   0.31503\u001b[31m   0.92993\u001b[0m\u001b[31m  0.096399\u001b[0m \n",
      "\u001b[31m   0.93114\u001b[0m\u001b[31m   0.25837\u001b[0m   0.42742  0.043325   0.73165   0.97498   0.67346  0.032354   0.93114   0.25837\u001b[31m   0.42742\u001b[0m\u001b[31m  0.043325\u001b[0m \n",
      "\u001b[31m   0.93114\u001b[0m\u001b[31m   0.25837\u001b[0m\u001b[31m   0.42742\u001b[0m\u001b[31m  0.043325\u001b[0m\u001b[31m   0.73165\u001b[0m\u001b[31m   0.97498\u001b[0m\u001b[31m   0.67346\u001b[0m\u001b[31m  0.032354\u001b[0m\u001b[31m   0.93114\u001b[0m\u001b[31m   0.25837\u001b[0m\u001b[31m   0.42742\u001b[0m\u001b[31m  0.043325\u001b[0m \n",
      "\u001b[31m   0.28806\u001b[0m\u001b[31m   0.31503\u001b[0m\u001b[31m   0.92993\u001b[0m\u001b[31m  0.096399\u001b[0m\u001b[31m   0.83418\u001b[0m\u001b[31m   0.64792\u001b[0m\u001b[31m   0.64443\u001b[0m\u001b[31m   0.69845\u001b[0m\u001b[31m   0.28806\u001b[0m\u001b[31m   0.31503\u001b[0m\u001b[31m   0.92993\u001b[0m\u001b[31m  0.096399\u001b[0m \n",
      "\n",
      "         ^ y\n",
      "         |\n",
      "         +---> x\n",
      "        \n"
     ]
    }
   ],
   "source": [
    "d.fill_BC(\"a\")\n",
    "a.pretty_print()"
   ]
  },
  {
   "cell_type": "raw",
   "metadata": {},
   "source": [
    "We can find the L2 norm of the data easily"
   ]
  },
  {
   "cell_type": "code",
   "execution_count": 7,
   "metadata": {
    "collapsed": false
   },
   "outputs": [
>>>>>>> 014811eac3efb98fae370f469ed5cd2aa7d32324
    {
     "data": {
      "text/plain": [
       "0.53605614981786143"
      ]
     },
     "execution_count": 7,
     "metadata": {},
<<<<<<< HEAD
     "outputs": [
      {
       "output_type": "stream",
       "stream": "stdout",
       "text": [
        "cc data: nx = 8, ny = 8, ng = 2\n",
        "   nvars = 1\n",
        "   variables: \n",
        "               a: min:    0.0000000000    max:    0.0000000000\n",
        "                  BCs: -x: periodic     +x: periodic     -y: reflect-even +y: outflow     \n",
        "\n"
       ]
      }
     ],
     "prompt_number": 3
    },
    {
     "cell_type": "raw",
     "metadata": {},
     "source": [
      "fill the grid with random data.  get_var() returns an ArrayIndexer object that has methods for accessing views into the data.  Here we use a.v() to get the \"valid\" region, i.e. excluding ghost cells."
     ]
    },
    {
     "cell_type": "code",
     "collapsed": false,
     "input": [
      "a = d.get_var(\"a\")\n",
      "a.v()[:,:] = np.random.rand(g.nx, g.ny)"
     ],
     "language": "python",
     "metadata": {},
     "outputs": [],
     "prompt_number": 4
    },
=======
     "output_type": "execute_result"
    }
   ],
   "source": [
    "a.norm()"
   ]
  },
  {
   "cell_type": "raw",
   "metadata": {},
   "source": [
    "and the min and max"
   ]
  },
  {
   "cell_type": "code",
   "execution_count": 8,
   "metadata": {
    "collapsed": false
   },
   "outputs": [
    {
     "name": "stdout",
     "output_type": "stream",
     "text": [
      "0.0191997677101 0.977005775201\n"
     ]
    }
   ],
   "source": [
    "print(a.min(), a.max())"
   ]
  },
  {
   "cell_type": "markdown",
   "metadata": {},
   "source": [
    "## differencing"
   ]
  },
  {
   "cell_type": "raw",
   "metadata": {},
   "source": [
    "we can use the ip(), jp(), or ipjp() methods to the ArrayIndexer object to do differencing.  Here we initialize a sine wave and then see that we get a cosine for the first derivative (via a centered-difference)"
   ]
  },
  {
   "cell_type": "code",
   "execution_count": 9,
   "metadata": {
    "collapsed": false
   },
   "outputs": [],
   "source": [
    "g = patch.Grid2d(8, 8, ng=2)\n",
    "d = patch.CellCenterData2d(g)\n",
    "bc = patch.BCObject(xlb=\"periodic\", xrb=\"periodic\", ylb=\"periodic\", yrb=\"periodic\")\n",
    "d.register_var(\"a\", bc)\n",
    "d.create()\n",
    "\n",
    "a = d.get_var(\"a\")\n",
    "a.d[:,:] = np.sin(2.0*np.pi*a.g.x2d)\n",
    "d.fill_BC(\"a\")"
   ]
  },
  {
   "cell_type": "code",
   "execution_count": 10,
   "metadata": {
    "collapsed": false
   },
   "outputs": [],
   "source": [
    "b = g.scratch_array()\n",
    "b.v()[:,:] = (a.ip(1) - a.ip(-1))/(2.0*a.g.dx)\n",
    "# normalization was 2.0*pi\n",
    "b.d[:,:] /= 2.0*np.pi"
   ]
  },
  {
   "cell_type": "code",
   "execution_count": 11,
   "metadata": {
    "collapsed": false
   },
   "outputs": [
>>>>>>> 014811eac3efb98fae370f469ed5cd2aa7d32324
    {
     "name": "stdout",
     "output_type": "stream",
     "text": [
      "0.125\n"
     ]
    },
    {
<<<<<<< HEAD
     "cell_type": "code",
     "collapsed": false,
     "input": [
      "a.pretty_print()"
     ],
     "language": "python",
     "metadata": {},
     "outputs": [
      {
       "output_type": "stream",
       "stream": "stdout",
       "text": [
        "\u001b[31m         0\u001b[0m\u001b[31m         0\u001b[0m\u001b[31m         0\u001b[0m\u001b[31m         0\u001b[0m\u001b[31m         0\u001b[0m\u001b[31m         0\u001b[0m\u001b[31m         0\u001b[0m\u001b[31m         0\u001b[0m\u001b[31m         0\u001b[0m\u001b[31m         0\u001b[0m\u001b[31m         0\u001b[0m\u001b[31m         0\u001b[0m \n",
        "\u001b[31m         0\u001b[0m\u001b[31m         0\u001b[0m\u001b[31m         0\u001b[0m\u001b[31m         0\u001b[0m\u001b[31m         0\u001b[0m\u001b[31m         0\u001b[0m\u001b[31m         0\u001b[0m\u001b[31m         0\u001b[0m\u001b[31m         0\u001b[0m\u001b[31m         0\u001b[0m\u001b[31m         0\u001b[0m\u001b[31m         0\u001b[0m \n",
        "\u001b[31m         0\u001b[0m\u001b[31m         0\u001b[0m   0.21422   0.50012   0.64871   0.72626   0.00202 0.0012924   0.26355   0.85254\u001b[31m         0\u001b[0m\u001b[31m         0\u001b[0m \n",
        "\u001b[31m         0\u001b[0m\u001b[31m         0\u001b[0m   0.23106   0.58589   0.26828   0.95938   0.15307   0.88101   0.31106   0.15722\u001b[31m         0\u001b[0m\u001b[31m         0\u001b[0m \n",
        "\u001b[31m         0\u001b[0m\u001b[31m         0\u001b[0m   0.27593    0.9033  0.089019   0.70539   0.99339   0.41408   0.15354   0.88675\u001b[31m         0\u001b[0m\u001b[31m         0\u001b[0m \n",
        "\u001b[31m         0\u001b[0m\u001b[31m         0\u001b[0m   0.57177   0.22545   0.32177  0.064837   0.79997    0.6446   0.99472   0.46655\u001b[31m         0\u001b[0m\u001b[31m         0\u001b[0m \n",
        "\u001b[31m         0\u001b[0m\u001b[31m         0\u001b[0m   0.77223   0.39911   0.11071   0.51641   0.42664   0.83414   0.72682   0.11677\u001b[31m         0\u001b[0m\u001b[31m         0\u001b[0m \n",
        "\u001b[31m         0\u001b[0m\u001b[31m         0\u001b[0m  0.094972   0.70642   0.53006   0.89726   0.95487   0.87478   0.15471   0.90538\u001b[31m         0\u001b[0m\u001b[31m         0\u001b[0m \n",
        "\u001b[31m         0\u001b[0m\u001b[31m         0\u001b[0m   0.49124   0.27518   0.57922    0.5152   0.80057   0.25136   0.33327   0.94185\u001b[31m         0\u001b[0m\u001b[31m         0\u001b[0m \n",
        "\u001b[31m         0\u001b[0m\u001b[31m         0\u001b[0m   0.24614   0.42984    0.8459   0.59348   0.30968   0.57816   0.78006   0.25081\u001b[31m         0\u001b[0m\u001b[31m         0\u001b[0m \n",
        "\u001b[31m         0\u001b[0m\u001b[31m         0\u001b[0m\u001b[31m         0\u001b[0m\u001b[31m         0\u001b[0m\u001b[31m         0\u001b[0m\u001b[31m         0\u001b[0m\u001b[31m         0\u001b[0m\u001b[31m         0\u001b[0m\u001b[31m         0\u001b[0m\u001b[31m         0\u001b[0m\u001b[31m         0\u001b[0m\u001b[31m         0\u001b[0m \n",
        "\u001b[31m         0\u001b[0m\u001b[31m         0\u001b[0m\u001b[31m         0\u001b[0m\u001b[31m         0\u001b[0m\u001b[31m         0\u001b[0m\u001b[31m         0\u001b[0m\u001b[31m         0\u001b[0m\u001b[31m         0\u001b[0m\u001b[31m         0\u001b[0m\u001b[31m         0\u001b[0m\u001b[31m         0\u001b[0m\u001b[31m         0\u001b[0m \n",
        "\n",
        "         ^ y\n",
        "         |\n",
        "         +---> x\n",
        "        \n"
       ]
      }
     ],
     "prompt_number": 5
    },
=======
     "data": {
      "image/png": "iVBORw0KGgoAAAANSUhEUgAAAX4AAAEACAYAAAC08h1NAAAABHNCSVQICAgIfAhkiAAAAAlwSFlz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\nAAAASUVORK5CYII=\n",
      "text/plain": [
       "<matplotlib.figure.Figure at 0x7fe12c084e10>"
      ]
     },
     "metadata": {},
     "output_type": "display_data"
    }
   ],
   "source": [
    "plot(g.x[g.ilo:g.ihi+1], a.d[g.ilo:g.ihi+1,a.g.jc])\n",
    "plot(g.x[g.ilo:g.ihi+1], b.d[g.ilo:g.ihi+1,b.g.jc])\n",
    "print (a.g.dx)"
   ]
  },
  {
   "cell_type": "markdown",
   "metadata": {},
   "source": [
    "## coarsening and prolonging"
   ]
  },
  {
   "cell_type": "raw",
   "metadata": {},
   "source": [
    "we can get a new ArrayIndexer object on a coarser grid for one of our variables"
   ]
  },
  {
   "cell_type": "code",
   "execution_count": 12,
   "metadata": {
    "collapsed": false
   },
   "outputs": [],
   "source": [
    "c = d.restrict(\"a\")"
   ]
  },
  {
   "cell_type": "code",
   "execution_count": 13,
   "metadata": {
    "collapsed": false
   },
   "outputs": [
>>>>>>> 014811eac3efb98fae370f469ed5cd2aa7d32324
    {
     "name": "stdout",
     "output_type": "stream",
     "text": [
      "\u001b[31m         0\u001b[0m\u001b[31m         0\u001b[0m\u001b[31m         0\u001b[0m\u001b[31m         0\u001b[0m\u001b[31m         0\u001b[0m\u001b[31m         0\u001b[0m\u001b[31m         0\u001b[0m\u001b[31m         0\u001b[0m \n",
      "\u001b[31m         0\u001b[0m\u001b[31m         0\u001b[0m\u001b[31m         0\u001b[0m\u001b[31m         0\u001b[0m\u001b[31m         0\u001b[0m\u001b[31m         0\u001b[0m\u001b[31m         0\u001b[0m\u001b[31m         0\u001b[0m \n",
      "\u001b[31m         0\u001b[0m\u001b[31m         0\u001b[0m   0.65328   0.65328  -0.65328  -0.65328\u001b[31m         0\u001b[0m\u001b[31m         0\u001b[0m \n",
      "\u001b[31m         0\u001b[0m\u001b[31m         0\u001b[0m   0.65328   0.65328  -0.65328  -0.65328\u001b[31m         0\u001b[0m\u001b[31m         0\u001b[0m \n",
      "\u001b[31m         0\u001b[0m\u001b[31m         0\u001b[0m   0.65328   0.65328  -0.65328  -0.65328\u001b[31m         0\u001b[0m\u001b[31m         0\u001b[0m \n",
      "\u001b[31m         0\u001b[0m\u001b[31m         0\u001b[0m   0.65328   0.65328  -0.65328  -0.65328\u001b[31m         0\u001b[0m\u001b[31m         0\u001b[0m \n",
      "\u001b[31m         0\u001b[0m\u001b[31m         0\u001b[0m\u001b[31m         0\u001b[0m\u001b[31m         0\u001b[0m\u001b[31m         0\u001b[0m\u001b[31m         0\u001b[0m\u001b[31m         0\u001b[0m\u001b[31m         0\u001b[0m \n",
      "\u001b[31m         0\u001b[0m\u001b[31m         0\u001b[0m\u001b[31m         0\u001b[0m\u001b[31m         0\u001b[0m\u001b[31m         0\u001b[0m\u001b[31m         0\u001b[0m\u001b[31m         0\u001b[0m\u001b[31m         0\u001b[0m \n",
      "\n",
      "         ^ y\n",
      "         |\n",
      "         +---> x\n",
      "        \n"
     ]
<<<<<<< HEAD
    },
    {
     "cell_type": "code",
     "collapsed": false,
     "input": [
      "d.fill_BC(\"a\")\n",
      "a.pretty_print()"
     ],
     "language": "python",
     "metadata": {},
     "outputs": [
      {
       "output_type": "stream",
       "stream": "stdout",
       "text": [
        "\u001b[31m   0.26355\u001b[0m\u001b[31m   0.85254\u001b[0m\u001b[31m   0.21422\u001b[0m\u001b[31m   0.50012\u001b[0m\u001b[31m   0.64871\u001b[0m\u001b[31m   0.72626\u001b[0m\u001b[31m   0.00202\u001b[0m\u001b[31m 0.0012924\u001b[0m\u001b[31m   0.26355\u001b[0m\u001b[31m   0.85254\u001b[0m\u001b[31m   0.21422\u001b[0m\u001b[31m   0.50012\u001b[0m \n",
        "\u001b[31m   0.26355\u001b[0m\u001b[31m   0.85254\u001b[0m\u001b[31m   0.21422\u001b[0m\u001b[31m   0.50012\u001b[0m\u001b[31m   0.64871\u001b[0m\u001b[31m   0.72626\u001b[0m\u001b[31m   0.00202\u001b[0m\u001b[31m 0.0012924\u001b[0m\u001b[31m   0.26355\u001b[0m\u001b[31m   0.85254\u001b[0m\u001b[31m   0.21422\u001b[0m\u001b[31m   0.50012\u001b[0m \n",
        "\u001b[31m   0.26355\u001b[0m\u001b[31m   0.85254\u001b[0m   0.21422   0.50012   0.64871   0.72626   0.00202 0.0012924   0.26355   0.85254\u001b[31m   0.21422\u001b[0m\u001b[31m   0.50012\u001b[0m \n",
        "\u001b[31m   0.31106\u001b[0m\u001b[31m   0.15722\u001b[0m   0.23106   0.58589   0.26828   0.95938   0.15307   0.88101   0.31106   0.15722\u001b[31m   0.23106\u001b[0m\u001b[31m   0.58589\u001b[0m \n",
        "\u001b[31m   0.15354\u001b[0m\u001b[31m   0.88675\u001b[0m   0.27593    0.9033  0.089019   0.70539   0.99339   0.41408   0.15354   0.88675\u001b[31m   0.27593\u001b[0m\u001b[31m    0.9033\u001b[0m \n",
        "\u001b[31m   0.99472\u001b[0m\u001b[31m   0.46655\u001b[0m   0.57177   0.22545   0.32177  0.064837   0.79997    0.6446   0.99472   0.46655\u001b[31m   0.57177\u001b[0m\u001b[31m   0.22545\u001b[0m \n",
        "\u001b[31m   0.72682\u001b[0m\u001b[31m   0.11677\u001b[0m   0.77223   0.39911   0.11071   0.51641   0.42664   0.83414   0.72682   0.11677\u001b[31m   0.77223\u001b[0m\u001b[31m   0.39911\u001b[0m \n",
        "\u001b[31m   0.15471\u001b[0m\u001b[31m   0.90538\u001b[0m  0.094972   0.70642   0.53006   0.89726   0.95487   0.87478   0.15471   0.90538\u001b[31m  0.094972\u001b[0m\u001b[31m   0.70642\u001b[0m \n",
        "\u001b[31m   0.33327\u001b[0m\u001b[31m   0.94185\u001b[0m   0.49124   0.27518   0.57922    0.5152   0.80057   0.25136   0.33327   0.94185\u001b[31m   0.49124\u001b[0m\u001b[31m   0.27518\u001b[0m \n",
        "\u001b[31m   0.78006\u001b[0m\u001b[31m   0.25081\u001b[0m   0.24614   0.42984    0.8459   0.59348   0.30968   0.57816   0.78006   0.25081\u001b[31m   0.24614\u001b[0m\u001b[31m   0.42984\u001b[0m \n",
        "\u001b[31m   0.78006\u001b[0m\u001b[31m   0.25081\u001b[0m\u001b[31m   0.24614\u001b[0m\u001b[31m   0.42984\u001b[0m\u001b[31m    0.8459\u001b[0m\u001b[31m   0.59348\u001b[0m\u001b[31m   0.30968\u001b[0m\u001b[31m   0.57816\u001b[0m\u001b[31m   0.78006\u001b[0m\u001b[31m   0.25081\u001b[0m\u001b[31m   0.24614\u001b[0m\u001b[31m   0.42984\u001b[0m \n",
        "\u001b[31m   0.33327\u001b[0m\u001b[31m   0.94185\u001b[0m\u001b[31m   0.49124\u001b[0m\u001b[31m   0.27518\u001b[0m\u001b[31m   0.57922\u001b[0m\u001b[31m    0.5152\u001b[0m\u001b[31m   0.80057\u001b[0m\u001b[31m   0.25136\u001b[0m\u001b[31m   0.33327\u001b[0m\u001b[31m   0.94185\u001b[0m\u001b[31m   0.49124\u001b[0m\u001b[31m   0.27518\u001b[0m \n",
        "\n",
        "         ^ y\n",
        "         |\n",
        "         +---> x\n",
        "        \n"
       ]
      }
     ],
     "prompt_number": 6
    },
    {
     "cell_type": "raw",
     "metadata": {},
     "source": [
      "We can find the L2 norm of the data easily"
     ]
    },
    {
     "cell_type": "code",
     "collapsed": false,
     "input": [
      "a.norm()"
     ],
     "language": "python",
     "metadata": {},
     "outputs": [
      {
       "metadata": {},
       "output_type": "pyout",
       "prompt_number": 7,
       "text": [
        "0.58721379149039021"
       ]
      }
     ],
     "prompt_number": 7
    },
    {
     "cell_type": "raw",
     "metadata": {},
     "source": [
      "and the min and max"
     ]
    },
    {
     "cell_type": "code",
     "collapsed": false,
     "input": [
      "print(a.min(), a.max())"
     ],
     "language": "python",
     "metadata": {},
     "outputs": [
      {
       "output_type": "stream",
       "stream": "stdout",
       "text": [
        "0.00129236298365 0.994723953067\n"
       ]
      }
     ],
     "prompt_number": 8
    },
    {
     "cell_type": "heading",
     "level": 2,
     "metadata": {},
     "source": [
      "differencing"
     ]
    },
    {
     "cell_type": "raw",
     "metadata": {},
     "source": [
      "we can use the ip(), jp(), or ipjp() methods to the ArrayIndexer object to do differencing.  Here we initialize a sine wave and then see that we get a cosine for the first derivative (via a centered-difference)"
     ]
    },
    {
     "cell_type": "code",
     "collapsed": false,
     "input": [
      "g = patch.Grid2d(32, 32, ng=2)\n",
      "d = patch.CellCenterData2d(g)\n",
      "bc = patch.BCObject(xlb=\"periodic\", xrb=\"periodic\", ylb=\"periodic\", yrb=\"periodic\")\n",
      "d.register_var(\"a\", bc)\n",
      "d.create()\n",
      "\n",
      "a = d.get_var(\"a\")\n",
      "a.d[:,:] = np.sin(2.0*np.pi*a.g.x2d)\n",
      "d.fill_BC(\"a\")"
     ],
     "language": "python",
     "metadata": {},
     "outputs": [],
     "prompt_number": 34
    },
    {
     "cell_type": "code",
     "collapsed": false,
     "input": [
      "b = a.g.scratch_array()\n",
      "b.v()[:,:] = 0.5*(a.ip(1) - a.ip(-1))/a.g.dx\n",
      "b = b/(2.0*np.pi)"
     ],
     "language": "python",
     "metadata": {},
     "outputs": [],
     "prompt_number": 41
    },
    {
     "cell_type": "code",
     "collapsed": false,
     "input": [
      "%pylab inline"
     ],
     "language": "python",
     "metadata": {},
     "outputs": [
      {
       "output_type": "stream",
       "stream": "stdout",
       "text": [
        "Populating the interactive namespace from numpy and matplotlib\n"
       ]
      }
     ],
     "prompt_number": 42
    },
    {
     "cell_type": "code",
     "collapsed": false,
     "input": [
      "plot(g.x[g.ilo:g.ihi+1], a.d[g.ilo:g.ihi+1,a.g.jc])\n",
      "plot(g.x[g.ilo:g.ihi+1], b.d[g.ilo:g.ihi+1,b.g.jc])\n",
      "print (a.g.dx)"
     ],
     "language": "python",
     "metadata": {},
     "outputs": [
      {
       "output_type": "stream",
       "stream": "stdout",
       "text": [
        "0.03125\n"
       ]
      },
      {
       "metadata": {},
       "output_type": "display_data",
       "png": "iVBORw0KGgoAAAANSUhEUgAAAX4AAAEACAYAAAC08h1NAAAABHNCSVQICAgIfAhkiAAAAAlwSFlz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\n",
       "text": [
        "<matplotlib.figure.Figure at 0x7f8b95f8e750>"
       ]
      }
     ],
     "prompt_number": 43
    },
    {
     "cell_type": "heading",
     "level": 2,
     "metadata": {},
     "source": [
      "coarsening and prolonging"
     ]
    },
    {
     "cell_type": "raw",
     "metadata": {},
     "source": [
      "we can get a new ArrayIndexer object on a coarser grid for one of our variables"
     ]
    },
    {
     "cell_type": "code",
     "collapsed": false,
     "input": [
      "c = d.restrict(\"a\")"
     ],
     "language": "python",
     "metadata": {},
     "outputs": [],
     "prompt_number": 9
    },
    {
     "cell_type": "code",
     "collapsed": false,
     "input": [
      "c.pretty_print()"
     ],
     "language": "python",
     "metadata": {},
     "outputs": [
      {
       "output_type": "stream",
       "stream": "stdout",
       "text": [
        "\u001b[31m         0\u001b[0m\u001b[31m         0\u001b[0m\u001b[31m         0\u001b[0m\u001b[31m         0\u001b[0m\u001b[31m         0\u001b[0m\u001b[31m         0\u001b[0m\u001b[31m         0\u001b[0m\u001b[31m         0\u001b[0m \n",
        "\u001b[31m         0\u001b[0m\u001b[31m         0\u001b[0m\u001b[31m         0\u001b[0m\u001b[31m         0\u001b[0m\u001b[31m         0\u001b[0m\u001b[31m         0\u001b[0m\u001b[31m         0\u001b[0m\u001b[31m         0\u001b[0m \n",
        "\u001b[31m         0\u001b[0m\u001b[31m         0\u001b[0m   0.38282   0.65066   0.25935   0.39609\u001b[31m         0\u001b[0m\u001b[31m         0\u001b[0m \n",
        "\u001b[31m         0\u001b[0m\u001b[31m         0\u001b[0m   0.49411   0.29525   0.71301   0.62539\u001b[31m         0\u001b[0m\u001b[31m         0\u001b[0m \n",
        "\u001b[31m         0\u001b[0m\u001b[31m         0\u001b[0m   0.49318   0.51361   0.77261   0.47592\u001b[31m         0\u001b[0m\u001b[31m         0\u001b[0m \n",
        "\u001b[31m         0\u001b[0m\u001b[31m         0\u001b[0m    0.3606   0.63345   0.48494    0.5765\u001b[31m         0\u001b[0m\u001b[31m         0\u001b[0m \n",
        "\u001b[31m         0\u001b[0m\u001b[31m         0\u001b[0m\u001b[31m         0\u001b[0m\u001b[31m         0\u001b[0m\u001b[31m         0\u001b[0m\u001b[31m         0\u001b[0m\u001b[31m         0\u001b[0m\u001b[31m         0\u001b[0m \n",
        "\u001b[31m         0\u001b[0m\u001b[31m         0\u001b[0m\u001b[31m         0\u001b[0m\u001b[31m         0\u001b[0m\u001b[31m         0\u001b[0m\u001b[31m         0\u001b[0m\u001b[31m         0\u001b[0m\u001b[31m         0\u001b[0m \n",
        "\n",
        "         ^ y\n",
        "         |\n",
        "         +---> x\n",
        "        \n"
       ]
      }
     ],
     "prompt_number": 11
    },
    {
     "cell_type": "raw",
     "metadata": {},
     "source": [
      "or a finer grid"
     ]
    },
    {
     "cell_type": "code",
     "collapsed": false,
     "input": [
      "f = d.prolong(\"a\")"
     ],
     "language": "python",
     "metadata": {},
     "outputs": [],
     "prompt_number": 12
    },
    {
     "cell_type": "code",
     "collapsed": false,
     "input": [
      "f.pretty_print()"
     ],
     "language": "python",
     "metadata": {},
     "outputs": [
      {
       "output_type": "stream",
       "stream": "stdout",
       "text": [
        "\u001b[31m         0\u001b[0m\u001b[31m         0\u001b[0m\u001b[31m         0\u001b[0m\u001b[31m         0\u001b[0m\u001b[31m         0\u001b[0m\u001b[31m         0\u001b[0m\u001b[31m         0\u001b[0m\u001b[31m         0\u001b[0m\u001b[31m         0\u001b[0m\u001b[31m         0\u001b[0m\u001b[31m         0\u001b[0m\u001b[31m         0\u001b[0m\u001b[31m         0\u001b[0m\u001b[31m         0\u001b[0m\u001b[31m         0\u001b[0m\u001b[31m         0\u001b[0m\u001b[31m         0\u001b[0m\u001b[31m         0\u001b[0m\u001b[31m         0\u001b[0m\u001b[31m         0\u001b[0m \n",
        "\u001b[31m         0\u001b[0m\u001b[31m         0\u001b[0m\u001b[31m         0\u001b[0m\u001b[31m         0\u001b[0m\u001b[31m         0\u001b[0m\u001b[31m         0\u001b[0m\u001b[31m         0\u001b[0m\u001b[31m         0\u001b[0m\u001b[31m         0\u001b[0m\u001b[31m         0\u001b[0m\u001b[31m         0\u001b[0m\u001b[31m         0\u001b[0m\u001b[31m         0\u001b[0m\u001b[31m         0\u001b[0m\u001b[31m         0\u001b[0m\u001b[31m         0\u001b[0m\u001b[31m         0\u001b[0m\u001b[31m         0\u001b[0m\u001b[31m         0\u001b[0m\u001b[31m         0\u001b[0m \n",
        "\u001b[31m         0\u001b[0m\u001b[31m         0\u001b[0m   0.25617   0.16807   0.43509   0.54371   0.66799   0.72453   0.77796   0.61628  0.073759  -0.10748  -0.14136 -0.075981    0.1512   0.36401   0.94562   0.93329\u001b[31m         0\u001b[0m\u001b[31m         0\u001b[0m \n",
        "\u001b[31m         0\u001b[0m\u001b[31m         0\u001b[0m   0.26038   0.17228   0.45653   0.56515   0.57289   0.62942   0.83624   0.67456   0.11152 -0.069719  0.078566   0.14395   0.16308   0.37589   0.77179   0.75946\u001b[31m         0\u001b[0m\u001b[31m         0\u001b[0m \n",
        "\u001b[31m         0\u001b[0m\u001b[31m         0\u001b[0m   0.16976   0.27693   0.53084   0.54014   0.29155   0.38493   0.97639   0.94759  0.038949  0.019356   0.80966   0.84916   0.41528   0.23434   0.16295   0.14295\u001b[31m         0\u001b[0m\u001b[31m         0\u001b[0m \n",
        "\u001b[31m         0\u001b[0m\u001b[31m         0\u001b[0m   0.18519   0.29235   0.63163   0.64094   0.15163   0.24501   0.97117   0.94237   0.28679    0.2672   0.91286   0.95235   0.38778   0.20683    0.1715    0.1515\u001b[31m         0\u001b[0m\u001b[31m         0\u001b[0m \n",
        "\u001b[31m         0\u001b[0m\u001b[31m         0\u001b[0m   0.23127   0.23541   0.97172   0.92499   0.10707  0.057594   0.70416   0.93026   0.94894   0.87611   0.54861   0.33865 0.0089955   0.12716   0.83279   0.86338\u001b[31m         0\u001b[0m\u001b[31m         0\u001b[0m \n",
        "\u001b[31m         0\u001b[0m\u001b[31m         0\u001b[0m   0.31645   0.32059   0.88161   0.83488   0.12044  0.070967   0.48053   0.70662    1.1107    1.0378   0.48951   0.27955   0.17991   0.29808   0.91012   0.94072\u001b[31m         0\u001b[0m\u001b[31m         0\u001b[0m \n",
        "\u001b[31m         0\u001b[0m\u001b[31m         0\u001b[0m   0.53987   0.47959   0.31973   0.25723   0.33914   0.29898  0.028685   0.14823   0.79834   0.94328   0.56774   0.61643   0.94532   0.90081   0.61567   0.50993\u001b[31m         0\u001b[0m\u001b[31m         0\u001b[0m \n",
        "\u001b[31m         0\u001b[0m\u001b[31m         0\u001b[0m   0.66394   0.60367   0.19368   0.13118   0.34456   0.30441 -0.018561   0.10099   0.65665   0.80159   0.67276   0.72145    1.0886    1.0441   0.42317   0.31743\u001b[31m         0\u001b[0m\u001b[31m         0\u001b[0m \n",
        "\u001b[31m         0\u001b[0m\u001b[31m         0\u001b[0m   0.79654   0.86712   0.42168    0.2563  0.070014  0.099338   0.37287   0.45185   0.36756   0.44699   0.76785   0.84289   0.92149   0.74215  0.056243  0.067596\u001b[31m         0\u001b[0m\u001b[31m         0\u001b[0m \n",
        "\u001b[31m         0\u001b[0m\u001b[31m         0\u001b[0m   0.67734   0.74793   0.54192   0.37654   0.12209   0.15141   0.58097   0.65995   0.40628   0.48572   0.82539   0.90044   0.71149   0.53215   0.16595    0.1773\u001b[31m         0\u001b[0m\u001b[31m         0\u001b[0m \n",
        "\u001b[31m         0\u001b[0m\u001b[31m         0\u001b[0m   0.15497   0.10523   0.66752   0.77629   0.44764   0.49535   0.84431   0.95051   0.91094   0.90532    1.0477   0.84761   0.20008   0.20773   0.80971   0.79477\u001b[31m         0\u001b[0m\u001b[31m         0\u001b[0m \n",
        "\u001b[31m         0\u001b[0m\u001b[31m         0\u001b[0m  0.084718  0.034978   0.63654   0.74531   0.56477   0.61248     0.844   0.95021    1.0044    0.9988   0.90196   0.70192   0.10169   0.10934     1.016     1.001\u001b[31m         0\u001b[0m\u001b[31m         0\u001b[0m \n",
        "\u001b[31m         0\u001b[0m\u001b[31m         0\u001b[0m   0.55568   0.38901   0.29876   0.32075   0.50974   0.56975   0.52551   0.58084   0.91419   0.84823   0.34685   0.23003   0.16879   0.34141    1.0039    1.0434\u001b[31m         0\u001b[0m\u001b[31m         0\u001b[0m \n",
        "\u001b[31m         0\u001b[0m\u001b[31m         0\u001b[0m   0.59347    0.4268   0.22961   0.25161    0.5887   0.64871   0.44956    0.5049    0.7529   0.68694   0.27269   0.15587   0.32513   0.49775   0.84028   0.87977\u001b[31m         0\u001b[0m\u001b[31m         0\u001b[0m \n",
        "\u001b[31m         0\u001b[0m\u001b[31m         0\u001b[0m    0.2544   0.29916   0.33554   0.48548   0.79211   0.83302   0.65072   0.51666   0.37295   0.36912   0.47851    0.5961   0.76513   0.68329   0.40393   0.27045\u001b[31m         0\u001b[0m\u001b[31m         0\u001b[0m \n",
        "\u001b[31m         0\u001b[0m\u001b[31m         0\u001b[0m   0.19313   0.23788    0.3742   0.52414   0.85878   0.89969   0.67029   0.53623   0.25023    0.2464   0.56021    0.6778   0.87683   0.79499   0.23117  0.097693\u001b[31m         0\u001b[0m\u001b[31m         0\u001b[0m \n",
        "\u001b[31m         0\u001b[0m\u001b[31m         0\u001b[0m\u001b[31m         0\u001b[0m\u001b[31m         0\u001b[0m\u001b[31m         0\u001b[0m\u001b[31m         0\u001b[0m\u001b[31m         0\u001b[0m\u001b[31m         0\u001b[0m\u001b[31m         0\u001b[0m\u001b[31m         0\u001b[0m\u001b[31m         0\u001b[0m\u001b[31m         0\u001b[0m\u001b[31m         0\u001b[0m\u001b[31m         0\u001b[0m\u001b[31m         0\u001b[0m\u001b[31m         0\u001b[0m\u001b[31m         0\u001b[0m\u001b[31m         0\u001b[0m\u001b[31m         0\u001b[0m\u001b[31m         0\u001b[0m \n",
        "\u001b[31m         0\u001b[0m\u001b[31m         0\u001b[0m\u001b[31m         0\u001b[0m\u001b[31m         0\u001b[0m\u001b[31m         0\u001b[0m\u001b[31m         0\u001b[0m\u001b[31m         0\u001b[0m\u001b[31m         0\u001b[0m\u001b[31m         0\u001b[0m\u001b[31m         0\u001b[0m\u001b[31m         0\u001b[0m\u001b[31m         0\u001b[0m\u001b[31m         0\u001b[0m\u001b[31m         0\u001b[0m\u001b[31m         0\u001b[0m\u001b[31m         0\u001b[0m\u001b[31m         0\u001b[0m\u001b[31m         0\u001b[0m\u001b[31m         0\u001b[0m\u001b[31m         0\u001b[0m \n",
        "\n",
        "         ^ y\n",
        "         |\n",
        "         +---> x\n",
        "        \n"
       ]
      }
     ],
     "prompt_number": 13
    },
    {
     "cell_type": "code",
     "collapsed": false,
     "input": [],
     "language": "python",
     "metadata": {},
     "outputs": []
=======
    }
   ],
   "source": [
    "c.pretty_print()"
   ]
  },
  {
   "cell_type": "raw",
   "metadata": {},
   "source": [
    "or a finer grid"
   ]
  },
  {
   "cell_type": "code",
   "execution_count": 14,
   "metadata": {
    "collapsed": false
   },
   "outputs": [],
   "source": [
    "f = d.prolong(\"a\")"
   ]
  },
  {
   "cell_type": "code",
   "execution_count": 15,
   "metadata": {
    "collapsed": false
   },
   "outputs": [
    {
     "name": "stdout",
     "output_type": "stream",
     "text": [
      "\u001b[31m         0\u001b[0m\u001b[31m         0\u001b[0m\u001b[31m         0\u001b[0m\u001b[31m         0\u001b[0m\u001b[31m         0\u001b[0m\u001b[31m         0\u001b[0m\u001b[31m         0\u001b[0m\u001b[31m         0\u001b[0m\u001b[31m         0\u001b[0m\u001b[31m         0\u001b[0m\u001b[31m         0\u001b[0m\u001b[31m         0\u001b[0m\u001b[31m         0\u001b[0m\u001b[31m         0\u001b[0m\u001b[31m         0\u001b[0m\u001b[31m         0\u001b[0m\u001b[31m         0\u001b[0m\u001b[31m         0\u001b[0m\u001b[31m         0\u001b[0m\u001b[31m         0\u001b[0m \n",
      "\u001b[31m         0\u001b[0m\u001b[31m         0\u001b[0m\u001b[31m         0\u001b[0m\u001b[31m         0\u001b[0m\u001b[31m         0\u001b[0m\u001b[31m         0\u001b[0m\u001b[31m         0\u001b[0m\u001b[31m         0\u001b[0m\u001b[31m         0\u001b[0m\u001b[31m         0\u001b[0m\u001b[31m         0\u001b[0m\u001b[31m         0\u001b[0m\u001b[31m         0\u001b[0m\u001b[31m         0\u001b[0m\u001b[31m         0\u001b[0m\u001b[31m         0\u001b[0m\u001b[31m         0\u001b[0m\u001b[31m         0\u001b[0m\u001b[31m         0\u001b[0m\u001b[31m         0\u001b[0m \n",
      "\u001b[31m         0\u001b[0m\u001b[31m         0\u001b[0m   0.21936     0.546   0.85623   0.99153   0.99153   0.85623     0.546   0.21936  -0.21936    -0.546  -0.85623  -0.99153  -0.99153  -0.85623    -0.546  -0.21936\u001b[31m         0\u001b[0m\u001b[31m         0\u001b[0m \n",
      "\u001b[31m         0\u001b[0m\u001b[31m         0\u001b[0m   0.21936     0.546   0.85623   0.99153   0.99153   0.85623     0.546   0.21936  -0.21936    -0.546  -0.85623  -0.99153  -0.99153  -0.85623    -0.546  -0.21936\u001b[31m         0\u001b[0m\u001b[31m         0\u001b[0m \n",
      "\u001b[31m         0\u001b[0m\u001b[31m         0\u001b[0m   0.21936     0.546   0.85623   0.99153   0.99153   0.85623     0.546   0.21936  -0.21936    -0.546  -0.85623  -0.99153  -0.99153  -0.85623    -0.546  -0.21936\u001b[31m         0\u001b[0m\u001b[31m         0\u001b[0m \n",
      "\u001b[31m         0\u001b[0m\u001b[31m         0\u001b[0m   0.21936     0.546   0.85623   0.99153   0.99153   0.85623     0.546   0.21936  -0.21936    -0.546  -0.85623  -0.99153  -0.99153  -0.85623    -0.546  -0.21936\u001b[31m         0\u001b[0m\u001b[31m         0\u001b[0m \n",
      "\u001b[31m         0\u001b[0m\u001b[31m         0\u001b[0m   0.21936     0.546   0.85623   0.99153   0.99153   0.85623     0.546   0.21936  -0.21936    -0.546  -0.85623  -0.99153  -0.99153  -0.85623    -0.546  -0.21936\u001b[31m         0\u001b[0m\u001b[31m         0\u001b[0m \n",
      "\u001b[31m         0\u001b[0m\u001b[31m         0\u001b[0m   0.21936     0.546   0.85623   0.99153   0.99153   0.85623     0.546   0.21936  -0.21936    -0.546  -0.85623  -0.99153  -0.99153  -0.85623    -0.546  -0.21936\u001b[31m         0\u001b[0m\u001b[31m         0\u001b[0m \n",
      "\u001b[31m         0\u001b[0m\u001b[31m         0\u001b[0m   0.21936     0.546   0.85623   0.99153   0.99153   0.85623     0.546   0.21936  -0.21936    -0.546  -0.85623  -0.99153  -0.99153  -0.85623    -0.546  -0.21936\u001b[31m         0\u001b[0m\u001b[31m         0\u001b[0m \n",
      "\u001b[31m         0\u001b[0m\u001b[31m         0\u001b[0m   0.21936     0.546   0.85623   0.99153   0.99153   0.85623     0.546   0.21936  -0.21936    -0.546  -0.85623  -0.99153  -0.99153  -0.85623    -0.546  -0.21936\u001b[31m         0\u001b[0m\u001b[31m         0\u001b[0m \n",
      "\u001b[31m         0\u001b[0m\u001b[31m         0\u001b[0m   0.21936     0.546   0.85623   0.99153   0.99153   0.85623     0.546   0.21936  -0.21936    -0.546  -0.85623  -0.99153  -0.99153  -0.85623    -0.546  -0.21936\u001b[31m         0\u001b[0m\u001b[31m         0\u001b[0m \n",
      "\u001b[31m         0\u001b[0m\u001b[31m         0\u001b[0m   0.21936     0.546   0.85623   0.99153   0.99153   0.85623     0.546   0.21936  -0.21936    -0.546  -0.85623  -0.99153  -0.99153  -0.85623    -0.546  -0.21936\u001b[31m         0\u001b[0m\u001b[31m         0\u001b[0m \n",
      "\u001b[31m         0\u001b[0m\u001b[31m         0\u001b[0m   0.21936     0.546   0.85623   0.99153   0.99153   0.85623     0.546   0.21936  -0.21936    -0.546  -0.85623  -0.99153  -0.99153  -0.85623    -0.546  -0.21936\u001b[31m         0\u001b[0m\u001b[31m         0\u001b[0m \n",
      "\u001b[31m         0\u001b[0m\u001b[31m         0\u001b[0m   0.21936     0.546   0.85623   0.99153   0.99153   0.85623     0.546   0.21936  -0.21936    -0.546  -0.85623  -0.99153  -0.99153  -0.85623    -0.546  -0.21936\u001b[31m         0\u001b[0m\u001b[31m         0\u001b[0m \n",
      "\u001b[31m         0\u001b[0m\u001b[31m         0\u001b[0m   0.21936     0.546   0.85623   0.99153   0.99153   0.85623     0.546   0.21936  -0.21936    -0.546  -0.85623  -0.99153  -0.99153  -0.85623    -0.546  -0.21936\u001b[31m         0\u001b[0m\u001b[31m         0\u001b[0m \n",
      "\u001b[31m         0\u001b[0m\u001b[31m         0\u001b[0m   0.21936     0.546   0.85623   0.99153   0.99153   0.85623     0.546   0.21936  -0.21936    -0.546  -0.85623  -0.99153  -0.99153  -0.85623    -0.546  -0.21936\u001b[31m         0\u001b[0m\u001b[31m         0\u001b[0m \n",
      "\u001b[31m         0\u001b[0m\u001b[31m         0\u001b[0m   0.21936     0.546   0.85623   0.99153   0.99153   0.85623     0.546   0.21936  -0.21936    -0.546  -0.85623  -0.99153  -0.99153  -0.85623    -0.546  -0.21936\u001b[31m         0\u001b[0m\u001b[31m         0\u001b[0m \n",
      "\u001b[31m         0\u001b[0m\u001b[31m         0\u001b[0m   0.21936     0.546   0.85623   0.99153   0.99153   0.85623     0.546   0.21936  -0.21936    -0.546  -0.85623  -0.99153  -0.99153  -0.85623    -0.546  -0.21936\u001b[31m         0\u001b[0m\u001b[31m         0\u001b[0m \n",
      "\u001b[31m         0\u001b[0m\u001b[31m         0\u001b[0m\u001b[31m         0\u001b[0m\u001b[31m         0\u001b[0m\u001b[31m         0\u001b[0m\u001b[31m         0\u001b[0m\u001b[31m         0\u001b[0m\u001b[31m         0\u001b[0m\u001b[31m         0\u001b[0m\u001b[31m         0\u001b[0m\u001b[31m         0\u001b[0m\u001b[31m         0\u001b[0m\u001b[31m         0\u001b[0m\u001b[31m         0\u001b[0m\u001b[31m         0\u001b[0m\u001b[31m         0\u001b[0m\u001b[31m         0\u001b[0m\u001b[31m         0\u001b[0m\u001b[31m         0\u001b[0m\u001b[31m         0\u001b[0m \n",
      "\u001b[31m         0\u001b[0m\u001b[31m         0\u001b[0m\u001b[31m         0\u001b[0m\u001b[31m         0\u001b[0m\u001b[31m         0\u001b[0m\u001b[31m         0\u001b[0m\u001b[31m         0\u001b[0m\u001b[31m         0\u001b[0m\u001b[31m         0\u001b[0m\u001b[31m         0\u001b[0m\u001b[31m         0\u001b[0m\u001b[31m         0\u001b[0m\u001b[31m         0\u001b[0m\u001b[31m         0\u001b[0m\u001b[31m         0\u001b[0m\u001b[31m         0\u001b[0m\u001b[31m         0\u001b[0m\u001b[31m         0\u001b[0m\u001b[31m         0\u001b[0m\u001b[31m         0\u001b[0m \n",
      "\n",
      "         ^ y\n",
      "         |\n",
      "         +---> x\n",
      "        \n"
     ]
>>>>>>> 014811eac3efb98fae370f469ed5cd2aa7d32324
    }
   ],
   "source": [
    "f.pretty_print()"
   ]
  },
  {
   "cell_type": "code",
   "execution_count": null,
   "metadata": {
    "collapsed": false
   },
   "outputs": [],
   "source": []
  },
  {
   "cell_type": "code",
   "execution_count": null,
   "metadata": {
    "collapsed": false
   },
   "outputs": [],
   "source": []
  }
 ],
 "metadata": {
  "kernelspec": {
   "display_name": "Python 2",
   "language": "python",
   "name": "python2"
  },
  "language_info": {
   "codemirror_mode": {
    "name": "ipython",
    "version": 2
   },
   "file_extension": ".py",
   "mimetype": "text/x-python",
   "name": "python",
   "nbconvert_exporter": "python",
   "pygments_lexer": "ipython2",
   "version": "2.7.10"
  }
 },
 "nbformat": 4,
 "nbformat_minor": 0
}
