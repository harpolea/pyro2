{
 "metadata": {
  "name": "",
  "signature": "sha256:c8716297fd35e8a5979a6d3167c1380659ddcefa0c2198f8831d14096a9ba4e9"
 },
 "nbformat": 3,
 "nbformat_minor": 0,
 "worksheets": [
  {
   "cells": [
    {
     "cell_type": "heading",
     "level": 1,
     "metadata": {},
     "source": [
      "Variable Coefficient Poisson"
     ]
    },
    {
     "cell_type": "markdown",
     "metadata": {},
     "source": [
      "Derive the form of a test variable-coefficient elliptic equation with periodic boundary conditions for testing the variable-coefficient multigrid solver.\n",
      "\n",
      "We want to solve an equation of the form $\\nabla \\cdot (\\alpha \\nabla \\phi) = f$\n",
      "\n",
      "Note: it is important for solvability that the RHS, f, integrate to zero over our domain.  It seems sufficient to ensure that phi integrates to zero to have this condition met."
     ]
    },
    {
     "cell_type": "code",
     "collapsed": false,
     "input": [
      "%pylab inline"
     ],
     "language": "python",
     "metadata": {},
     "outputs": [
      {
       "output_type": "stream",
       "stream": "stdout",
       "text": [
        "Populating the interactive namespace from numpy and matplotlib\n"
       ]
      }
     ],
     "prompt_number": 2
    },
    {
     "cell_type": "code",
     "collapsed": false,
     "input": [
      "from sympy import init_session\n",
      "init_session()"
     ],
     "language": "python",
     "metadata": {},
     "outputs": [
      {
       "output_type": "stream",
       "stream": "stdout",
       "text": [
        "IPython console for SymPy 0.7.6 (Python 2.7.8-64-bit) (ground types: gmpy)\n",
        "\n",
        "These commands were executed:\n",
        ">>> from __future__ import division\n",
        ">>> from sympy import *\n",
        ">>> x, y, z, t = symbols('x y z t')\n",
        ">>> k, m, n = symbols('k m n', integer=True)\n",
        ">>> f, g, h = symbols('f g h', cls=Function)\n",
        ">>> init_printing()\n",
        "\n",
        "Documentation can be found at http://www.sympy.org\n"
       ]
      }
     ],
     "prompt_number": 3
    },
    {
     "cell_type": "raw",
     "metadata": {},
     "source": [
      "Variable coefficient elliptic problem, using periodic boundary conditions all around."
     ]
    },
    {
     "cell_type": "code",
     "collapsed": false,
     "input": [
      "alpha = 2.0 + cos(2*pi*x)*cos(2*pi*y)"
     ],
     "language": "python",
     "metadata": {},
     "outputs": [],
     "prompt_number": 4
    },
    {
     "cell_type": "code",
     "collapsed": false,
     "input": [
      "phi = sin(2*pi*x)*sin(2*pi*y)"
     ],
     "language": "python",
     "metadata": {},
     "outputs": [],
     "prompt_number": 5
    },
    {
     "cell_type": "markdown",
     "metadata": {},
     "source": [
      "we want to compute $\\nabla \\cdot (\\alpha \\nabla \\phi)$"
     ]
    },
    {
     "cell_type": "code",
     "collapsed": false,
     "input": [
      "phi_x = diff(phi, x)\n",
      "phi_y = diff(phi, y)"
     ],
     "language": "python",
     "metadata": {},
     "outputs": [],
     "prompt_number": 6
    },
    {
     "cell_type": "code",
     "collapsed": false,
     "input": [
      "f = diff(alpha*phi_x, x) + diff(alpha*phi_y, y)"
     ],
     "language": "python",
     "metadata": {},
     "outputs": [],
     "prompt_number": 7
    },
    {
     "cell_type": "code",
     "collapsed": false,
     "input": [
      "f = simplify(f)\n",
      "f"
     ],
     "language": "python",
     "metadata": {},
     "outputs": [
      {
       "latex": [
        "$$- 16.0 \\pi^{2} \\left(\\cos{\\left (2 \\pi x \\right )} \\cos{\\left (2 \\pi y \\right )} + 1\\right) \\sin{\\left (2 \\pi x \\right )} \\sin{\\left (2 \\pi y \\right )}$$"
       ],
       "metadata": {},
       "output_type": "pyout",
       "png": "[encoded data removed]",
       "prompt_number": 8,
       "text": [
        "       2                                                  \n",
        "-16.0\u22c5\u03c0 \u22c5(cos(2\u22c5\u03c0\u22c5x)\u22c5cos(2\u22c5\u03c0\u22c5y) + 1)\u22c5sin(2\u22c5\u03c0\u22c5x)\u22c5sin(2\u22c5\u03c0\u22c5y)"
       ]
      }
     ],
     "prompt_number": 8
    },
    {
     "cell_type": "code",
     "collapsed": false,
     "input": [
      "print(f)"
     ],
     "language": "python",
     "metadata": {},
     "outputs": [
      {
       "output_type": "stream",
       "stream": "stdout",
       "text": [
        "-16.0*pi**2*(cos(2*pi*x)*cos(2*pi*y) + 1)*sin(2*pi*x)*sin(2*pi*y)\n"
       ]
      }
     ],
     "prompt_number": 9
    },
    {
     "cell_type": "raw",
     "metadata": {},
     "source": [
      "boundary conditions check"
     ]
    },
    {
     "cell_type": "code",
     "collapsed": false,
     "input": [
      "phi.subs(x, 0)"
     ],
     "language": "python",
     "metadata": {},
     "outputs": [
      {
       "latex": [
        "$$0$$"
       ],
       "metadata": {},
       "output_type": "pyout",
       "png": "[encoded data removed]",
       "prompt_number": 10,
       "text": [
        "0"
       ]
      }
     ],
     "prompt_number": 10
    },
    {
     "cell_type": "code",
     "collapsed": false,
     "input": [
      "phi.subs(x, 1)"
     ],
     "language": "python",
     "metadata": {},
     "outputs": [
      {
       "latex": [
        "$$0$$"
       ],
       "metadata": {},
       "output_type": "pyout",
       "png": "[encoded data removed]",
       "prompt_number": 11,
       "text": [
        "0"
       ]
      }
     ],
     "prompt_number": 11
    },
    {
     "cell_type": "code",
     "collapsed": false,
     "input": [
      "phi.subs(y, 0)"
     ],
     "language": "python",
     "metadata": {},
     "outputs": [
      {
       "latex": [
        "$$0$$"
       ],
       "metadata": {},
       "output_type": "pyout",
       "png": "[encoded data removed]",
       "prompt_number": 12,
       "text": [
        "0"
       ]
      }
     ],
     "prompt_number": 12
    },
    {
     "cell_type": "code",
     "collapsed": false,
     "input": [
      "phi.subs(y, 1)"
     ],
     "language": "python",
     "metadata": {},
     "outputs": [
      {
       "latex": [
        "$$0$$"
       ],
       "metadata": {},
       "output_type": "pyout",
       "png": "[encoded data removed]",
       "prompt_number": 13,
       "text": [
        "0"
       ]
      }
     ],
     "prompt_number": 13
    },
    {
     "cell_type": "heading",
     "level": 1,
     "metadata": {},
     "source": [
      "General Elliptic"
     ]
    },
    {
     "cell_type": "markdown",
     "metadata": {},
     "source": [
      "Derive the form of a test variable-coefficient elliptic equation with periodic boundary conditions for testing the variable-coefficient multigrid solver.\n",
      "\n",
      "We are solving\n",
      "\n",
      "$$\\alpha \\phi + \\nabla \\cdot (\\beta \\nabla \\phi ) + \\gamma \\cdot \\nabla \\phi = f$$\n",
      "\n",
      "Note: it is important for solvability that the RHS, f, integrate to zero over our domain.  It seems sufficient to ensure that phi integrates to zero to have this condition met."
     ]
    },
    {
     "cell_type": "code",
     "collapsed": false,
     "input": [
      "phi = sin(2*pi*x)*sin(2*pi*y)"
     ],
     "language": "python",
     "metadata": {},
     "outputs": [],
     "prompt_number": 14
    },
    {
     "cell_type": "code",
     "collapsed": false,
     "input": [
      "phi"
     ],
     "language": "python",
     "metadata": {},
     "outputs": [
      {
       "latex": [
        "$$\\sin{\\left (2 \\pi x \\right )} \\sin{\\left (2 \\pi y \\right )}$$"
       ],
       "metadata": {},
       "output_type": "pyout",
       "png": "[encoded data removed]",
       "prompt_number": 15,
       "text": [
        "sin(2\u22c5\u03c0\u22c5x)\u22c5sin(2\u22c5\u03c0\u22c5y)"
       ]
      }
     ],
     "prompt_number": 15
    },
    {
     "cell_type": "code",
     "collapsed": false,
     "input": [
      "alpha = 1.0\n",
      "beta = 2.0 + cos(2*pi*x)*cos(2*pi*y)\n",
      "gamma_x = sin(2*pi*x)\n",
      "gamma_y = sin(2*pi*y)\n"
     ],
     "language": "python",
     "metadata": {},
     "outputs": [],
     "prompt_number": 16
    },
    {
     "cell_type": "code",
     "collapsed": false,
     "input": [
      "alpha"
     ],
     "language": "python",
     "metadata": {},
     "outputs": [
      {
       "latex": [
        "$$1.0$$"
       ],
       "metadata": {},
       "output_type": "pyout",
       "png": "[encoded data removed]",
       "prompt_number": 17,
       "text": [
        "1.0"
       ]
      }
     ],
     "prompt_number": 17
    },
    {
     "cell_type": "code",
     "collapsed": false,
     "input": [
      "beta"
     ],
     "language": "python",
     "metadata": {},
     "outputs": [
      {
       "latex": [
        "$$\\cos{\\left (2 \\pi x \\right )} \\cos{\\left (2 \\pi y \\right )} + 2.0$$"
       ],
       "metadata": {},
       "output_type": "pyout",
       "png": "[encoded data removed]",
       "prompt_number": 18,
       "text": [
        "cos(2\u22c5\u03c0\u22c5x)\u22c5cos(2\u22c5\u03c0\u22c5y) + 2.0"
       ]
      }
     ],
     "prompt_number": 18
    },
    {
     "cell_type": "code",
     "collapsed": false,
     "input": [
      "gamma_x"
     ],
     "language": "python",
     "metadata": {},
     "outputs": [
      {
       "latex": [
        "$$\\sin{\\left (2 \\pi x \\right )}$$"
       ],
       "metadata": {},
       "output_type": "pyout",
       "png": "[encoded data removed]",
       "prompt_number": 19,
       "text": [
        "sin(2\u22c5\u03c0\u22c5x)"
       ]
      }
     ],
     "prompt_number": 19
    },
    {
     "cell_type": "code",
     "collapsed": false,
     "input": [
      "gamma_y"
     ],
     "language": "python",
     "metadata": {},
     "outputs": [
      {
       "latex": [
        "$$\\sin{\\left (2 \\pi y \\right )}$$"
       ],
       "metadata": {},
       "output_type": "pyout",
       "png": "[encoded data removed]",
       "prompt_number": 20,
       "text": [
        "sin(2\u22c5\u03c0\u22c5y)"
       ]
      }
     ],
     "prompt_number": 20
    },
    {
     "cell_type": "code",
     "collapsed": false,
     "input": [
      "phi_x = diff(phi, x)\n",
      "phi_y = diff(phi, y)"
     ],
     "language": "python",
     "metadata": {},
     "outputs": [],
     "prompt_number": 21
    },
    {
     "cell_type": "code",
     "collapsed": false,
     "input": [
      "f = alpha*phi + diff(beta*phi_x, x) + diff(beta*phi_y, y) + gamma_x*phi_x + gamma_y*phi_y"
     ],
     "language": "python",
     "metadata": {},
     "outputs": [],
     "prompt_number": 22
    },
    {
     "cell_type": "code",
     "collapsed": false,
     "input": [
      "f = simplify(f)\n",
      "f"
     ],
     "language": "python",
     "metadata": {},
     "outputs": [
      {
       "latex": [
        "$$\\left(- 16.0 \\pi^{2} \\cos{\\left (2 \\pi x \\right )} \\cos{\\left (2 \\pi y \\right )} + 2.0 \\pi \\cos{\\left (2 \\pi x \\right )} + 2.0 \\pi \\cos{\\left (2 \\pi y \\right )} - 16.0 \\pi^{2} + 1.0\\right) \\sin{\\left (2 \\pi x \\right )} \\sin{\\left (2 \\pi y \\right )}$$"
       ],
       "metadata": {},
       "output_type": "pyout",
       "png": "[encoded data removed]",
       "prompt_number": 23,
       "text": [
        "\u239b              2                                                              \n",
        "\u239d- -16.0\u22c5(-1)\u22c5\u03c0 \u22c5cos(2\u22c5\u03c0\u22c5x)\u22c5cos(2\u22c5\u03c0\u22c5y) + 2.0\u22c5\u03c0\u22c5cos(2\u22c5\u03c0\u22c5x) + 2.0\u22c5\u03c0\u22c5cos(2\u22c5\u03c0\u22c5y) -\n",
        "\n",
        "             2      \u239e                      \n",
        " -16.0\u22c5(-1)\u22c5\u03c0  + 1.0\u23a0\u22c5sin(2\u22c5\u03c0\u22c5x)\u22c5sin(2\u22c5\u03c0\u22c5y)"
       ]
      }
     ],
     "prompt_number": 23
    },
    {
     "cell_type": "code",
     "collapsed": false,
     "input": [
      "print(f)"
     ],
     "language": "python",
     "metadata": {},
     "outputs": [
      {
       "output_type": "stream",
       "stream": "stdout",
       "text": [
        "(-16.0*pi**2*cos(2*pi*x)*cos(2*pi*y) + 2.0*pi*cos(2*pi*x) + 2.0*pi*cos(2*pi*y) - 16.0*pi**2 + 1.0)*sin(2*pi*x)*sin(2*pi*y)\n"
       ]
      }
     ],
     "prompt_number": 24
    },
    {
     "cell_type": "code",
     "collapsed": false,
     "input": [
      "print(alpha)"
     ],
     "language": "python",
     "metadata": {},
     "outputs": [
      {
       "output_type": "stream",
       "stream": "stdout",
       "text": [
        "1.0\n"
       ]
      }
     ],
     "prompt_number": 25
    },
    {
     "cell_type": "code",
     "collapsed": false,
     "input": [
      "print(beta)"
     ],
     "language": "python",
     "metadata": {},
     "outputs": [
      {
       "output_type": "stream",
       "stream": "stdout",
       "text": [
        "cos(2*pi*x)*cos(2*pi*y) + 2.0\n"
       ]
      }
     ],
     "prompt_number": 26
    },
    {
     "cell_type": "code",
     "collapsed": false,
     "input": [
      "print(gamma_x)"
     ],
     "language": "python",
     "metadata": {},
     "outputs": [
      {
       "output_type": "stream",
       "stream": "stdout",
       "text": [
        "sin(2*pi*x)\n"
       ]
      }
     ],
     "prompt_number": 27
    },
    {
     "cell_type": "code",
     "collapsed": false,
     "input": [
      "print (gamma_y)"
     ],
     "language": "python",
     "metadata": {},
     "outputs": [
      {
       "output_type": "stream",
       "stream": "stdout",
       "text": [
        "sin(2*pi*y)\n"
       ]
      }
     ],
     "prompt_number": 28
    },
    {
     "cell_type": "code",
     "collapsed": false,
     "input": [],
     "language": "python",
     "metadata": {},
     "outputs": [],
     "prompt_number": 28
    },
    {
     "cell_type": "heading",
     "level": 2,
     "metadata": {},
     "source": [
      "Inhomogeneous BCs"
     ]
    },
    {
     "cell_type": "code",
     "collapsed": false,
     "input": [
      "phi = cos(Rational(1,2)*pi*x)*cos(Rational(1,2)*pi*y)"
     ],
     "language": "python",
     "metadata": {},
     "outputs": [],
     "prompt_number": 39
    },
    {
     "cell_type": "code",
     "collapsed": false,
     "input": [
      "phi"
     ],
     "language": "python",
     "metadata": {},
     "outputs": [
      {
       "latex": [
        "$$\\cos{\\left (\\frac{\\pi x}{2} \\right )} \\cos{\\left (\\frac{\\pi y}{2} \\right )}$$"
       ],
       "metadata": {},
       "output_type": "pyout",
       "png": "[encoded data removed]",
       "prompt_number": 40,
       "text": [
        "   \u239b\u03c0\u22c5x\u239e    \u239b\u03c0\u22c5y\u239e\n",
        "cos\u239c\u2500\u2500\u2500\u239f\u22c5cos\u239c\u2500\u2500\u2500\u239f\n",
        "   \u239d 2 \u23a0    \u239d 2 \u23a0"
       ]
      }
     ],
     "prompt_number": 40
    },
    {
     "cell_type": "code",
     "collapsed": false,
     "input": [
      "alpha = 10\n",
      "gamma_x = 1\n",
      "gamma_y = 1\n",
      "beta = x*y + 1"
     ],
     "language": "python",
     "metadata": {},
     "outputs": [],
     "prompt_number": 49
    },
    {
     "cell_type": "code",
     "collapsed": false,
     "input": [
      "phi_x = diff(phi, x)\n",
      "phi_y = diff(phi, y)\n",
      "f = alpha*phi + diff(beta*phi_x, x) + diff(beta*phi_y, y) + gamma_x*phi_x + gamma_y*phi_y"
     ],
     "language": "python",
     "metadata": {},
     "outputs": [],
     "prompt_number": 50
    },
    {
     "cell_type": "code",
     "collapsed": false,
     "input": [
      "f"
     ],
     "language": "python",
     "metadata": {},
     "outputs": [
      {
       "latex": [
        "$$- \\frac{\\pi x}{2} \\sin{\\left (\\frac{\\pi y}{2} \\right )} \\cos{\\left (\\frac{\\pi x}{2} \\right )} - \\frac{\\pi y}{2} \\sin{\\left (\\frac{\\pi x}{2} \\right )} \\cos{\\left (\\frac{\\pi y}{2} \\right )} - \\frac{\\pi^{2}}{2} \\left(x y + 1\\right) \\cos{\\left (\\frac{\\pi x}{2} \\right )} \\cos{\\left (\\frac{\\pi y}{2} \\right )} - \\frac{\\pi}{2} \\sin{\\left (\\frac{\\pi x}{2} \\right )} \\cos{\\left (\\frac{\\pi y}{2} \\right )} - \\frac{\\pi}{2} \\sin{\\left (\\frac{\\pi y}{2} \\right )} \\cos{\\left (\\frac{\\pi x}{2} \\right )} + 10 \\cos{\\left (\\frac{\\pi x}{2} \\right )} \\cos{\\left (\\frac{\\pi y}{2} \\right )}$$"
       ],
       "metadata": {},
       "output_type": "pyout",
       "png": "[encoded data removed]",
       "prompt_number": 51,
       "text": [
        "         \u239b\u03c0\u22c5y\u239e    \u239b\u03c0\u22c5x\u239e          \u239b\u03c0\u22c5x\u239e    \u239b\u03c0\u22c5y\u239e    2              \u239b\u03c0\u22c5x\u239e    \u239b\u03c0\u22c5\n",
        "  \u03c0\u22c5x\u22c5sin\u239c\u2500\u2500\u2500\u239f\u22c5cos\u239c\u2500\u2500\u2500\u239f   \u03c0\u22c5y\u22c5sin\u239c\u2500\u2500\u2500\u239f\u22c5cos\u239c\u2500\u2500\u2500\u239f   \u03c0 \u22c5(x\u22c5y + 1)\u22c5cos\u239c\u2500\u2500\u2500\u239f\u22c5cos\u239c\u2500\u2500\n",
        "         \u239d 2 \u23a0    \u239d 2 \u23a0          \u239d 2 \u23a0    \u239d 2 \u23a0                   \u239d 2 \u23a0    \u239d 2\n",
        "- \u2500\u2500\u2500\u2500\u2500\u2500\u2500\u2500\u2500\u2500\u2500\u2500\u2500\u2500\u2500\u2500\u2500\u2500\u2500\u2500\u2500 - \u2500\u2500\u2500\u2500\u2500\u2500\u2500\u2500\u2500\u2500\u2500\u2500\u2500\u2500\u2500\u2500\u2500\u2500\u2500\u2500\u2500 - \u2500\u2500\u2500\u2500\u2500\u2500\u2500\u2500\u2500\u2500\u2500\u2500\u2500\u2500\u2500\u2500\u2500\u2500\u2500\u2500\u2500\u2500\u2500\u2500\u2500\u2500\u2500\u2500\n",
        "            2                       2                           2             \n",
        "\n",
        "y\u239e        \u239b\u03c0\u22c5x\u239e    \u239b\u03c0\u22c5y\u239e        \u239b\u03c0\u22c5y\u239e    \u239b\u03c0\u22c5x\u239e                       \n",
        "\u2500\u239f   \u03c0\u22c5sin\u239c\u2500\u2500\u2500\u239f\u22c5cos\u239c\u2500\u2500\u2500\u239f   \u03c0\u22c5sin\u239c\u2500\u2500\u2500\u239f\u22c5cos\u239c\u2500\u2500\u2500\u239f                       \n",
        " \u23a0        \u239d 2 \u23a0    \u239d 2 \u23a0        \u239d 2 \u23a0    \u239d 2 \u23a0         \u239b\u03c0\u22c5x\u239e    \u239b\u03c0\u22c5y\u239e\n",
        "\u2500\u2500 - \u2500\u2500\u2500\u2500\u2500\u2500\u2500\u2500\u2500\u2500\u2500\u2500\u2500\u2500\u2500\u2500\u2500\u2500\u2500 - \u2500\u2500\u2500\u2500\u2500\u2500\u2500\u2500\u2500\u2500\u2500\u2500\u2500\u2500\u2500\u2500\u2500\u2500\u2500 + 10\u22c5cos\u239c\u2500\u2500\u2500\u239f\u22c5cos\u239c\u2500\u2500\u2500\u239f\n",
        "              2                     2                  \u239d 2 \u23a0    \u239d 2 \u23a0"
       ]
      }
     ],
     "prompt_number": 51
    },
    {
     "cell_type": "code",
     "collapsed": false,
     "input": [
      "simplify(f)"
     ],
     "language": "python",
     "metadata": {},
     "outputs": [
      {
       "latex": [
        "$$- \\frac{x y}{2} \\pi^{2} \\cos{\\left (\\frac{\\pi x}{2} \\right )} \\cos{\\left (\\frac{\\pi y}{2} \\right )} - \\frac{\\pi x}{2} \\sin{\\left (\\frac{\\pi y}{2} \\right )} \\cos{\\left (\\frac{\\pi x}{2} \\right )} - \\frac{\\pi y}{2} \\sin{\\left (\\frac{\\pi x}{2} \\right )} \\cos{\\left (\\frac{\\pi y}{2} \\right )} - \\frac{\\pi}{2} \\sin{\\left (\\pi \\left(\\frac{x}{2} + \\frac{y}{2}\\right) \\right )} - \\frac{\\pi^{2}}{2} \\cos{\\left (\\frac{\\pi x}{2} \\right )} \\cos{\\left (\\frac{\\pi y}{2} \\right )} + 10 \\cos{\\left (\\frac{\\pi x}{2} \\right )} \\cos{\\left (\\frac{\\pi y}{2} \\right )}$$"
       ],
       "metadata": {},
       "output_type": "pyout",
       "png": "[encoded data removed]",
       "prompt_number": 52,
       "text": [
        "   2        \u239b\u03c0\u22c5x\u239e    \u239b\u03c0\u22c5y\u239e          \u239b\u03c0\u22c5y\u239e    \u239b\u03c0\u22c5x\u239e          \u239b\u03c0\u22c5x\u239e    \u239b\u03c0\u22c5y\u239e    \n",
        "  \u03c0 \u22c5x\u22c5y\u22c5cos\u239c\u2500\u2500\u2500\u239f\u22c5cos\u239c\u2500\u2500\u2500\u239f   \u03c0\u22c5x\u22c5sin\u239c\u2500\u2500\u2500\u239f\u22c5cos\u239c\u2500\u2500\u2500\u239f   \u03c0\u22c5y\u22c5sin\u239c\u2500\u2500\u2500\u239f\u22c5cos\u239c\u2500\u2500\u2500\u239f   \u03c0\n",
        "            \u239d 2 \u23a0    \u239d 2 \u23a0          \u239d 2 \u23a0    \u239d 2 \u23a0          \u239d 2 \u23a0    \u239d 2 \u23a0    \n",
        "- \u2500\u2500\u2500\u2500\u2500\u2500\u2500\u2500\u2500\u2500\u2500\u2500\u2500\u2500\u2500\u2500\u2500\u2500\u2500\u2500\u2500\u2500\u2500\u2500 - \u2500\u2500\u2500\u2500\u2500\u2500\u2500\u2500\u2500\u2500\u2500\u2500\u2500\u2500\u2500\u2500\u2500\u2500\u2500\u2500\u2500 - \u2500\u2500\u2500\u2500\u2500\u2500\u2500\u2500\u2500\u2500\u2500\u2500\u2500\u2500\u2500\u2500\u2500\u2500\u2500\u2500\u2500 - \u2500\n",
        "             2                         2                       2              \n",
        "\n",
        "    \u239b  \u239bx   y\u239e\u239e    2    \u239b\u03c0\u22c5x\u239e    \u239b\u03c0\u22c5y\u239e                       \n",
        "\u22c5sin\u239c\u03c0\u22c5\u239c\u2500 + \u2500\u239f\u239f   \u03c0 \u22c5cos\u239c\u2500\u2500\u2500\u239f\u22c5cos\u239c\u2500\u2500\u2500\u239f                       \n",
        "    \u239d  \u239d2   2\u23a0\u23a0         \u239d 2 \u23a0    \u239d 2 \u23a0         \u239b\u03c0\u22c5x\u239e    \u239b\u03c0\u22c5y\u239e\n",
        "\u2500\u2500\u2500\u2500\u2500\u2500\u2500\u2500\u2500\u2500\u2500\u2500\u2500\u2500\u2500 - \u2500\u2500\u2500\u2500\u2500\u2500\u2500\u2500\u2500\u2500\u2500\u2500\u2500\u2500\u2500\u2500\u2500\u2500\u2500\u2500 + 10\u22c5cos\u239c\u2500\u2500\u2500\u239f\u22c5cos\u239c\u2500\u2500\u2500\u239f\n",
        "      2                    2                   \u239d 2 \u23a0    \u239d 2 \u23a0"
       ]
      }
     ],
     "prompt_number": 52
    },
    {
     "cell_type": "heading",
     "level": 3,
     "metadata": {},
     "source": [
      "boundary conditions"
     ]
    },
    {
     "cell_type": "code",
     "collapsed": false,
     "input": [
      "phi.subs(x,0)"
     ],
     "language": "python",
     "metadata": {},
     "outputs": [
      {
       "latex": [
        "$$\\cos{\\left (\\frac{\\pi y}{2} \\right )}$$"
       ],
       "metadata": {},
       "output_type": "pyout",
       "png": "[encoded data removed]",
       "prompt_number": 45,
       "text": [
        "   \u239b\u03c0\u22c5y\u239e\n",
        "cos\u239c\u2500\u2500\u2500\u239f\n",
        "   \u239d 2 \u23a0"
       ]
      }
     ],
     "prompt_number": 45
    },
    {
     "cell_type": "code",
     "collapsed": false,
     "input": [
      "phi.subs(x,1)"
     ],
     "language": "python",
     "metadata": {},
     "outputs": [
      {
       "latex": [
        "$$0$$"
       ],
       "metadata": {},
       "output_type": "pyout",
       "png": "[encoded data removed]",
       "prompt_number": 46,
       "text": [
        "0"
       ]
      }
     ],
     "prompt_number": 46
    },
    {
     "cell_type": "code",
     "collapsed": false,
     "input": [
      "phi.subs(y,0)"
     ],
     "language": "python",
     "metadata": {},
     "outputs": [
      {
       "latex": [
        "$$\\cos{\\left (\\frac{\\pi x}{2} \\right )}$$"
       ],
       "metadata": {},
       "output_type": "pyout",
       "png": "[encoded data removed]",
       "prompt_number": 47,
       "text": [
        "   \u239b\u03c0\u22c5x\u239e\n",
        "cos\u239c\u2500\u2500\u2500\u239f\n",
        "   \u239d 2 \u23a0"
       ]
      }
     ],
     "prompt_number": 47
    },
    {
     "cell_type": "code",
     "collapsed": false,
     "input": [
      "phi.subs(y,1)"
     ],
     "language": "python",
     "metadata": {},
     "outputs": [
      {
       "latex": [
        "$$0$$"
       ],
       "metadata": {},
       "output_type": "pyout",
       "png": "[encoded data removed]",
       "prompt_number": 48,
       "text": [
        "0"
       ]
      }
     ],
     "prompt_number": 48
    },
    {
     "cell_type": "code",
     "collapsed": false,
     "input": [],
     "language": "python",
     "metadata": {},
     "outputs": []
    }
   ],
   "metadata": {}
  }
 ]
}